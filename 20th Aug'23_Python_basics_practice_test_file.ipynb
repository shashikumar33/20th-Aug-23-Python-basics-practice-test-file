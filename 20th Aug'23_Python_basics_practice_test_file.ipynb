{
 "cells": [
  {
   "cell_type": "code",
   "execution_count": 1,
   "id": "986abf0e-584f-414b-9a66-b70f97939b26",
   "metadata": {},
   "outputs": [
    {
     "data": {
      "text/plain": [
       "'1. Write a program to reverse a string'"
      ]
     },
     "execution_count": 1,
     "metadata": {},
     "output_type": "execute_result"
    }
   ],
   "source": [
    "'''1. Write a program to reverse a string'''"
   ]
  },
  {
   "cell_type": "code",
   "execution_count": 9,
   "id": "4c8db23a-f3c8-467c-84a6-a4f8e4d7b5c5",
   "metadata": {},
   "outputs": [],
   "source": [
    "string = \"pwskills\"\n",
    "reverse_string = string[::-1]"
   ]
  },
  {
   "cell_type": "code",
   "execution_count": 10,
   "id": "97aa6f54-662d-45a6-a977-6c838240504e",
   "metadata": {},
   "outputs": [
    {
     "data": {
      "text/plain": [
       "'sllikswp'"
      ]
     },
     "execution_count": 10,
     "metadata": {},
     "output_type": "execute_result"
    }
   ],
   "source": [
    "reverse_string"
   ]
  },
  {
   "cell_type": "code",
   "execution_count": 12,
   "id": "89ab132f-359c-4052-bf16-e0a43effbbbf",
   "metadata": {},
   "outputs": [
    {
     "data": {
      "text/plain": [
       "'2. Check if a string is a palindrome.'"
      ]
     },
     "execution_count": 12,
     "metadata": {},
     "output_type": "execute_result"
    }
   ],
   "source": [
    "'2. Check if a string is a palindrome.'"
   ]
  },
  {
   "cell_type": "code",
   "execution_count": 16,
   "id": "64bd827c-ea45-4429-9b36-fbac142c2aac",
   "metadata": {},
   "outputs": [
    {
     "name": "stdin",
     "output_type": "stream",
     "text": [
      "  Mom\n"
     ]
    },
    {
     "name": "stdout",
     "output_type": "stream",
     "text": [
      "the given string is palindrome\n"
     ]
    }
   ],
   "source": [
    "string = input()\n",
    "string = string.lower() .replace(\" \",\"\")\n",
    "if string == string[::-1] :\n",
    "    print(\"the given string is palindrome\")\n",
    "else:\n",
    "    print(\"the string is not a palindrome\")"
   ]
  },
  {
   "cell_type": "code",
   "execution_count": 17,
   "id": "302e0412-4149-498f-ab6e-dfa748ea7bdf",
   "metadata": {},
   "outputs": [
    {
     "data": {
      "text/plain": [
       "'3. Convert a string to uppercase.'"
      ]
     },
     "execution_count": 17,
     "metadata": {},
     "output_type": "execute_result"
    }
   ],
   "source": [
    "'''3. Convert a string to uppercase.'''"
   ]
  },
  {
   "cell_type": "code",
   "execution_count": 19,
   "id": "7e61ca3f-32e4-4fc9-a8d6-cdc2aaf54adf",
   "metadata": {},
   "outputs": [
    {
     "name": "stdin",
     "output_type": "stream",
     "text": [
      " i am a student of pwskills\n"
     ]
    },
    {
     "name": "stdout",
     "output_type": "stream",
     "text": [
      " the upper case of given string are  I AM A STUDENT OF PWSKILLS\n"
     ]
    }
   ],
   "source": [
    "string = input()\n",
    "string = string.upper()\n",
    "print(\" the upper case of given string are \", string)"
   ]
  },
  {
   "cell_type": "code",
   "execution_count": 20,
   "id": "242854e0-75be-494f-b38e-2e88eb985458",
   "metadata": {},
   "outputs": [
    {
     "data": {
      "text/plain": [
       "'4. Convert a string to lowercase.'"
      ]
     },
     "execution_count": 20,
     "metadata": {},
     "output_type": "execute_result"
    }
   ],
   "source": [
    "'4. Convert a string to lowercase.'"
   ]
  },
  {
   "cell_type": "code",
   "execution_count": 22,
   "id": "bf836301-643e-4d2a-b86c-16fa15734eee",
   "metadata": {},
   "outputs": [
    {
     "name": "stdin",
     "output_type": "stream",
     "text": [
      " I AM A STUDENT OF PWSKILLS\n"
     ]
    },
    {
     "name": "stdout",
     "output_type": "stream",
     "text": [
      " the lower case of given string are  i am a student of pwskills\n"
     ]
    }
   ],
   "source": [
    "string = input()\n",
    "string = string.lower()\n",
    "print(\" the lower case of given string are \", string)"
   ]
  },
  {
   "cell_type": "code",
   "execution_count": 23,
   "id": "5ce1240e-1147-469a-9e67-a97f0ede68a7",
   "metadata": {},
   "outputs": [
    {
     "data": {
      "text/plain": [
       "'5. Count the number of vowels in a string.'"
      ]
     },
     "execution_count": 23,
     "metadata": {},
     "output_type": "execute_result"
    }
   ],
   "source": [
    "'5. Count the number of vowels in a string.'"
   ]
  },
  {
   "cell_type": "code",
   "execution_count": 25,
   "id": "42144997-7fd9-4776-b713-da56ae6a4c55",
   "metadata": {},
   "outputs": [
    {
     "name": "stdin",
     "output_type": "stream",
     "text": [
      "write a string my name is shashi\n"
     ]
    },
    {
     "name": "stdout",
     "output_type": "stream",
     "text": [
      "total no of vowel in string are 5\n"
     ]
    }
   ],
   "source": [
    "string = input(\"write a string\")\n",
    "string = string.lower()\n",
    "vowel = 0\n",
    "for i in string :\n",
    "    if i in \"aeiou\" :\n",
    "        vowel+= 1\n",
    "print(\"total no of vowel in string are\",vowel)"
   ]
  },
  {
   "cell_type": "code",
   "execution_count": 26,
   "id": "200f5dd1-de7d-43b6-bc9d-75abdf824991",
   "metadata": {},
   "outputs": [
    {
     "data": {
      "text/plain": [
       "'6. Count the number of consonants in a string.'"
      ]
     },
     "execution_count": 26,
     "metadata": {},
     "output_type": "execute_result"
    }
   ],
   "source": [
    "'6. Count the number of consonants in a string.'"
   ]
  },
  {
   "cell_type": "code",
   "execution_count": 31,
   "id": "b72eaf20-6eb8-4613-b2ae-da41669075a2",
   "metadata": {},
   "outputs": [
    {
     "name": "stdin",
     "output_type": "stream",
     "text": [
      "write a string my name is shashi\n"
     ]
    },
    {
     "name": "stdout",
     "output_type": "stream",
     "text": [
      "total no of consonant in string are 9\n"
     ]
    }
   ],
   "source": [
    "string = input(\"write a string\")\n",
    "string = string.lower() .replace(\" \",\"\")\n",
    "consonant = 0\n",
    "for i in string :\n",
    "    if  i not in \"aeiou\" :\n",
    "        consonant+= 1\n",
    "print(\"total no of consonant in string are\",consonant)"
   ]
  },
  {
   "cell_type": "code",
   "execution_count": 32,
   "id": "f6048964-e4d2-4b19-afbf-062f46d6b597",
   "metadata": {},
   "outputs": [
    {
     "data": {
      "text/plain": [
       "'7. Remove all whitespaces from a string.'"
      ]
     },
     "execution_count": 32,
     "metadata": {},
     "output_type": "execute_result"
    }
   ],
   "source": [
    "'7. Remove all whitespaces from a string.'"
   ]
  },
  {
   "cell_type": "code",
   "execution_count": 36,
   "id": "4e14bad0-3fab-4ee1-9c7d-7fe25b259f61",
   "metadata": {},
   "outputs": [
    {
     "name": "stdin",
     "output_type": "stream",
     "text": [
      "write a string =  i am student of pwskills\n"
     ]
    },
    {
     "name": "stdout",
     "output_type": "stream",
     "text": [
      " the given string without a whitespace is  iamstudentofpwskills\n"
     ]
    }
   ],
   "source": [
    "string = input(\"write a string = \")\n",
    "string = string.replace(\" \",\"\")\n",
    "print(\" the given string without a whitespace is \",string)"
   ]
  },
  {
   "cell_type": "code",
   "execution_count": 37,
   "id": "3272576f-d1d8-423e-8e4e-a4490b0aff6f",
   "metadata": {},
   "outputs": [
    {
     "data": {
      "text/plain": [
       "'8. Find the length of a string without using the `len()` function.'"
      ]
     },
     "execution_count": 37,
     "metadata": {},
     "output_type": "execute_result"
    }
   ],
   "source": [
    "'8. Find the length of a string without using the `len()` function.'"
   ]
  },
  {
   "cell_type": "code",
   "execution_count": 40,
   "id": "2ad3aef2-34d0-454e-9ee6-1387eb8933ec",
   "metadata": {},
   "outputs": [
    {
     "name": "stdin",
     "output_type": "stream",
     "text": [
      "input a string MY name is shashi\n"
     ]
    },
    {
     "name": "stdout",
     "output_type": "stream",
     "text": [
      " the length of string are  14\n"
     ]
    }
   ],
   "source": [
    "string = input(\"input a string\")\n",
    "string = string.replace(\" \",\"\")\n",
    "length = 0\n",
    "for i in string:\n",
    "    if i in string : \n",
    "        length+=1\n",
    "        \n",
    "print(\" the length of string are \" , length)"
   ]
  },
  {
   "cell_type": "code",
   "execution_count": 41,
   "id": "29443e04-d112-4809-8c79-f108066a2381",
   "metadata": {},
   "outputs": [
    {
     "data": {
      "text/plain": [
       "'9. Check if a string contains a specific word'"
      ]
     },
     "execution_count": 41,
     "metadata": {},
     "output_type": "execute_result"
    }
   ],
   "source": [
    "'9. Check if a string contains a specific word'"
   ]
  },
  {
   "cell_type": "code",
   "execution_count": 2,
   "id": "c068ba3a-3ef4-48c4-bf4a-3c34322bda62",
   "metadata": {},
   "outputs": [
    {
     "name": "stdin",
     "output_type": "stream",
     "text": [
      "enter a string I am a student of pwskills\n",
      "enter a word for search pwskills\n"
     ]
    },
    {
     "name": "stdout",
     "output_type": "stream",
     "text": [
      "yes string contain a specfic word\n"
     ]
    }
   ],
   "source": [
    "input_string = input(\"enter a string\")\n",
    "search_word = input(\"enter a word for search\")\n",
    "if search_word in input_string :\n",
    "    print(\"yes string contain a specfic word\")\n",
    "else:\n",
    "    print(\"not contain a specific word\")"
   ]
  },
  {
   "cell_type": "code",
   "execution_count": 3,
   "id": "80351994-2316-41e9-8a8e-1a4a231aa56f",
   "metadata": {},
   "outputs": [
    {
     "data": {
      "text/plain": [
       "'10. Replace a word in a string with another word.'"
      ]
     },
     "execution_count": 3,
     "metadata": {},
     "output_type": "execute_result"
    }
   ],
   "source": [
    "'10. Replace a word in a string with another word.'"
   ]
  },
  {
   "cell_type": "code",
   "execution_count": 1,
   "id": "596c62a4-6f87-4a18-8146-b670d5cce91b",
   "metadata": {},
   "outputs": [
    {
     "name": "stdin",
     "output_type": "stream",
     "text": [
      "enter a string =  hello world\n",
      "enter the replace word = world\n",
      "enter a new word pwskills\n"
     ]
    },
    {
     "name": "stdout",
     "output_type": "stream",
     "text": [
      " the new sentence is  hello pwskills\n"
     ]
    }
   ],
   "source": [
    "\n",
    "string = input (\"enter a string = \")\n",
    "replace_word = input(\"enter the replace word =\")\n",
    "new_word = input(\"enter a new word\")\n",
    "modified_string = string.replace(replace_word ,new_word)\n",
    "print(\" the new sentence is \" , modified_string)\n"
   ]
  },
  {
   "cell_type": "code",
   "execution_count": 25,
   "id": "8a77f90f-c1ac-4ce7-9a82-8a6a65d2875a",
   "metadata": {},
   "outputs": [
    {
     "data": {
      "text/plain": [
       "'11. Count the occurrences of a word in a string.'"
      ]
     },
     "execution_count": 25,
     "metadata": {},
     "output_type": "execute_result"
    }
   ],
   "source": [
    "'11. Count the occurrences of a word in a string.'"
   ]
  },
  {
   "cell_type": "code",
   "execution_count": 7,
   "id": "cc16cdab-a84f-4859-aa8b-c8b22791090c",
   "metadata": {},
   "outputs": [
    {
     "name": "stdout",
     "output_type": "stream",
     "text": [
      "The word 'sample' appears 2 times in the input string.\n"
     ]
    }
   ],
   "source": [
    "def count_occurrence_word(input_string, word_to_count):\n",
    "    input_string = input_string.lower()\n",
    "    word_to_count = word_to_count.lower()\n",
    "    \n",
    "    count = input_string.count(word_to_count)\n",
    "    \n",
    "    return  count\n",
    "\n",
    "input_string = \"this is a sample string . this string contain the word sample multiple times \"\n",
    "word_to_count = \"sample\"\n",
    "result = count_occurrence_word(input_string, word_to_count)\n",
    "print(f\"The word '{word_to_count}' appears {result} times in the input string.\")"
   ]
  },
  {
   "cell_type": "code",
   "execution_count": 8,
   "id": "f40d66f1-7a0b-463a-b741-2c04fbac5f47",
   "metadata": {},
   "outputs": [
    {
     "data": {
      "text/plain": [
       "'12. Find the first occurrence of a word in a string.'"
      ]
     },
     "execution_count": 8,
     "metadata": {},
     "output_type": "execute_result"
    }
   ],
   "source": [
    "\"12. Find the first occurrence of a word in a string.\""
   ]
  },
  {
   "cell_type": "code",
   "execution_count": 26,
   "id": "9cb0928a-d97b-485a-aa5c-85cf33133bae",
   "metadata": {},
   "outputs": [
    {
     "name": "stdout",
     "output_type": "stream",
     "text": [
      "Index of the first occurrence: 11\n"
     ]
    }
   ],
   "source": [
    "def first_occurrence_word(text,word):\n",
    "    index = text.find(word)\n",
    "    \n",
    "    if index == -1 :\n",
    "        return none\n",
    "    return index\n",
    "text = \"This is an example sentence. This sentence contains the word example.\"\n",
    "word = \"example\"\n",
    "result = first_occurrence_word(text, word)\n",
    "print(\"Index of the first occurrence:\", result)\n",
    "    "
   ]
  },
  {
   "cell_type": "code",
   "execution_count": 27,
   "id": "de3571c2-640c-405e-be53-cfdd3e8fcd1c",
   "metadata": {},
   "outputs": [
    {
     "data": {
      "text/plain": [
       "'13. Find the last occurrence of a word in a string.'"
      ]
     },
     "execution_count": 27,
     "metadata": {},
     "output_type": "execute_result"
    }
   ],
   "source": [
    "'13. Find the last occurrence of a word in a string.'"
   ]
  },
  {
   "cell_type": "code",
   "execution_count": 30,
   "id": "e6d03ff8-387c-4a4a-b7dc-cb4d14228df9",
   "metadata": {},
   "outputs": [
    {
     "name": "stdout",
     "output_type": "stream",
     "text": [
      "Index of last occurrence 66\n"
     ]
    }
   ],
   "source": [
    "def last_occurrence_word(text,word):\n",
    "    index = text.rfind(word)\n",
    "    \n",
    "    if index == -1:\n",
    "        return none\n",
    "    return index\n",
    "text = \"This is an example sentence. This sentence also contains the word example. \"\n",
    "word = \"example\"\n",
    "print(\"Index of last occurrence\",last_occurrence_word(text,word))"
   ]
  },
  {
   "cell_type": "code",
   "execution_count": 1,
   "id": "aafe703c-ed33-4f70-ba26-71cdbb3fce07",
   "metadata": {},
   "outputs": [
    {
     "data": {
      "text/plain": [
       "' 14. Split a string into a list of words '"
      ]
     },
     "execution_count": 1,
     "metadata": {},
     "output_type": "execute_result"
    }
   ],
   "source": [
    "' 14. Split a string into a list of words '"
   ]
  },
  {
   "cell_type": "code",
   "execution_count": 4,
   "id": "6e537e26-2959-4882-a247-b755d66c4a17",
   "metadata": {},
   "outputs": [
    {
     "name": "stdin",
     "output_type": "stream",
     "text": [
      "enter a string = this is a sample code\n"
     ]
    },
    {
     "name": "stdout",
     "output_type": "stream",
     "text": [
      "the list of a given string  ['this', 'is', 'a', 'sample', 'code']\n"
     ]
    }
   ],
   "source": [
    "string = input(\"enter a string =\")\n",
    "string_list = string.split()\n",
    "print (\"the list of a given string \", string_list)\n"
   ]
  },
  {
   "cell_type": "code",
   "execution_count": 5,
   "id": "39d60a4a-8573-4736-b0d8-cb78ddf6551f",
   "metadata": {},
   "outputs": [
    {
     "data": {
      "text/plain": [
       "'15. Join a list of words into a string'"
      ]
     },
     "execution_count": 5,
     "metadata": {},
     "output_type": "execute_result"
    }
   ],
   "source": [
    "'15. Join a list of words into a string'"
   ]
  },
  {
   "cell_type": "code",
   "execution_count": 3,
   "id": "5b006c9b-0c81-4542-9821-6c0752ca6981",
   "metadata": {},
   "outputs": [
    {
     "name": "stdout",
     "output_type": "stream",
     "text": [
      "my  name  is  shashi \n"
     ]
    }
   ],
   "source": [
    "word_list = [\"my \",\"name \",\"is \",\"shashi \" ]\n",
    "string = \" \".join(word_list)\n",
    "print (string)\n"
   ]
  },
  {
   "cell_type": "code",
   "execution_count": 15,
   "id": "65f6cb79-ed98-4d08-b4b5-444983e2681a",
   "metadata": {},
   "outputs": [
    {
     "data": {
      "text/plain": [
       "'16. Convert a string where words are separated by spaces to one where words\\nare separated by underscores.'"
      ]
     },
     "execution_count": 15,
     "metadata": {},
     "output_type": "execute_result"
    }
   ],
   "source": [
    "'''16. Convert a string where words are separated by spaces to one where words\n",
    "are separated by underscores.'''"
   ]
  },
  {
   "cell_type": "code",
   "execution_count": 2,
   "id": "d82cefa4-3159-4260-a9f6-79d1045fd5a6",
   "metadata": {},
   "outputs": [
    {
     "name": "stdout",
     "output_type": "stream",
     "text": [
      "this_is_a_sample_sentence\n"
     ]
    }
   ],
   "source": [
    "input_string = (\"this is a sample sentence\")\n",
    "word = input_string.replace(\" \",\"_\")\n",
    "print (word)"
   ]
  },
  {
   "cell_type": "code",
   "execution_count": 3,
   "id": "4be3663a-9a99-432b-9908-6d19128b17dd",
   "metadata": {},
   "outputs": [
    {
     "data": {
      "text/plain": [
       "' 17. Check if a string starts with a specific word or phrase. '"
      ]
     },
     "execution_count": 3,
     "metadata": {},
     "output_type": "execute_result"
    }
   ],
   "source": [
    "' 17. Check if a string starts with a specific word or phrase. '"
   ]
  },
  {
   "cell_type": "code",
   "execution_count": 5,
   "id": "f26a0754-4b17-489e-b876-910c44d930d7",
   "metadata": {},
   "outputs": [
    {
     "name": "stdin",
     "output_type": "stream",
     "text": [
      "enter a string =  Pwskills give a best oppertunity for a student\n",
      "enter a word or phrase =  Pwskills\n"
     ]
    },
    {
     "name": "stdout",
     "output_type": "stream",
     "text": [
      "Yes the given string start with specific word \n"
     ]
    }
   ],
   "source": [
    "input_string = input(\"enter a string = \")\n",
    "specific_word = input(\"enter a word or phrase = \")\n",
    "if input_string.startswith(specific_word) :\n",
    "    print( \"Yes the given string start with specific word \")\n",
    "else :\n",
    "    print(\"Not start with a specific word \")"
   ]
  },
  {
   "cell_type": "code",
   "execution_count": 6,
   "id": "664c154f-77d7-4d70-9d60-e0b95aaf1179",
   "metadata": {},
   "outputs": [
    {
     "data": {
      "text/plain": [
       "'18. Check if a string ends with a specific word or phrase.'"
      ]
     },
     "execution_count": 6,
     "metadata": {},
     "output_type": "execute_result"
    }
   ],
   "source": [
    "\"18. Check if a string ends with a specific word or phrase.\""
   ]
  },
  {
   "cell_type": "code",
   "execution_count": 7,
   "id": "68d10f94-ff1e-40ff-9cc4-26a2c2a2399f",
   "metadata": {},
   "outputs": [
    {
     "name": "stdin",
     "output_type": "stream",
     "text": [
      "enter a string =  i am a student of pwskills\n",
      "enter a word or phrase =  pwskills\n"
     ]
    },
    {
     "name": "stdout",
     "output_type": "stream",
     "text": [
      "Yes the given string end with specific word \n"
     ]
    }
   ],
   "source": [
    "input_string = input(\"enter a string = \")\n",
    "specific_word = input(\"enter a word or phrase = \")\n",
    "if input_string.endswith(specific_word) :\n",
    "    print( \"Yes the given string end with specific word \")\n",
    "else :\n",
    "    print(\"Not end with a specific word \")"
   ]
  },
  {
   "cell_type": "code",
   "execution_count": 9,
   "id": "216e53b8-b855-45ab-b256-2263dcd04b39",
   "metadata": {},
   "outputs": [
    {
     "data": {
      "text/plain": [
       "'19. Convert a string to title case (e.g., \"hello world\" to \"Hello World\").'"
      ]
     },
     "execution_count": 9,
     "metadata": {},
     "output_type": "execute_result"
    }
   ],
   "source": [
    "'19. Convert a string to title case (e.g., \"hello world\" to \"Hello World\").'"
   ]
  },
  {
   "cell_type": "code",
   "execution_count": 7,
   "id": "0cbff30c-1050-4d7c-b2af-d5a7a48ab9ac",
   "metadata": {},
   "outputs": [
    {
     "name": "stdout",
     "output_type": "stream",
     "text": [
      "Hello World\n"
     ]
    }
   ],
   "source": [
    "def title_case(string):\n",
    "    \n",
    "    string = \"hello world\"\n",
    "    title_string = string.title()\n",
    "    return title_string\n",
    "result = title_case(string)\n",
    "print(result)\n"
   ]
  },
  {
   "cell_type": "code",
   "execution_count": 12,
   "id": "76419680-9f74-4947-be57-b372b1472e94",
   "metadata": {},
   "outputs": [
    {
     "data": {
      "text/plain": [
       "'20. Find the longest word in a string.'"
      ]
     },
     "execution_count": 12,
     "metadata": {},
     "output_type": "execute_result"
    }
   ],
   "source": [
    "'20. Find the longest word in a string.'"
   ]
  },
  {
   "cell_type": "code",
   "execution_count": 9,
   "id": "28f87c35-47d8-40fb-a018-826203639002",
   "metadata": {},
   "outputs": [
    {
     "name": "stdin",
     "output_type": "stream",
     "text": [
      "enter a string my name is shashi\n"
     ]
    },
    {
     "name": "stdout",
     "output_type": "stream",
     "text": [
      "the longest word is  shashi\n"
     ]
    }
   ],
   "source": [
    "string = input(\"enter a string\")\n",
    "words = string.split()\n",
    "longest_word=\"\"\n",
    "max_length = 0\n",
    "\n",
    "for word in words :\n",
    "    word = word.strip('.,!?\":;')\n",
    "    \n",
    "    if len(word) > max_length:\n",
    "        max_length = len(word)\n",
    "        longest_word = word\n",
    "print (\"the longest word is \" , longest_word )"
   ]
  },
  {
   "cell_type": "code",
   "execution_count": 1,
   "id": "4fe0d7b5-6b91-49a4-9a20-f740da7b1233",
   "metadata": {},
   "outputs": [
    {
     "data": {
      "text/plain": [
       "' 21. Find the shortest word in a string. '"
      ]
     },
     "execution_count": 1,
     "metadata": {},
     "output_type": "execute_result"
    }
   ],
   "source": [
    "' 21. Find the shortest word in a string. '"
   ]
  },
  {
   "cell_type": "code",
   "execution_count": 3,
   "id": "c35d75d3-5536-4d3c-95c5-7d6429b1aba4",
   "metadata": {},
   "outputs": [
    {
     "name": "stdout",
     "output_type": "stream",
     "text": [
      "the shortest word is =  a\n"
     ]
    }
   ],
   "source": [
    "def find_shortest_word(text):\n",
    "    words = text.split()\n",
    "    shortest_word = None\n",
    "    min_length = float('inf')\n",
    "    for word in words:\n",
    "        if len(word) < min_length :\n",
    "            min_length = len(word)\n",
    "            shortest_word = word\n",
    "    return shortest_word\n",
    "text = \"this is a sample sentence\"\n",
    "shortest_word = find_shortest_word(text)\n",
    "print (\"the shortest word is = \" , shortest_word)\n",
    "    \n",
    "            "
   ]
  },
  {
   "cell_type": "code",
   "execution_count": 6,
   "id": "f483d337-0a07-4453-bb56-4a1bc58f0f76",
   "metadata": {},
   "outputs": [
    {
     "data": {
      "text/plain": [
       "' 22. Reverse the order of words in a string '"
      ]
     },
     "execution_count": 6,
     "metadata": {},
     "output_type": "execute_result"
    }
   ],
   "source": [
    "' 22. Reverse the order of words in a string '"
   ]
  },
  {
   "cell_type": "code",
   "execution_count": 12,
   "id": "d6623ebd-2fc3-485e-a3e1-952cd2544662",
   "metadata": {},
   "outputs": [
    {
     "name": "stdout",
     "output_type": "stream",
     "text": [
      "Reverse order of string is = world hello\n"
     ]
    }
   ],
   "source": [
    "def reverse_string(string):\n",
    "    words = string.split()\n",
    "    reverse_words = words[::-1]\n",
    "    reversed_string= \" \".join(reverse_words)\n",
    "    return reversed_string\n",
    "string =\" hello world \"\n",
    "result = reverse_string(string)\n",
    "print( \"Reverse order of string is =\" , result )"
   ]
  },
  {
   "cell_type": "code",
   "execution_count": 13,
   "id": "872ddff7-4650-4124-b9fa-9b9a3e669f5e",
   "metadata": {},
   "outputs": [
    {
     "data": {
      "text/plain": [
       "' 23. Check if a string is alphanumeric.'"
      ]
     },
     "execution_count": 13,
     "metadata": {},
     "output_type": "execute_result"
    }
   ],
   "source": [
    "' 23. Check if a string is alphanumeric.'"
   ]
  },
  {
   "cell_type": "code",
   "execution_count": 10,
   "id": "4f83ea75-567d-4f12-b4e8-747604033b12",
   "metadata": {},
   "outputs": [
    {
     "name": "stdout",
     "output_type": "stream",
     "text": [
      "this is alphanumeric\n"
     ]
    }
   ],
   "source": [
    "def is_alphanumeric(text):\n",
    "     return text.isalnum()\n",
    "\n",
    "text = \"hello12\"\n",
    "\n",
    "if is_alphanumeric(text):\n",
    "    print(\"this is alphanumeric\")\n",
    "else:\n",
    "    print(\"no, this is not alphanumeric\")\n"
   ]
  },
  {
   "cell_type": "code",
   "execution_count": 30,
   "id": "ca6116f4-bcc6-416b-a30d-c46b257e1dac",
   "metadata": {},
   "outputs": [
    {
     "data": {
      "text/plain": [
       "' 24. Extract all digits from a string '"
      ]
     },
     "execution_count": 30,
     "metadata": {},
     "output_type": "execute_result"
    }
   ],
   "source": [
    "\" 24. Extract all digits from a string \""
   ]
  },
  {
   "cell_type": "code",
   "execution_count": 34,
   "id": "33ad5875-39fa-433a-ae7f-59b64b502f8a",
   "metadata": {},
   "outputs": [
    {
     "name": "stdout",
     "output_type": "stream",
     "text": [
      "the digit from a string =  123456\n"
     ]
    }
   ],
   "source": [
    "def extract_digit(text):\n",
    "    digits = \"\"\n",
    "    for char in text :\n",
    "        if char.isdigit():\n",
    "            digits += char\n",
    "    return digits\n",
    "text = \"hello123world456\"\n",
    "result = extract_digit(text)\n",
    "print(\"the digit from a string = \" , result)\n",
    "        "
   ]
  },
  {
   "cell_type": "code",
   "execution_count": 35,
   "id": "cba23bf4-adc3-44b0-9abe-e34dcb130e88",
   "metadata": {},
   "outputs": [
    {
     "data": {
      "text/plain": [
       "' 25. Extract all alphabets from a string. '"
      ]
     },
     "execution_count": 35,
     "metadata": {},
     "output_type": "execute_result"
    }
   ],
   "source": [
    "\" 25. Extract all alphabets from a string. \" "
   ]
  },
  {
   "cell_type": "code",
   "execution_count": 1,
   "id": "cb08fcd0-f139-4ab5-a897-e896a72dfb06",
   "metadata": {},
   "outputs": [
    {
     "name": "stdout",
     "output_type": "stream",
     "text": [
      "helloworld\n"
     ]
    }
   ],
   "source": [
    "def extract_alpha(text):\n",
    "    alphabet = \"\"\n",
    "    for char in text :\n",
    "        if char.isalpha():\n",
    "            alphabet += char\n",
    "    return alphabet\n",
    "text = \"hello123world456\"\n",
    "result = extract_alpha(text)\n",
    "print (result)"
   ]
  },
  {
   "cell_type": "code",
   "execution_count": 2,
   "id": "03f963f8-449f-458a-b098-2e0c23a2c04b",
   "metadata": {},
   "outputs": [
    {
     "data": {
      "text/plain": [
       "' 26. Count the number of uppercase letters in a string '"
      ]
     },
     "execution_count": 2,
     "metadata": {},
     "output_type": "execute_result"
    }
   ],
   "source": [
    "\" 26. Count the number of uppercase letters in a string \""
   ]
  },
  {
   "cell_type": "code",
   "execution_count": 6,
   "id": "408da7be-0ba2-460c-ad1a-486246d968e0",
   "metadata": {},
   "outputs": [
    {
     "name": "stdout",
     "output_type": "stream",
     "text": [
      "2\n"
     ]
    }
   ],
   "source": [
    "def uppercase_letter(string):\n",
    "    count_uppercase = 0 \n",
    "    for char in string : \n",
    "        if char .isupper():\n",
    "            count_uppercase += 1\n",
    "    return count_uppercase\n",
    "string =\"Hello World\"\n",
    "result =uppercase_letter(string)\n",
    "print(result)"
   ]
  },
  {
   "cell_type": "code",
   "execution_count": 7,
   "id": "bde369ad-2d59-4af2-9119-62ca5e756eeb",
   "metadata": {},
   "outputs": [
    {
     "data": {
      "text/plain": [
       "' 27. Count the number of lowercase letters in a string. '"
      ]
     },
     "execution_count": 7,
     "metadata": {},
     "output_type": "execute_result"
    }
   ],
   "source": [
    "\" 27. Count the number of lowercase letters in a string. \""
   ]
  },
  {
   "cell_type": "code",
   "execution_count": 9,
   "id": "b4e11647-b63e-4141-a6ec-3ab30c139a78",
   "metadata": {},
   "outputs": [
    {
     "name": "stdout",
     "output_type": "stream",
     "text": [
      "8\n"
     ]
    }
   ],
   "source": [
    "def lowercase_letter(string):\n",
    "    string.replace(\" \",\"\")\n",
    "    count_lowercase= 0 \n",
    "    for char in string : \n",
    "        if char .islower():\n",
    "            count_lowercase += 1\n",
    "    return count_lowercase\n",
    "string =\"Hello World\"\n",
    "result =lowercase_letter(string)\n",
    "print(result)"
   ]
  },
  {
   "cell_type": "code",
   "execution_count": 10,
   "id": "f88d6858-7930-481e-bbec-b092a520f059",
   "metadata": {},
   "outputs": [
    {
     "data": {
      "text/plain": [
       "' 28. Swap the case of each character in a string '"
      ]
     },
     "execution_count": 10,
     "metadata": {},
     "output_type": "execute_result"
    }
   ],
   "source": [
    "\" 28. Swap the case of each character in a string \" "
   ]
  },
  {
   "cell_type": "code",
   "execution_count": 3,
   "id": "33c4962a-e561-4a3d-b7f5-c903df985b0f",
   "metadata": {},
   "outputs": [
    {
     "name": "stdout",
     "output_type": "stream",
     "text": [
      "hElLo wOrLd\n"
     ]
    }
   ],
   "source": [
    "def swap_character(input_string):\n",
    "    swaped_string = input_string.swapcase()\n",
    "    return swaped_string\n",
    "input_string = \"HeLlO WoRlD\"\n",
    "result = swap_character(input_string)\n",
    "print(result)"
   ]
  },
  {
   "cell_type": "code",
   "execution_count": 8,
   "id": "739d09ea-a96b-4c75-8329-6f357aac9f8b",
   "metadata": {},
   "outputs": [
    {
     "data": {
      "text/plain": [
       "' 29. Remove a specific word from a string '"
      ]
     },
     "execution_count": 8,
     "metadata": {},
     "output_type": "execute_result"
    }
   ],
   "source": [
    "' 29. Remove a specific word from a string ' "
   ]
  },
  {
   "cell_type": "code",
   "execution_count": 9,
   "id": "37c018ec-eecb-43e9-9fde-d10ebdff810d",
   "metadata": {},
   "outputs": [
    {
     "name": "stdout",
     "output_type": "stream",
     "text": [
      " i am a student of \n"
     ]
    }
   ],
   "source": [
    "def replace_word(input_string , remove_word):\n",
    "    string = input_string.replace(remove_word,\"\")\n",
    "    return string\n",
    "input_string = \" i am a student of pwskills\"\n",
    "remove_word = \"pwskills\"\n",
    "result = replace_word(input_string , remove_word)\n",
    "print (result)"
   ]
  },
  {
   "cell_type": "code",
   "execution_count": 10,
   "id": "45068ffe-719c-4409-962a-18dbb143210c",
   "metadata": {},
   "outputs": [
    {
     "data": {
      "text/plain": [
       "' 30. Check if a string is a valid email address '"
      ]
     },
     "execution_count": 10,
     "metadata": {},
     "output_type": "execute_result"
    }
   ],
   "source": [
    "' 30. Check if a string is a valid email address '"
   ]
  },
  {
   "cell_type": "code",
   "execution_count": 15,
   "id": "c0db5d3d-2aab-42c6-a9cc-99946718569b",
   "metadata": {},
   "outputs": [
    {
     "name": "stdin",
     "output_type": "stream",
     "text": [
      "enter a email address pwskill@gmail.com\n"
     ]
    },
    {
     "name": "stdout",
     "output_type": "stream",
     "text": [
      " this is a valid e_mail_id\n"
     ]
    }
   ],
   "source": [
    "import re \n",
    "def check_email_id():\n",
    "    email = input(\"enter a email address\")\n",
    "    matched = r'^[a-zA-Z0-9.%+-]+@[a-zA-Z0-9._]+\\.[a-zA-Z]{2,}$'\n",
    "   \n",
    "    if re.match(matched,email):\n",
    "        return True\n",
    "    else:\n",
    "        return False\n",
    "if check_email_id() :\n",
    "    print(\" this is a valid e_mail_id\")\n",
    "else:\n",
    "    print(\" this is not a valid e_mail_id\")\n"
   ]
  },
  {
   "cell_type": "code",
   "execution_count": 16,
   "id": "1af28b70-b45f-40c0-8faa-693331727746",
   "metadata": {},
   "outputs": [
    {
     "data": {
      "text/plain": [
       "'31. Extract the username from an email address string. '"
      ]
     },
     "execution_count": 16,
     "metadata": {},
     "output_type": "execute_result"
    }
   ],
   "source": [
    "\"31. Extract the username from an email address string. \""
   ]
  },
  {
   "cell_type": "code",
   "execution_count": 2,
   "id": "4ec795d4-db84-4b9a-b053-7728a26bf008",
   "metadata": {},
   "outputs": [
    {
     "name": "stdin",
     "output_type": "stream",
     "text": [
      "enter a email id  dfjk234@gmail.com\n"
     ]
    },
    {
     "name": "stdout",
     "output_type": "stream",
     "text": [
      "the user name from e_mail adress is dfjk234\n"
     ]
    }
   ],
   "source": [
    "import re\n",
    "def extract_username():\n",
    "    email = input(\"enter a email id \")\n",
    "    pattern = r'([a-zA-Z0-9]+)'\n",
    "    match = re.search(pattern,email)\n",
    "    if match :\n",
    "        return match.group(1)\n",
    "    else :\n",
    "        return None\n",
    "username = extract_username()\n",
    "if username :\n",
    "    print (\"the user name from e_mail adress is\" , username)\n",
    "else :\n",
    "    print(\"no user name\")"
   ]
  },
  {
   "cell_type": "code",
   "execution_count": 3,
   "id": "70103312-83cf-4eb8-ad11-94bacb3353dc",
   "metadata": {},
   "outputs": [
    {
     "data": {
      "text/plain": [
       "' 32. Extract the domain name from an email address string. '"
      ]
     },
     "execution_count": 3,
     "metadata": {},
     "output_type": "execute_result"
    }
   ],
   "source": [
    "\" 32. Extract the domain name from an email address string. \""
   ]
  },
  {
   "cell_type": "code",
   "execution_count": 10,
   "id": "123e1cb6-0a02-4aaf-9477-ead4abe0a7c4",
   "metadata": {},
   "outputs": [
    {
     "name": "stdout",
     "output_type": "stream",
     "text": [
      "the domain of e_mali is = gmail.com\n"
     ]
    }
   ],
   "source": [
    "import re\n",
    "def extract_domain_from_email(email):\n",
    "    pattern = r'@([\\w.]+)'\n",
    "    match = re.search(pattern,email)\n",
    "    if match :\n",
    "        return match.group(1)\n",
    "    else:\n",
    "        None\n",
    "        \n",
    "email =\"shashi123@gmail.com\"\n",
    "domain = extract_domain_from_email(email)\n",
    "if domain :\n",
    "    print(\"the domain of e_mali is =\",domain)\n",
    "else:\n",
    "    print(\"no domain\")\n",
    "        \n",
    "    "
   ]
  },
  {
   "cell_type": "code",
   "execution_count": 11,
   "id": "44c88071-6d73-4a9d-afe4-8a8f1942aa07",
   "metadata": {},
   "outputs": [
    {
     "data": {
      "text/plain": [
       "' 33. Replace multiple spaces in a string with a single space. '"
      ]
     },
     "execution_count": 11,
     "metadata": {},
     "output_type": "execute_result"
    }
   ],
   "source": [
    "' 33. Replace multiple spaces in a string with a single space. '"
   ]
  },
  {
   "cell_type": "code",
   "execution_count": 16,
   "id": "e2dac126-f5c3-4cb7-8343-cc83d3df3a09",
   "metadata": {},
   "outputs": [
    {
     "name": "stdout",
     "output_type": "stream",
     "text": [
      "the cleaned string is =   my name is shashi \n"
     ]
    }
   ],
   "source": [
    "import re\n",
    "def replace_multispace_with_singlespace(string):\n",
    "    match = re.sub(r'\\s+',' ',string)\n",
    "    return match\n",
    "string =\" my      name     is   shashi \"\n",
    "cleaned_string = replace_multispace_with_singlespace(string)\n",
    "\n",
    "print (\"the cleaned string is = \",cleaned_string)\n",
    "    "
   ]
  },
  {
   "cell_type": "code",
   "execution_count": 17,
   "id": "54a918dc-340d-448e-b1db-941e31a3a9a0",
   "metadata": {},
   "outputs": [
    {
     "data": {
      "text/plain": [
       "' 34. Check if a string is a valid URL. '"
      ]
     },
     "execution_count": 17,
     "metadata": {},
     "output_type": "execute_result"
    }
   ],
   "source": [
    "\" 34. Check if a string is a valid URL. \""
   ]
  },
  {
   "cell_type": "code",
   "execution_count": 8,
   "id": "640218d8-6a3b-4f6a-a9a6-1ac927f90354",
   "metadata": {},
   "outputs": [
    {
     "name": "stdout",
     "output_type": "stream",
     "text": [
      "yes this string is a URL\n"
     ]
    }
   ],
   "source": [
    "import re\n",
    "def valid_url(string):\n",
    "    pattern = r'(https?|ftp)://[^\\s/$.?#].[^\\s]*$'\n",
    "    match=re.search(pattern,string) \n",
    "    if match :\n",
    "        return match.group(1)\n",
    "    else:\n",
    "        None\n",
    "        \n",
    "string = \"http://gray-hairdresher-xdefg.pwskills.app/lab/tree/work/22th%20Aug'23_Python_basics_practice_test_file.ipynb\"\n",
    "url = valid_url(string)\n",
    "\n",
    "if url:\n",
    "    print(\"yes this string is a URL\")\n",
    "else:\n",
    "    print(\"not a URL\")"
   ]
  },
  {
   "cell_type": "code",
   "execution_count": 6,
   "id": "9fe7830e-ee86-4934-8175-09915c2669a4",
   "metadata": {},
   "outputs": [
    {
     "data": {
      "text/plain": [
       "' 35. Extract the protocol (http or https) from a URL string.'"
      ]
     },
     "execution_count": 6,
     "metadata": {},
     "output_type": "execute_result"
    }
   ],
   "source": [
    "\" 35. Extract the protocol (http or https) from a URL string.\""
   ]
  },
  {
   "cell_type": "code",
   "execution_count": 2,
   "id": "90d0d032-ba48-4023-8cbf-9b006d5c47ae",
   "metadata": {},
   "outputs": [
    {
     "name": "stdout",
     "output_type": "stream",
     "text": [
      "protocol https\n"
     ]
    }
   ],
   "source": [
    "import re\n",
    "def extract_protocol(string):\n",
    "    pattern = r'(https?)://'\n",
    "    match = re.search(pattern,string)\n",
    "    if match:\n",
    "        return match.group(1)\n",
    "    else:\n",
    "        return None\n",
    "    \n",
    "string=\"https://abc-xyz.com\"\n",
    "protocol = extract_protocol(string)\n",
    "if protocol:\n",
    "    print(\"protocol\",protocol)\n",
    "else:\n",
    "    None"
   ]
  },
  {
   "cell_type": "code",
   "execution_count": 9,
   "id": "4fabd9c3-2b68-4b62-b071-983c169bfa0d",
   "metadata": {},
   "outputs": [
    {
     "data": {
      "text/plain": [
       "' 36. Find the frequency of each character in a string.'"
      ]
     },
     "execution_count": 9,
     "metadata": {},
     "output_type": "execute_result"
    }
   ],
   "source": [
    "\" 36. Find the frequency of each character in a string.\""
   ]
  },
  {
   "cell_type": "code",
   "execution_count": 21,
   "id": "ad741a1e-d536-42ab-9d8a-e927d8e9ce37",
   "metadata": {},
   "outputs": [
    {
     "name": "stdout",
     "output_type": "stream",
     "text": [
      "'p': 1\n",
      "'w': 1\n",
      "'s': 2\n",
      "'k': 1\n",
      "'i': 1\n",
      "'l': 2\n"
     ]
    }
   ],
   "source": [
    "def frequency_string(input_string):\n",
    "    frequency={}\n",
    "    for char in input_string:\n",
    "        if char in frequency:\n",
    "            frequency[char] +=1\n",
    "        else :\n",
    "            frequency[char] = 1\n",
    "    return frequency\n",
    "\n",
    "input_string = \"pwskills\"\n",
    "frequency = frequency_string(input_string)\n",
    "\n",
    "for char,count in frequency.items():\n",
    "    print(f\"'{char}': {count}\")"
   ]
  },
  {
   "cell_type": "code",
   "execution_count": 22,
   "id": "f0769d9d-61f5-4de4-b7c2-e02e3002c2ac",
   "metadata": {},
   "outputs": [
    {
     "data": {
      "text/plain": [
       "' 37. Remove all punctuation from a string'"
      ]
     },
     "execution_count": 22,
     "metadata": {},
     "output_type": "execute_result"
    }
   ],
   "source": [
    "\" 37. Remove all punctuation from a string\""
   ]
  },
  {
   "cell_type": "code",
   "execution_count": 23,
   "id": "e7ba64eb-ea98-41f3-8a50-3157747a61c3",
   "metadata": {},
   "outputs": [
    {
     "name": "stdout",
     "output_type": "stream",
     "text": [
      "My name is shashi kumar and i am from ranchi \n"
     ]
    }
   ],
   "source": [
    "def remove_punctuation(string):\n",
    "    remove= string.replace('.','')\n",
    "    return remove\n",
    "string=\"My name is shashi kumar. and i am from ranchi. \"\n",
    "print(remove_punctuation(string))\n",
    "    "
   ]
  },
  {
   "cell_type": "code",
   "execution_count": 24,
   "id": "ec55d435-1bd8-4867-85ae-13d2f80682d3",
   "metadata": {},
   "outputs": [
    {
     "data": {
      "text/plain": [
       "' 38. Check if a string contains only digits. '"
      ]
     },
     "execution_count": 24,
     "metadata": {},
     "output_type": "execute_result"
    }
   ],
   "source": [
    "\" 38. Check if a string contains only digits. \""
   ]
  },
  {
   "cell_type": "code",
   "execution_count": 31,
   "id": "7bb24831-1db4-4457-9a9d-2f59ca1c53e2",
   "metadata": {},
   "outputs": [
    {
     "name": "stdout",
     "output_type": "stream",
     "text": [
      "yes the pattern only contain a digit\n"
     ]
    }
   ],
   "source": [
    "import re\n",
    "def check_digits(string):\n",
    "    pattern = r'^\\d+$'\n",
    "    matched=re.match(pattern,string)\n",
    "    return matched\n",
    "string = \"123456789\"\n",
    "digit = check_digits(string)\n",
    "if digit:\n",
    "    print('yes the pattern only contain a digit')\n",
    "else:\n",
    "    print(\"not contain a string\")"
   ]
  },
  {
   "cell_type": "code",
   "execution_count": 32,
   "id": "633b39ef-14e1-4192-812e-6daf2908454b",
   "metadata": {},
   "outputs": [
    {
     "data": {
      "text/plain": [
       "' 39. Check if a string contains only alphabets.'"
      ]
     },
     "execution_count": 32,
     "metadata": {},
     "output_type": "execute_result"
    }
   ],
   "source": [
    "\" 39. Check if a string contains only alphabets.\""
   ]
  },
  {
   "cell_type": "code",
   "execution_count": 39,
   "id": "0ff4127f-8c77-46ca-86d3-693bef90fae9",
   "metadata": {},
   "outputs": [
    {
     "name": "stdout",
     "output_type": "stream",
     "text": [
      "yes it contain only alphabet\n"
     ]
    }
   ],
   "source": [
    "def check_string(input_string):\n",
    "    return input_string.isalpha()\n",
    "\n",
    "input_string=\"pwskills\"\n",
    "check_alpha=check_string(input_string)\n",
    "if check_alpha:\n",
    "    print(\"yes it contain only alphabet\")\n",
    "else :\n",
    "    print(\"no it not contain a alphabet\")\n",
    "    "
   ]
  },
  {
   "cell_type": "code",
   "execution_count": 40,
   "id": "35251d84-3c3b-48c5-9e04-f78963821069",
   "metadata": {},
   "outputs": [
    {
     "data": {
      "text/plain": [
       "' 40. Convert a string to a list of characters. '"
      ]
     },
     "execution_count": 40,
     "metadata": {},
     "output_type": "execute_result"
    }
   ],
   "source": [
    "\" 40. Convert a string to a list of characters. \""
   ]
  },
  {
   "cell_type": "code",
   "execution_count": 3,
   "id": "84446b78-bb30-4108-8862-1f54a429179e",
   "metadata": {},
   "outputs": [
    {
     "name": "stdout",
     "output_type": "stream",
     "text": [
      "['p', 'w', 's', 'k', 'i', 'l', 'l', 's']\n"
     ]
    }
   ],
   "source": [
    "def string_list(string):\n",
    "    charecter=[]\n",
    "    for char in string:\n",
    "        charecter.append(char)\n",
    "    return charecter\n",
    "string = \"pwskills\"\n",
    "print(string_list(string))"
   ]
  },
  {
   "cell_type": "code",
   "execution_count": 6,
   "id": "598d4e5d-1418-4e17-ac4d-c2c3823b45a0",
   "metadata": {},
   "outputs": [
    {
     "data": {
      "text/plain": [
       "' 41. Check if two strings are anagrams '"
      ]
     },
     "execution_count": 6,
     "metadata": {},
     "output_type": "execute_result"
    }
   ],
   "source": [
    "\" 41. Check if two strings are anagrams \""
   ]
  },
  {
   "cell_type": "code",
   "execution_count": 1,
   "id": "5d81de31-94be-444a-be81-429b4d38243a",
   "metadata": {},
   "outputs": [
    {
     "name": "stdout",
     "output_type": "stream",
     "text": [
      "listen' and silent are anagrams:  True\n",
      "hello' and world are anagrams:  False\n"
     ]
    }
   ],
   "source": [
    "def are_anagrams(str1,str2):\n",
    "    str1=str1.replace(' ','').lower()\n",
    "    str2=str2.replace(' ','').lower()\n",
    "    return sorted(str1) == sorted(str2)\n",
    "        \n",
    "string1= 'listen'\n",
    "string2= 'silent'\n",
    "string3= 'hello'\n",
    "string4= 'world'\n",
    "\n",
    "result1 = are_anagrams(string1,string2)\n",
    "result2 = are_anagrams(string3,string4)\n",
    "\n",
    "print(f\"{string1}' and {string2} are anagrams: \",result1)\n",
    "print(f\"{string3}' and {string4} are anagrams: \",result2)\n"
   ]
  },
  {
   "cell_type": "code",
   "execution_count": 2,
   "id": "18e0f982-e6be-42e5-90b3-4d0267a5b818",
   "metadata": {},
   "outputs": [
    {
     "data": {
      "text/plain": [
       "' 42. Encode a string using a Caesar cipher.'"
      ]
     },
     "execution_count": 2,
     "metadata": {},
     "output_type": "execute_result"
    }
   ],
   "source": [
    "\" 42. Encode a string using a Caesar cipher.\""
   ]
  },
  {
   "cell_type": "code",
   "execution_count": 2,
   "id": "60343421-ef53-4a08-915f-a2cd25c7d635",
   "metadata": {},
   "outputs": [
    {
     "name": "stdin",
     "output_type": "stream",
     "text": [
      "enter a text pwskills\n",
      "enter a number 5\n"
     ]
    },
    {
     "name": "stdout",
     "output_type": "stream",
     "text": [
      "the orignal text is  pwskills\n",
      " the encripted message is  ubxpnqqx\n"
     ]
    }
   ],
   "source": [
    "def encripted(string,shift):\n",
    "    cipher=''\n",
    "    for char in string:\n",
    "        if char==' ':\n",
    "            cipher += char\n",
    "        elif char .isupper():\n",
    "            cipher= cipher+chr((ord(char)+shift-65)%26+65)\n",
    "        else:\n",
    "            cipher= cipher+chr((ord(char)+shift-97)%26+97)\n",
    "    return cipher\n",
    "\n",
    "text = input(\"enter a text\")\n",
    "s= int(input(\"enter a number\"))\n",
    "print (\"the orignal text is \",text)\n",
    "print (\" the encripted message is \" ,encripted(text,s))"
   ]
  },
  {
   "cell_type": "code",
   "execution_count": 1,
   "id": "5c843d10-2573-4064-8ed2-d1b002a647e2",
   "metadata": {},
   "outputs": [
    {
     "data": {
      "text/plain": [
       "'  43. Decode a Caesar cipher encoded string. '"
      ]
     },
     "execution_count": 1,
     "metadata": {},
     "output_type": "execute_result"
    }
   ],
   "source": [
    "\"  43. Decode a Caesar cipher encoded string. \""
   ]
  },
  {
   "cell_type": "code",
   "execution_count": 2,
   "id": "1e1276fe-b6a4-46f9-a072-8e0d6e5515d3",
   "metadata": {},
   "outputs": [
    {
     "name": "stdin",
     "output_type": "stream",
     "text": [
      "enter a encoded text ubxpnqqx\n"
     ]
    },
    {
     "name": "stdout",
     "output_type": "stream",
     "text": [
      "the orignal encoded text is  ubxpnqqx\n",
      "the decoded text is  pwskills\n"
     ]
    }
   ],
   "source": [
    "def decode(encode_text,shift):\n",
    "    decoded_text=\"\"\n",
    "    for char in encode_text:\n",
    "        if char.isalpha():\n",
    "            if char.isupper():\n",
    "                start = ord('A')\n",
    "            else:\n",
    "                start = ord('a')\n",
    "            decoded_char=chr(((ord(char)-start-shift)%26)+start)\n",
    "            \n",
    "        else:\n",
    "            decoded_char=char\n",
    "            \n",
    "            \n",
    "        decoded_text+=decoded_char\n",
    "        \n",
    "    return decoded_text\n",
    "\n",
    "encode_text=input(\"enter a encoded text\")\n",
    "shift=5\n",
    "print(\"the orignal encoded text is \",encode_text)\n",
    "print(\"the decoded text is \",decode(encode_text,shift))\n",
    "            \n",
    "           "
   ]
  },
  {
   "cell_type": "code",
   "execution_count": 1,
   "id": "e0bde444-53da-4db8-88ba-26c37c61143d",
   "metadata": {},
   "outputs": [
    {
     "data": {
      "text/plain": [
       "' 44. Find the most frequent word in a string. '"
      ]
     },
     "execution_count": 1,
     "metadata": {},
     "output_type": "execute_result"
    }
   ],
   "source": [
    "\" 44. Find the most frequent word in a string. \""
   ]
  },
  {
   "cell_type": "code",
   "execution_count": 3,
   "id": "f61edf89-90a7-41df-8b47-69fff85185be",
   "metadata": {},
   "outputs": [
    {
     "name": "stdout",
     "output_type": "stream",
     "text": [
      "the most frequent word is example, with a frequency of 3\n"
     ]
    }
   ],
   "source": [
    "def most_frequent_word(input_string):\n",
    "    words=input_string.split()\n",
    "    word_frequency={}\n",
    "    for word in words:\n",
    "        cleaned_word=word.strip('.,!?').lower()\n",
    "        if cleaned_word:\n",
    "            if cleaned_word in word_frequency:\n",
    "                word_frequency[cleaned_word]+=1\n",
    "            else:\n",
    "                word_frequency[cleaned_word]=1\n",
    "        most_frequent = max(word_frequency,key=word_frequency.get)\n",
    "        \n",
    "    return most_frequent , word_frequency[most_frequent]\n",
    "\n",
    "input_string = \"this is a example sentence. in this example sentence. example come molitiple times\"\n",
    "most_frequent, frequency = most_frequent_word(input_string)\n",
    "print(f\"the most frequent word is {most_frequent}, with a frequency of {frequency}\")\n"
   ]
  },
  {
   "cell_type": "code",
   "execution_count": 4,
   "id": "5f0ce4ae-faf8-4b3b-9135-b690d3e584c4",
   "metadata": {},
   "outputs": [
    {
     "data": {
      "text/plain": [
       "' 45. Find all unique words in a string '"
      ]
     },
     "execution_count": 4,
     "metadata": {},
     "output_type": "execute_result"
    }
   ],
   "source": [
    "\" 45. Find all unique words in a string \""
   ]
  },
  {
   "cell_type": "code",
   "execution_count": 1,
   "id": "39eec4a5-2bf3-4a72-afe0-c510e0b9b3fe",
   "metadata": {},
   "outputs": [
    {
     "name": "stdin",
     "output_type": "stream",
     "text": [
      "enter a string this is a example sentence. but this is a good example\n"
     ]
    },
    {
     "name": "stdout",
     "output_type": "stream",
     "text": [
      "all uniqe word is  {'is', 'this', 'sentence', 'but', 'good', 'a', 'example'}\n"
     ]
    }
   ],
   "source": [
    "def unique_word(string):\n",
    "    words= string.split()\n",
    "    unique_word_set=set()\n",
    "    for word in words:\n",
    "        cleaned_word= word.strip('.!,?')\n",
    "        if cleaned_word:\n",
    "            unique_word_set.add(cleaned_word)\n",
    "    return unique_word_set\n",
    "\n",
    "string=input(\"enter a string\")\n",
    "print(\"all uniqe word is \" , unique_word(string))"
   ]
  },
  {
   "cell_type": "code",
   "execution_count": 2,
   "id": "7f2ad6a4-6ea8-41c6-ab83-d7047b3fa035",
   "metadata": {},
   "outputs": [
    {
     "data": {
      "text/plain": [
       "' 46. Count the number of syllables in a string '"
      ]
     },
     "execution_count": 2,
     "metadata": {},
     "output_type": "execute_result"
    }
   ],
   "source": [
    "\" 46. Count the number of syllables in a string \""
   ]
  },
  {
   "cell_type": "code",
   "execution_count": 1,
   "id": "8587c598-884c-437e-a73c-45b88598012a",
   "metadata": {},
   "outputs": [
    {
     "data": {
      "text/plain": [
       "'47. Check if a string contains any special characters.'"
      ]
     },
     "execution_count": 1,
     "metadata": {},
     "output_type": "execute_result"
    }
   ],
   "source": [
    "\"47. Check if a string contains any special characters.\""
   ]
  },
  {
   "cell_type": "code",
   "execution_count": 3,
   "id": "13c98e6a-46cf-4990-ba1a-f4ada944e7ac",
   "metadata": {},
   "outputs": [
    {
     "name": "stdin",
     "output_type": "stream",
     "text": [
      "enter a string my e-mail-id is = sk3543@gmail.com\n"
     ]
    },
    {
     "name": "stdout",
     "output_type": "stream",
     "text": [
      "it contain the special character\n"
     ]
    }
   ],
   "source": [
    "import re\n",
    "def check_special_character(string):\n",
    "    pattern = r'[@.,?$%#^&*+-|\\/!<>^]'\n",
    "    if re.search(pattern,string):\n",
    "        return True\n",
    "    else:\n",
    "        return False\n",
    "string = input(\"enter a string\")\n",
    "contain_special= check_special_character(string)\n",
    "if contain_special:\n",
    "    print(\"it contain the special character\")\n",
    "else:\n",
    "    print(\"it does not contain a special character\")\n",
    "    "
   ]
  },
  {
   "cell_type": "code",
   "execution_count": 1,
   "id": "d61455eb-9be9-4871-b52c-868f00288bd5",
   "metadata": {},
   "outputs": [
    {
     "data": {
      "text/plain": [
       "' 48. Remove the nth word from a string'"
      ]
     },
     "execution_count": 1,
     "metadata": {},
     "output_type": "execute_result"
    }
   ],
   "source": [
    "\" 48. Remove the nth word from a string\""
   ]
  },
  {
   "cell_type": "code",
   "execution_count": 3,
   "id": "35de078d-aea3-4189-aa6e-9351722dfb1b",
   "metadata": {},
   "outputs": [
    {
     "name": "stdin",
     "output_type": "stream",
     "text": [
      "enter a string =  this is a example sentence\n",
      "enter a no. that you want to remove 4\n"
     ]
    },
    {
     "name": "stdout",
     "output_type": "stream",
     "text": [
      "this is a sentence\n"
     ]
    }
   ],
   "source": [
    "def remove_nth_words(input_string,n):\n",
    "    words=input_string.split()\n",
    "    if n<1 or n>len(words):\n",
    "        return \"invalid value of n\"\n",
    "    else:\n",
    "        del words[n-1]\n",
    "        result=' '.join(words)\n",
    "        return result\n",
    "input_string=input(\"enter a string = \")\n",
    "n= int(input(\"enter a no. that you want to remove\"))\n",
    "results=remove_nth_words(input_string,n)\n",
    "print(results)"
   ]
  },
  {
   "cell_type": "code",
   "execution_count": 1,
   "id": "816d9841-0f46-4b6d-9034-9ef77ea40f51",
   "metadata": {},
   "outputs": [
    {
     "data": {
      "text/plain": [
       "' 49. Insert a word at the nth position in a string. '"
      ]
     },
     "execution_count": 1,
     "metadata": {},
     "output_type": "execute_result"
    }
   ],
   "source": [
    "\" 49. Insert a word at the nth position in a string. \""
   ]
  },
  {
   "cell_type": "code",
   "execution_count": 8,
   "id": "c05aeddc-b8ef-4e9f-8d49-04e033901d4f",
   "metadata": {},
   "outputs": [
    {
     "name": "stdin",
     "output_type": "stream",
     "text": [
      "enter a string i am a of pwskills\n",
      "enter a nth position in which you want to add a new word 4\n",
      "enter a new word student\n"
     ]
    },
    {
     "name": "stdout",
     "output_type": "stream",
     "text": [
      "i am a student of pwskills\n"
     ]
    }
   ],
   "source": [
    "def add_words(string,new_word,n):\n",
    "    words=string.split()\n",
    "    if n<1 or n>len(words):\n",
    "        return \"you enter a invalid number\"\n",
    "    else:\n",
    "        n=n-1\n",
    "        new_string=words.insert(n,new_word)\n",
    "        result=' '.join(words)\n",
    "        return result\n",
    "string = input(\"enter a string\")\n",
    "n = int(input(\"enter a nth position in which you want to add a new word\"))\n",
    "new_word=input(\"enter a new word\")\n",
    "final_result=add_words(string,new_word,n)\n",
    "print(final_result)\n",
    "        \n",
    "    "
   ]
  },
  {
   "cell_type": "code",
   "execution_count": 9,
   "id": "04383730-b126-4ae4-9ceb-c0d7123e18d2",
   "metadata": {},
   "outputs": [
    {
     "data": {
      "text/plain": [
       "' 50. Convert a CSV string to a list of lists. '"
      ]
     },
     "execution_count": 9,
     "metadata": {},
     "output_type": "execute_result"
    }
   ],
   "source": [
    "\" 50. Convert a CSV string to a list of lists. \"\n"
   ]
  },
  {
   "cell_type": "code",
   "execution_count": 12,
   "id": "1ea16ac3-043d-478f-86b7-4bfb00c39732",
   "metadata": {},
   "outputs": [
    {
     "name": "stdout",
     "output_type": "stream",
     "text": [
      "['1', 'name', 'email', '']\n",
      "['1', 'shashi', 'sk23@gmail.com', '']\n",
      "['3chandan', 'ch23@gmail.com']\n"
     ]
    }
   ],
   "source": [
    "def csv_list(string):\n",
    "    lines=string.strip().split('\\n')\n",
    "    csv_list=[]\n",
    "    for line in lines:\n",
    "        row = line.split(',')\n",
    "        csv_list.append(row)\n",
    "    return csv_list\n",
    "\n",
    "string=\"1,name,email,\\n1,shashi,sk23@gmail.com,\\n3chandan,ch23@gmail.com\"\n",
    "result=csv_list(string)\n",
    "for row in result:\n",
    "    print(row)"
   ]
  },
  {
   "cell_type": "code",
   "execution_count": 1,
   "id": "b5bb5fc2-cf91-48d6-9404-67d965edf51e",
   "metadata": {},
   "outputs": [],
   "source": [
    "# List Based Practice Problem :\n"
   ]
  },
  {
   "cell_type": "code",
   "execution_count": 2,
   "id": "fb3e35e0-bf99-4a8f-94c5-4b33c57bbe9e",
   "metadata": {},
   "outputs": [
    {
     "data": {
      "text/plain": [
       "' 1. Create a list with integers from 1 to 10.'"
      ]
     },
     "execution_count": 2,
     "metadata": {},
     "output_type": "execute_result"
    }
   ],
   "source": [
    "\" 1. Create a list with integers from 1 to 10.\""
   ]
  },
  {
   "cell_type": "code",
   "execution_count": 11,
   "id": "76cf6578-becd-41df-b0ed-224aa1ad9128",
   "metadata": {},
   "outputs": [],
   "source": [
    "my_list=[i for i in range(1,11)]"
   ]
  },
  {
   "cell_type": "code",
   "execution_count": 12,
   "id": "87c9b7b0-686b-4e8d-90b1-610fabe21854",
   "metadata": {},
   "outputs": [
    {
     "data": {
      "text/plain": [
       "[1, 2, 3, 4, 5, 6, 7, 8, 9, 10]"
      ]
     },
     "execution_count": 12,
     "metadata": {},
     "output_type": "execute_result"
    }
   ],
   "source": [
    "my_list"
   ]
  },
  {
   "cell_type": "code",
   "execution_count": 13,
   "id": "d84b62fa-fc32-48c4-aecb-46bca94f9864",
   "metadata": {},
   "outputs": [
    {
     "data": {
      "text/plain": [
       "' 2. Find the length of a list without using the `len()` function. '"
      ]
     },
     "execution_count": 13,
     "metadata": {},
     "output_type": "execute_result"
    }
   ],
   "source": [
    "\" 2. Find the length of a list without using the `len()` function. \""
   ]
  },
  {
   "cell_type": "code",
   "execution_count": 14,
   "id": "3db648c5-79c3-406c-8d0a-e92b3d2d4955",
   "metadata": {},
   "outputs": [
    {
     "name": "stdout",
     "output_type": "stream",
     "text": [
      "9\n"
     ]
    }
   ],
   "source": [
    "def find_length_list(my_list):\n",
    "    count=0\n",
    "    for element in my_list:\n",
    "        count+=1\n",
    "    return count\n",
    "my_list=[1,2,3,4,5,6,7,8,9]\n",
    "length = find_length_list(my_list)\n",
    "print(length)"
   ]
  },
  {
   "cell_type": "code",
   "execution_count": 15,
   "id": "b7e85c39-9fea-4fb5-9abd-ee55c9e9c6b3",
   "metadata": {},
   "outputs": [
    {
     "data": {
      "text/plain": [
       "' 3. Append an element to the end of a list. '"
      ]
     },
     "execution_count": 15,
     "metadata": {},
     "output_type": "execute_result"
    }
   ],
   "source": [
    "\" 3. Append an element to the end of a list. \""
   ]
  },
  {
   "cell_type": "code",
   "execution_count": 34,
   "id": "8632fcbd-9851-4d08-b4ce-794bb78c1bd8",
   "metadata": {},
   "outputs": [
    {
     "name": "stdin",
     "output_type": "stream",
     "text": [
      "enter a list 1 2 3 4 5 6\n",
      "enter a element that you want to add  7\n"
     ]
    },
    {
     "name": "stdout",
     "output_type": "stream",
     "text": [
      "[1, 2, 3, 4, 5, 6, 7]\n"
     ]
    }
   ],
   "source": [
    "input_list=input(\"enter a list\")\n",
    "my_list=[int(x)  for x in input_list.split()]\n",
    "element=int(input(\"enter a element that you want to add \"))\n",
    "my_list.append(element)\n",
    "print(my_list)"
   ]
  },
  {
   "cell_type": "code",
   "execution_count": 35,
   "id": "d761a787-8bdc-4b89-8dd6-caf624a7bcc3",
   "metadata": {},
   "outputs": [
    {
     "data": {
      "text/plain": [
       "' 4. Insert an element at a specific index in a list.'"
      ]
     },
     "execution_count": 35,
     "metadata": {},
     "output_type": "execute_result"
    }
   ],
   "source": [
    "\" 4. Insert an element at a specific index in a list.\""
   ]
  },
  {
   "cell_type": "code",
   "execution_count": 40,
   "id": "4a49c432-3c2a-45e7-be8c-6df2b6e444fc",
   "metadata": {},
   "outputs": [
    {
     "name": "stdout",
     "output_type": "stream",
     "text": [
      "[1, 2, 3, 4, 5, 6, 7]\n"
     ]
    }
   ],
   "source": [
    "my_list=[1,2,3,5,6,7]\n",
    "my_list.insert(3,4)  #insert is used to insert the value in a given index \n",
    "print(my_list)"
   ]
  },
  {
   "cell_type": "code",
   "execution_count": 41,
   "id": "4cbc0cca-d1bf-491e-a715-1fe3efd1e910",
   "metadata": {},
   "outputs": [
    {
     "data": {
      "text/plain": [
       "' 5. Remove an element from a list by its value. '"
      ]
     },
     "execution_count": 41,
     "metadata": {},
     "output_type": "execute_result"
    }
   ],
   "source": [
    "\" 5. Remove an element from a list by its value. \""
   ]
  },
  {
   "cell_type": "code",
   "execution_count": 45,
   "id": "ef6fbe89-0428-47d0-aba3-42cb29ca7251",
   "metadata": {},
   "outputs": [
    {
     "name": "stdout",
     "output_type": "stream",
     "text": [
      "[1, 2, 4, 5, 6, 7, 8, 9]\n"
     ]
    }
   ],
   "source": [
    "my_list = [1,2,3,4,5,6,7,8,9]\n",
    "my_list.remove(3) #remove is used to remove a specific no.from a list\n",
    "print(my_list)"
   ]
  },
  {
   "cell_type": "code",
   "execution_count": 43,
   "id": "7771752d-e013-4b25-8be8-a2abd8531b1c",
   "metadata": {},
   "outputs": [
    {
     "data": {
      "text/plain": [
       "' 6. Remove an element from a list by its index '"
      ]
     },
     "execution_count": 43,
     "metadata": {},
     "output_type": "execute_result"
    }
   ],
   "source": [
    "\" 6. Remove an element from a list by its index \""
   ]
  },
  {
   "cell_type": "code",
   "execution_count": 46,
   "id": "8b2b5f68-5491-4adb-ae27-7f87f28da683",
   "metadata": {},
   "outputs": [
    {
     "name": "stdout",
     "output_type": "stream",
     "text": [
      "[1, 2, 4, 5, 6, 7]\n"
     ]
    }
   ],
   "source": [
    "my_list=[1,2,3,4,5,6,7]\n",
    "my_list.pop(2) #pop is used to remove a specific list from a given index(default=last)\n",
    "print(my_list)"
   ]
  },
  {
   "cell_type": "code",
   "execution_count": 1,
   "id": "9ca14b95-8f4d-42a6-8d9f-5245018d09e6",
   "metadata": {},
   "outputs": [
    {
     "data": {
      "text/plain": [
       "' 7. Check if an element exists in a list. '"
      ]
     },
     "execution_count": 1,
     "metadata": {},
     "output_type": "execute_result"
    }
   ],
   "source": [
    "\" 7. Check if an element exists in a list. \""
   ]
  },
  {
   "cell_type": "code",
   "execution_count": 2,
   "id": "0d04df66-d109-4450-a72c-a7e53ee90c3a",
   "metadata": {},
   "outputs": [
    {
     "name": "stdin",
     "output_type": "stream",
     "text": [
      "enter a no. that you want to check 5\n"
     ]
    },
    {
     "name": "stdout",
     "output_type": "stream",
     "text": [
      "yes the element exists in a list\n"
     ]
    }
   ],
   "source": [
    "list1=[1,2,3,4,5,6,7,8]\n",
    "element= int(input(\"enter a no. that you want to check\"))\n",
    "if element in list1 :\n",
    "    print(\"yes the element exists in a list\")\n",
    "else:\n",
    "    print(\"no , element exists\")"
   ]
  },
  {
   "cell_type": "code",
   "execution_count": 3,
   "id": "90ee5232-c849-494e-8c3a-6a446441507d",
   "metadata": {},
   "outputs": [
    {
     "data": {
      "text/plain": [
       "' 8. Find the index of the first occurrence of an element in a list '"
      ]
     },
     "execution_count": 3,
     "metadata": {},
     "output_type": "execute_result"
    }
   ],
   "source": [
    "\" 8. Find the index of the first occurrence of an element in a list \""
   ]
  },
  {
   "cell_type": "code",
   "execution_count": 9,
   "id": "9a305497-5464-4f88-9391-93222f6f1ccc",
   "metadata": {},
   "outputs": [
    {
     "name": "stdout",
     "output_type": "stream",
     "text": [
      "the index of 2 is 1\n"
     ]
    }
   ],
   "source": [
    "list_name= [1,2,32,3,4,1,2,4,5,6,7,8,6,5,4,3]\n",
    "element = 2\n",
    "if element in list_name:\n",
    "    index=list_name.index(element)\n",
    "    print(f'the index of {element} is {index}')\n",
    "else:\n",
    "    print(\"no element \")"
   ]
  },
  {
   "cell_type": "code",
   "execution_count": 10,
   "id": "8b9815da-6d5f-4822-9eec-6dec60c5fc11",
   "metadata": {},
   "outputs": [
    {
     "data": {
      "text/plain": [
       "' 9. Count the occurrences of an element in a list. '"
      ]
     },
     "execution_count": 10,
     "metadata": {},
     "output_type": "execute_result"
    }
   ],
   "source": [
    "\" 9. Count the occurrences of an element in a list. \""
   ]
  },
  {
   "cell_type": "code",
   "execution_count": 14,
   "id": "aab3c275-5c21-422a-a9cc-c9b3886a0576",
   "metadata": {},
   "outputs": [
    {
     "name": "stdout",
     "output_type": "stream",
     "text": [
      "4\n"
     ]
    }
   ],
   "source": [
    "my_list = [10,20,30,40,10,10,20,20,20]\n",
    "element = 20\n",
    "occurrence=my_list.count(element) # Count the occurrences of the element 20\n",
    "print(occurrence)\n",
    "    "
   ]
  },
  {
   "cell_type": "code",
   "execution_count": 15,
   "id": "11aa67f8-e607-465d-800d-bf4b3a8db355",
   "metadata": {},
   "outputs": [
    {
     "data": {
      "text/plain": [
       "' 10. Reverse the order of elements in a list '"
      ]
     },
     "execution_count": 15,
     "metadata": {},
     "output_type": "execute_result"
    }
   ],
   "source": [
    "\" 10. Reverse the order of elements in a list \""
   ]
  },
  {
   "cell_type": "code",
   "execution_count": 18,
   "id": "12e4c824-1931-4fca-b0b1-0024fc91d26b",
   "metadata": {},
   "outputs": [
    {
     "name": "stdout",
     "output_type": "stream",
     "text": [
      "[9, 8, 7, 6, 5, 4, 3, 2, 1]\n"
     ]
    }
   ],
   "source": [
    "my_list = [1,2,3,4,5,6,7,8,9]\n",
    "reverse_list = my_list[::-1]\n",
    "print(reverse_list)"
   ]
  },
  {
   "cell_type": "code",
   "execution_count": 19,
   "id": "38111128-645c-438f-9c77-4e2cdf7afacd",
   "metadata": {},
   "outputs": [
    {
     "data": {
      "text/plain": [
       "' 11. Sort a list in ascending order. '"
      ]
     },
     "execution_count": 19,
     "metadata": {},
     "output_type": "execute_result"
    }
   ],
   "source": [
    "\" 11. Sort a list in ascending order. \""
   ]
  },
  {
   "cell_type": "code",
   "execution_count": 24,
   "id": "cab551c4-40be-49ab-9e70-961989198cb2",
   "metadata": {},
   "outputs": [
    {
     "name": "stdout",
     "output_type": "stream",
     "text": [
      "[1, 2, 3, 4, 7, 12, 34, 56, 67, 87]\n"
     ]
    }
   ],
   "source": [
    "my_list=[1,12,3,4,34,2,56,7,67,87]\n",
    "my_list.sort() #sort is used for shorting a list (default=ascending order)\n",
    "print(my_list)"
   ]
  },
  {
   "cell_type": "code",
   "execution_count": 22,
   "id": "78e90f31-ba15-4a44-b8a3-bec665dfea58",
   "metadata": {},
   "outputs": [
    {
     "data": {
      "text/plain": [
       "' 12. Sort a list in descending order.'"
      ]
     },
     "execution_count": 22,
     "metadata": {},
     "output_type": "execute_result"
    }
   ],
   "source": [
    "\" 12. Sort a list in descending order.\""
   ]
  },
  {
   "cell_type": "code",
   "execution_count": 25,
   "id": "e5148fb4-bad7-42fc-a11b-b01be8b65eb0",
   "metadata": {},
   "outputs": [
    {
     "name": "stdout",
     "output_type": "stream",
     "text": [
      "[767, 343, 234, 98, 76, 56, 45, 34, 23]\n"
     ]
    }
   ],
   "source": [
    "my_list=[98,34,56,76,343,23,767,45,234]\n",
    "shorted_list = sorted(my_list,reverse=True)\n",
    "print(shorted_list)"
   ]
  },
  {
   "cell_type": "code",
   "execution_count": 26,
   "id": "8a5df46b-4a23-4cd0-bc43-a7b17ef68dd3",
   "metadata": {},
   "outputs": [
    {
     "data": {
      "text/plain": [
       "' 13. Create a list of even numbers from 1 to 20. '"
      ]
     },
     "execution_count": 26,
     "metadata": {},
     "output_type": "execute_result"
    }
   ],
   "source": [
    "\" 13. Create a list of even numbers from 1 to 20. \""
   ]
  },
  {
   "cell_type": "code",
   "execution_count": 34,
   "id": "32dbcea5-65ac-4c85-a699-905629f221d6",
   "metadata": {},
   "outputs": [
    {
     "name": "stdout",
     "output_type": "stream",
     "text": [
      "[2, 4, 6, 8, 10, 12, 14, 16, 18, 20]\n"
     ]
    }
   ],
   "source": [
    "even_no_list = [x for x in range(1,21) if x%2==0]\n",
    "print(even_no_list)"
   ]
  },
  {
   "cell_type": "code",
   "execution_count": 44,
   "id": "cc1d8ebb-c79b-4c09-b725-0af80a54a85a",
   "metadata": {},
   "outputs": [
    {
     "data": {
      "text/plain": [
       "' 14. Create a list of odd numbers from 1 to 20. '"
      ]
     },
     "execution_count": 44,
     "metadata": {},
     "output_type": "execute_result"
    }
   ],
   "source": [
    "\" 14. Create a list of odd numbers from 1 to 20. \"    "
   ]
  },
  {
   "cell_type": "code",
   "execution_count": 45,
   "id": "11b176e9-9d52-409e-965d-b9770e9e756e",
   "metadata": {},
   "outputs": [
    {
     "name": "stdout",
     "output_type": "stream",
     "text": [
      "[1, 3, 5, 7, 9, 11, 13, 15, 17, 19]\n"
     ]
    }
   ],
   "source": [
    "odd_no_list = [y for y in range(1,21) if y%2!=0]\n",
    "print(odd_no_list)"
   ]
  },
  {
   "cell_type": "code",
   "execution_count": 46,
   "id": "478304af-53ec-474b-8c7b-9ea569313077",
   "metadata": {},
   "outputs": [
    {
     "data": {
      "text/plain": [
       "' 15. Find the sum of all elements in a list '"
      ]
     },
     "execution_count": 46,
     "metadata": {},
     "output_type": "execute_result"
    }
   ],
   "source": [
    "\" 15. Find the sum of all elements in a list \""
   ]
  },
  {
   "cell_type": "code",
   "execution_count": 57,
   "id": "046a50b7-6eac-4b0f-ad71-d9cf489435f8",
   "metadata": {},
   "outputs": [
    {
     "name": "stdout",
     "output_type": "stream",
     "text": [
      "the sum is   83\n"
     ]
    }
   ],
   "source": [
    "my_list=[1,2,3,42,5,6,7,8,9]\n",
    "sum1=0\n",
    "for i in my_list:\n",
    "    sum1=sum1+i\n",
    "print(\"the sum is  \", sum1)"
   ]
  },
  {
   "cell_type": "code",
   "execution_count": 1,
   "id": "0e8eb447-54f4-4e05-8f13-dbd55b8bc1c6",
   "metadata": {},
   "outputs": [
    {
     "data": {
      "text/plain": [
       "' 16. Find the maximum value in a list. '"
      ]
     },
     "execution_count": 1,
     "metadata": {},
     "output_type": "execute_result"
    }
   ],
   "source": [
    "\" 16. Find the maximum value in a list. \""
   ]
  },
  {
   "cell_type": "code",
   "execution_count": 6,
   "id": "27b7d964-1358-4d6c-8d06-e22fd2cfef40",
   "metadata": {},
   "outputs": [
    {
     "name": "stdout",
     "output_type": "stream",
     "text": [
      "45\n"
     ]
    }
   ],
   "source": [
    "my_list=[1,2,3,4,5,6,7,45]\n",
    "max_value=max(my_list)\n",
    "print(max_value)"
   ]
  },
  {
   "cell_type": "code",
   "execution_count": 7,
   "id": "2c5d78db-8c74-45ff-a1ca-e86f5ac026c5",
   "metadata": {},
   "outputs": [
    {
     "data": {
      "text/plain": [
       "'17. Find the minimum value in a list.'"
      ]
     },
     "execution_count": 7,
     "metadata": {},
     "output_type": "execute_result"
    }
   ],
   "source": [
    "\"17. Find the minimum value in a list.\""
   ]
  },
  {
   "cell_type": "code",
   "execution_count": 9,
   "id": "5fd743dc-9ccf-4854-b355-1d65e6167fec",
   "metadata": {},
   "outputs": [
    {
     "name": "stdout",
     "output_type": "stream",
     "text": [
      "1\n"
     ]
    }
   ],
   "source": [
    "my_list=[12,34,54,65,76,3,456,6,1,45]\n",
    "min_value=min(my_list)\n",
    "print(min_value)"
   ]
  },
  {
   "cell_type": "code",
   "execution_count": 10,
   "id": "930eb3ff-efaf-49fc-b03c-c5a3c92c744f",
   "metadata": {},
   "outputs": [
    {
     "data": {
      "text/plain": [
       "' 18. Create a list of squares of numbers from 1 to 10. '"
      ]
     },
     "execution_count": 10,
     "metadata": {},
     "output_type": "execute_result"
    }
   ],
   "source": [
    "\" 18. Create a list of squares of numbers from 1 to 10. \""
   ]
  },
  {
   "cell_type": "code",
   "execution_count": 15,
   "id": "20b85da7-1e0e-46ff-860f-0f9ca7134e58",
   "metadata": {},
   "outputs": [
    {
     "name": "stdout",
     "output_type": "stream",
     "text": [
      "[1, 4, 9, 16, 25, 36, 49, 64, 81, 100]\n"
     ]
    }
   ],
   "source": [
    "my_list=list(range(1,11))\n",
    "new_list=[]\n",
    "for i in my_list:\n",
    "    i=i*i\n",
    "    new_list.append(i)\n",
    "print(new_list)"
   ]
  },
  {
   "cell_type": "code",
   "execution_count": 16,
   "id": "8ebead76-a73d-4588-84c1-fb25fcd850a2",
   "metadata": {},
   "outputs": [
    {
     "data": {
      "text/plain": [
       "' 19. Create a list of random numbers. '"
      ]
     },
     "execution_count": 16,
     "metadata": {},
     "output_type": "execute_result"
    }
   ],
   "source": [
    "\" 19. Create a list of random numbers. \""
   ]
  },
  {
   "cell_type": "code",
   "execution_count": 22,
   "id": "d7fc5afd-2610-4c22-a126-b89bf3dcef63",
   "metadata": {},
   "outputs": [
    {
     "name": "stdout",
     "output_type": "stream",
     "text": [
      "[69, 67, 3, 60, 95, 63, 3, 76, 19, 86]\n"
     ]
    }
   ],
   "source": [
    "import random #import random to use the randint() function \n",
    "randam_number=10\n",
    "min_range =1\n",
    "max_range =100\n",
    "list_of_random_no = [random.randint(min_range,max_range) for _ in range (randam_number)] #randint is used to return random no.\n",
    "print(list_of_random_no)"
   ]
  },
  {
   "cell_type": "code",
   "execution_count": 23,
   "id": "d9df0524-e239-4ef6-b108-1632030380e5",
   "metadata": {},
   "outputs": [
    {
     "data": {
      "text/plain": [
       "'20. Remove duplicates from a list.'"
      ]
     },
     "execution_count": 23,
     "metadata": {},
     "output_type": "execute_result"
    }
   ],
   "source": [
    "\"20. Remove duplicates from a list.\""
   ]
  },
  {
   "cell_type": "code",
   "execution_count": 27,
   "id": "b6f8da7f-f850-4519-b3e4-3a9ad19d357f",
   "metadata": {},
   "outputs": [
    {
     "name": "stdout",
     "output_type": "stream",
     "text": [
      "[1, 3, 4, 6, 7]\n"
     ]
    }
   ],
   "source": [
    "my_list=[1,3,3,4,4,4,1,1,3,4,6,7]\n",
    "new_list=list(set(my_list))\n",
    "print(new_list)"
   ]
  },
  {
   "cell_type": "code",
   "execution_count": 28,
   "id": "1be9c06c-1e35-415d-a3fb-9707c203fef8",
   "metadata": {},
   "outputs": [
    {
     "data": {
      "text/plain": [
       "' 21. Find the common elements between two lists. '"
      ]
     },
     "execution_count": 28,
     "metadata": {},
     "output_type": "execute_result"
    }
   ],
   "source": [
    "\" 21. Find the common elements between two lists. \""
   ]
  },
  {
   "cell_type": "code",
   "execution_count": 31,
   "id": "82e5a424-4940-4d38-a5dd-252888daa9c5",
   "metadata": {},
   "outputs": [
    {
     "name": "stdout",
     "output_type": "stream",
     "text": [
      "[12, 45, 34]\n"
     ]
    }
   ],
   "source": [
    "list1=[12,23,45,67,56,78,34,2,4,5]\n",
    "list2=[12,45,3,54,65,34,563,35,46]\n",
    "list3=[]\n",
    "for i in list1:\n",
    "    if i in list2:\n",
    "        list3.append(i)\n",
    "print(list3)\n",
    "    "
   ]
  },
  {
   "cell_type": "code",
   "execution_count": 1,
   "id": "06487da0-0c3f-4af8-a005-43044ed71630",
   "metadata": {},
   "outputs": [
    {
     "data": {
      "text/plain": [
       "' 22. Find the difference between two lists. '"
      ]
     },
     "execution_count": 1,
     "metadata": {},
     "output_type": "execute_result"
    }
   ],
   "source": [
    "\" 22. Find the difference between two lists. \""
   ]
  },
  {
   "cell_type": "code",
   "execution_count": 5,
   "id": "5ce3f738-3e8f-44e4-bf02-349d5892cc1f",
   "metadata": {},
   "outputs": [
    {
     "name": "stdout",
     "output_type": "stream",
     "text": [
      "[1, 2]\n"
     ]
    }
   ],
   "source": [
    "list1=[1,2,4,5,6,7]\n",
    "list2=[4,5,6,7,8,9]\n",
    "list3=[]\n",
    "for i in list1:\n",
    "    if i not in list2:\n",
    "        list3.append(i)\n",
    "print(list3)"
   ]
  },
  {
   "cell_type": "code",
   "execution_count": 6,
   "id": "1d83786d-460d-4018-bfcc-a5eb24de3d52",
   "metadata": {},
   "outputs": [
    {
     "data": {
      "text/plain": [
       "' 23. Merge two lists. '"
      ]
     },
     "execution_count": 6,
     "metadata": {},
     "output_type": "execute_result"
    }
   ],
   "source": [
    "\" 23. Merge two lists. \""
   ]
  },
  {
   "cell_type": "code",
   "execution_count": 11,
   "id": "c5d672fb-ef61-4077-8082-2730c2c069e9",
   "metadata": {},
   "outputs": [
    {
     "name": "stdout",
     "output_type": "stream",
     "text": [
      "[1, 2, 3, 4, 5, 6, 7, 8]\n"
     ]
    }
   ],
   "source": [
    "list1=[1,2,3,4]\n",
    "list2=[5,6,7,8]\n",
    "merge_list=[x for x in list1]+[x for x in list2]\n",
    "print(merge_list)"
   ]
  },
  {
   "cell_type": "code",
   "execution_count": 12,
   "id": "3ffb5e56-fe8d-46f4-b488-ceed466fe513",
   "metadata": {},
   "outputs": [
    {
     "data": {
      "text/plain": [
       "' 24. Multiply all elements in a list by 2. '"
      ]
     },
     "execution_count": 12,
     "metadata": {},
     "output_type": "execute_result"
    }
   ],
   "source": [
    "\" 24. Multiply all elements in a list by 2. \""
   ]
  },
  {
   "cell_type": "code",
   "execution_count": 19,
   "id": "bdcdc418-e194-427f-8dbd-8d3dfd299605",
   "metadata": {},
   "outputs": [
    {
     "name": "stdout",
     "output_type": "stream",
     "text": [
      "[2, 4, 6, 8, 10, 12, 14, 16]\n"
     ]
    }
   ],
   "source": [
    "list1=[1,2,3,4,5,6,7,8]\n",
    "new_list=list(map(lambda a : a*2 ,list1))\n",
    "print(new_list)\n"
   ]
  },
  {
   "cell_type": "code",
   "execution_count": 23,
   "id": "6c8cba04-4a77-49c2-bd3e-da049f331eb8",
   "metadata": {},
   "outputs": [
    {
     "data": {
      "text/plain": [
       "' 25. Filter out all even numbers from a list. '"
      ]
     },
     "execution_count": 23,
     "metadata": {},
     "output_type": "execute_result"
    }
   ],
   "source": [
    "\" 25. Filter out all even numbers from a list. \""
   ]
  },
  {
   "cell_type": "code",
   "execution_count": 26,
   "id": "d1a58b8f-7b97-4fd7-a6cb-847a58b8b3d1",
   "metadata": {},
   "outputs": [
    {
     "name": "stdout",
     "output_type": "stream",
     "text": [
      "[2, 4, 6, 8]\n"
     ]
    }
   ],
   "source": [
    "list1=[1,2,3,4,5,6,7,8]\n",
    "new_list=list(map(lambda a : a , [x for x in list1 if x%2==0]))\n",
    "print(new_list)"
   ]
  },
  {
   "cell_type": "code",
   "execution_count": 27,
   "id": "d9021ccc-7813-483d-997e-286f50f78412",
   "metadata": {},
   "outputs": [
    {
     "data": {
      "text/plain": [
       "' 26. Convert a list of strings to a list of integers '"
      ]
     },
     "execution_count": 27,
     "metadata": {},
     "output_type": "execute_result"
    }
   ],
   "source": [
    "\" 26. Convert a list of strings to a list of integers \""
   ]
  },
  {
   "cell_type": "code",
   "execution_count": 31,
   "id": "1a1c5265-da64-4a2e-864f-ca1b60c4e5de",
   "metadata": {},
   "outputs": [
    {
     "name": "stdout",
     "output_type": "stream",
     "text": [
      "[1, 2, 3]\n"
     ]
    }
   ],
   "source": [
    "list1=[\"1\",\"2\",\"3\"]\n",
    "int_list=[int(x) for x in list1]\n",
    "print(int_list)"
   ]
  },
  {
   "cell_type": "code",
   "execution_count": 32,
   "id": "142050ce-48d8-4461-aa11-ccc0b95cdf53",
   "metadata": {},
   "outputs": [
    {
     "data": {
      "text/plain": [
       "' 27. Convert a list of integers to a list of strings. '"
      ]
     },
     "execution_count": 32,
     "metadata": {},
     "output_type": "execute_result"
    }
   ],
   "source": [
    "\" 27. Convert a list of integers to a list of strings. \""
   ]
  },
  {
   "cell_type": "code",
   "execution_count": 33,
   "id": "b06e2f65-693b-482c-900d-8615476669ff",
   "metadata": {},
   "outputs": [
    {
     "name": "stdout",
     "output_type": "stream",
     "text": [
      "['1', '2', '3']\n"
     ]
    }
   ],
   "source": [
    "int_list=[\"1\",\"2\",\"3\"]\n",
    "str_list=[str(x) for x in list1]\n",
    "print(str_list)"
   ]
  },
  {
   "cell_type": "code",
   "execution_count": 34,
   "id": "49030882-a7ff-4eca-95aa-9a0a55096d26",
   "metadata": {},
   "outputs": [
    {
     "data": {
      "text/plain": [
       "' 28. Flatten a nested list. '"
      ]
     },
     "execution_count": 34,
     "metadata": {},
     "output_type": "execute_result"
    }
   ],
   "source": [
    "\" 28. Flatten a nested list. \""
   ]
  },
  {
   "cell_type": "code",
   "execution_count": 57,
   "id": "9dfe7e5a-28f4-4830-9053-28b225add947",
   "metadata": {},
   "outputs": [
    {
     "name": "stdout",
     "output_type": "stream",
     "text": [
      "[1, 2, 3, 4, 5, 6]\n"
     ]
    }
   ],
   "source": [
    "def flatten_list(nested_list):\n",
    "    flat_list=[]\n",
    "    for sublist in nested_list:\n",
    "        if isinstance(sublist,list):\n",
    "            flat_list.extend(flatten_list(sublist))\n",
    "        else:\n",
    "            flat_list.append(sublist)\n",
    "    return flat_list\n",
    "nested_list=[1,[2,3],[4,[5,6]]]\n",
    "flat_list=flatten_list(nested_list)\n",
    "print(flat_list)"
   ]
  },
  {
   "cell_type": "code",
   "execution_count": 1,
   "id": "9abef969-054b-4874-a7a1-e9828138c365",
   "metadata": {},
   "outputs": [
    {
     "data": {
      "text/plain": [
       "' 29. Create a list of the first 10 Fibonacci numbers. '"
      ]
     },
     "execution_count": 1,
     "metadata": {},
     "output_type": "execute_result"
    }
   ],
   "source": [
    "\" 29. Create a list of the first 10 Fibonacci numbers. \""
   ]
  },
  {
   "cell_type": "code",
   "execution_count": 3,
   "id": "26e52ecd-6468-4490-ac72-9b4ed0de3391",
   "metadata": {},
   "outputs": [
    {
     "name": "stdout",
     "output_type": "stream",
     "text": [
      "[0, 1, 1, 2, 3, 5, 8, 13, 21, 34]\n"
     ]
    }
   ],
   "source": [
    "def fibanacci_number(n):\n",
    "    if n<1:\n",
    "        return 0\n",
    "    elif n==1:\n",
    "        return 1\n",
    "    else:\n",
    "        return fibanacci_number(n-1)+fibanacci_number(n-2)\n",
    "    \n",
    "fibanacii_serise=[fibanacci_number(i) for i in range(10)]\n",
    "print(fibanacii_serise)       "
   ]
  },
  {
   "cell_type": "code",
   "execution_count": 4,
   "id": "76237748-51ad-4e62-a2ef-0b676e3e9f20",
   "metadata": {},
   "outputs": [
    {
     "data": {
      "text/plain": [
       "' 30. Check if a list is sorted.'"
      ]
     },
     "execution_count": 4,
     "metadata": {},
     "output_type": "execute_result"
    }
   ],
   "source": [
    "\" 30. Check if a list is sorted.\""
   ]
  },
  {
   "cell_type": "code",
   "execution_count": 18,
   "id": "76816391-230d-4e45-9475-1de853759d79",
   "metadata": {},
   "outputs": [
    {
     "name": "stdout",
     "output_type": "stream",
     "text": [
      "True\n"
     ]
    }
   ],
   "source": [
    "def list_is_sorted(my_list):\n",
    "    new_list=sorted(my_list)\n",
    "    if new_list==my_list:\n",
    "        return True\n",
    "    else:\n",
    "        return False\n",
    "my_list=[1,2,3,4,5]\n",
    "result=list_is_sorted(my_list)\n",
    "print(result)"
   ]
  },
  {
   "cell_type": "code",
   "execution_count": 19,
   "id": "1fe2085d-70a8-4165-9bc1-4efe0fb00a5c",
   "metadata": {},
   "outputs": [
    {
     "data": {
      "text/plain": [
       "' 31. Rotate a list to the left by `n` positions. '"
      ]
     },
     "execution_count": 19,
     "metadata": {},
     "output_type": "execute_result"
    }
   ],
   "source": [
    "\" 31. Rotate a list to the left by `n` positions. \""
   ]
  },
  {
   "cell_type": "code",
   "execution_count": 25,
   "id": "b99defe0-bd5c-4ce7-aa89-2f1a7409d5ad",
   "metadata": {},
   "outputs": [
    {
     "name": "stdout",
     "output_type": "stream",
     "text": [
      "[3, 4, 5, 1, 2]\n"
     ]
    }
   ],
   "source": [
    "def rotate_left(lst,n):\n",
    "    if n<0:\n",
    "        n=len(lst)+n #adjust for negative value of n \n",
    "    n=n%len(lst)\n",
    "    return lst[n:] + lst[:n]\n",
    "lst=[1,2,3,4,5]\n",
    "n=2\n",
    "result=rotate_left(lst,n)\n",
    "print(result)"
   ]
  },
  {
   "cell_type": "code",
   "execution_count": 22,
   "id": "2d413a55-845f-40e9-96d1-1a2f5dfef4bc",
   "metadata": {},
   "outputs": [
    {
     "data": {
      "text/plain": [
       "' 32. Rotate a list to the right by `n` positions. '"
      ]
     },
     "execution_count": 22,
     "metadata": {},
     "output_type": "execute_result"
    }
   ],
   "source": [
    "\" 32. Rotate a list to the right by `n` positions. \""
   ]
  },
  {
   "cell_type": "code",
   "execution_count": 2,
   "id": "7f7fd5f1-f8f4-4fdb-ba73-6cd83166e52b",
   "metadata": {},
   "outputs": [
    {
     "name": "stdout",
     "output_type": "stream",
     "text": [
      "[4, 5, 1, 2, 3]\n"
     ]
    }
   ],
   "source": [
    "def rotate_right(lst,n):\n",
    "    if n<0:\n",
    "        n=len(lst)+n\n",
    "    n=n%len(lst)\n",
    "    return lst[-n:] + lst[:-n]\n",
    "lst=[1,2,3,4,5]\n",
    "n=2\n",
    "print(rotate_right(lst,n))"
   ]
  },
  {
   "cell_type": "code",
   "execution_count": 3,
   "id": "035fba58-c58f-4681-ae24-25943d776372",
   "metadata": {},
   "outputs": [
    {
     "data": {
      "text/plain": [
       "' 33. Create a list of prime numbers up to 50.'"
      ]
     },
     "execution_count": 3,
     "metadata": {},
     "output_type": "execute_result"
    }
   ],
   "source": [
    "\" 33. Create a list of prime numbers up to 50.\""
   ]
  },
  {
   "cell_type": "code",
   "execution_count": 14,
   "id": "4a6eae81-7fb8-4baa-a3d3-adb73e630466",
   "metadata": {},
   "outputs": [
    {
     "name": "stdout",
     "output_type": "stream",
     "text": [
      "[2, 3, 5, 7, 11, 13, 17, 19, 23, 29, 31, 37, 41, 43, 47]\n"
     ]
    }
   ],
   "source": [
    "def is_prime(num):\n",
    "    if num < 2:\n",
    "        return False\n",
    "    if num == 2:\n",
    "        return True\n",
    "    for i in range(2, int(num ** 0.5) + 1):\n",
    "        if num % i == 0:\n",
    "            return False\n",
    "    return True\n",
    "\n",
    "prime_numbers = [num for num in range(2, 51) if is_prime(num)]\n",
    "\n",
    "print(prime_numbers)\n"
   ]
  },
  {
   "cell_type": "code",
   "execution_count": 13,
   "id": "08916b1d-a5fd-4346-a914-229b5d6e1afc",
   "metadata": {},
   "outputs": [
    {
     "data": {
      "text/plain": [
       "'34. Split a list into chunks of size `n'"
      ]
     },
     "execution_count": 13,
     "metadata": {},
     "output_type": "execute_result"
    }
   ],
   "source": [
    "\"34. Split a list into chunks of size `n\""
   ]
  },
  {
   "cell_type": "code",
   "execution_count": 16,
   "id": "13b2188d-22e8-43a1-8dcb-4e28d6d400b7",
   "metadata": {},
   "outputs": [
    {
     "name": "stdout",
     "output_type": "stream",
     "text": [
      "[[1, 2, 3], [4, 5, 6], [7, 8, 9]]\n"
     ]
    }
   ],
   "source": [
    "def list_into_chunk(lst,n):\n",
    "    chunk=[]\n",
    "    for i in range(0,len(lst),n):\n",
    "        chunk.append(lst[i:i+n])\n",
    "    return chunk\n",
    "lst=[1,2,3,4,5,6,7,8,9]\n",
    "n=3\n",
    "chunk=list_into_chunk(lst,n)\n",
    "print(chunk)"
   ]
  },
  {
   "cell_type": "code",
   "execution_count": 1,
   "id": "33f401ac-b96c-43b8-ab16-4ac7200d3eaf",
   "metadata": {},
   "outputs": [
    {
     "data": {
      "text/plain": [
       "' 35. Find the second largest number in a list.'"
      ]
     },
     "execution_count": 1,
     "metadata": {},
     "output_type": "execute_result"
    }
   ],
   "source": [
    "\" 35. Find the second largest number in a list.\""
   ]
  },
  {
   "cell_type": "code",
   "execution_count": 8,
   "id": "ab902d94-9d74-4f5e-bd7d-2f501d6ae46c",
   "metadata": {},
   "outputs": [
    {
     "name": "stdout",
     "output_type": "stream",
     "text": [
      "the second highest number is  56\n"
     ]
    }
   ],
   "source": [
    "def second_largest_no(numbers):\n",
    "    if len(numbers)<2:\n",
    "        return \"list have atlest two numbers\"\n",
    "    largest=second_largest=float('-inf')\n",
    "    for num in numbers :\n",
    "        if num >largest:\n",
    "            second_largest=largest\n",
    "            largest=num\n",
    "        elif num > second_largest and num != largest:\n",
    "            second_largest=num\n",
    "    if second_largest==float('-inf'):\n",
    "        return \"there is no largest no\"\n",
    "    else:\n",
    "        return second_largest\n",
    "my_list=[12,4,56,7,87]\n",
    "result= second_largest_no(my_list)\n",
    "print(\"the second highest number is \",result)"
   ]
  },
  {
   "cell_type": "code",
   "execution_count": 9,
   "id": "5d11210b-bd18-4b8c-92b3-417dd82ccec2",
   "metadata": {},
   "outputs": [
    {
     "data": {
      "text/plain": [
       "' 36. Replace every element in a list with its square '"
      ]
     },
     "execution_count": 9,
     "metadata": {},
     "output_type": "execute_result"
    }
   ],
   "source": [
    "\" 36. Replace every element in a list with its square \""
   ]
  },
  {
   "cell_type": "code",
   "execution_count": 10,
   "id": "163f69ee-4eeb-46eb-aa03-4e132c962d4a",
   "metadata": {},
   "outputs": [
    {
     "name": "stdout",
     "output_type": "stream",
     "text": [
      "[4, 25, 49, 81]\n"
     ]
    }
   ],
   "source": [
    "def square_number(my_list):\n",
    "    return [x**2 for x in my_list]\n",
    "my_list=[2,5,7,9]\n",
    "result=square_number(my_list)\n",
    "print(result)"
   ]
  },
  {
   "cell_type": "code",
   "execution_count": 11,
   "id": "a6c6f0dc-9e7e-4950-93ea-3c7c8cd02aee",
   "metadata": {},
   "outputs": [
    {
     "data": {
      "text/plain": [
       "' 37. Convert a list to a dictionary where list elements become keys and their indices become values.'"
      ]
     },
     "execution_count": 11,
     "metadata": {},
     "output_type": "execute_result"
    }
   ],
   "source": [
    "\" 37. Convert a list to a dictionary where list elements become keys and their indices become values.\""
   ]
  },
  {
   "cell_type": "code",
   "execution_count": 4,
   "id": "01087219-dc56-485e-8c21-0359fdbf5533",
   "metadata": {},
   "outputs": [
    {
     "name": "stdout",
     "output_type": "stream",
     "text": [
      "{'apple': 0, 'banana': 1, 'orange': 2, 'mango': 3}\n"
     ]
    }
   ],
   "source": [
    "def list_of_dict(input_list):\n",
    "    result_dict={}\n",
    "    for index,item in enumerate(input_list): # to iterate through the element of the input list along with their indices\n",
    "        result_dict[item]=index\n",
    "    return result_dict\n",
    "my_list=['apple','banana','orange','mango']\n",
    "result=list_of_dict(my_list)\n",
    "print(result)"
   ]
  },
  {
   "cell_type": "code",
   "execution_count": 5,
   "id": "21cc8595-1e1a-47ea-820f-12e77b23f687",
   "metadata": {},
   "outputs": [
    {
     "data": {
      "text/plain": [
       "' 38. Shuffle the elements of a list randomly '"
      ]
     },
     "execution_count": 5,
     "metadata": {},
     "output_type": "execute_result"
    }
   ],
   "source": [
    "\" 38. Shuffle the elements of a list randomly \""
   ]
  },
  {
   "cell_type": "code",
   "execution_count": 7,
   "id": "d75f2a1e-2abf-4b41-8e94-6e3ff5160b18",
   "metadata": {},
   "outputs": [
    {
     "name": "stdout",
     "output_type": "stream",
     "text": [
      "[3, 5, 2, 8, 6, 7, 1, 4]\n"
     ]
    }
   ],
   "source": [
    "import random\n",
    "\n",
    "my_list=[1,2,3,4,5,6,7,8]\n",
    "random.shuffle(my_list) #shuffle the list randomly\n",
    "\n",
    "print(my_list)"
   ]
  },
  {
   "cell_type": "code",
   "execution_count": 8,
   "id": "78502d3d-91d9-4717-9156-ce0966b94b44",
   "metadata": {},
   "outputs": [
    {
     "data": {
      "text/plain": [
       "' 39. Create a list of the first 10 factorial numbers.'"
      ]
     },
     "execution_count": 8,
     "metadata": {},
     "output_type": "execute_result"
    }
   ],
   "source": [
    "\" 39. Create a list of the first 10 factorial numbers.\""
   ]
  },
  {
   "cell_type": "code",
   "execution_count": 10,
   "id": "1495714d-05c5-494e-bd88-499487f6d114",
   "metadata": {},
   "outputs": [
    {
     "name": "stdout",
     "output_type": "stream",
     "text": [
      "[1, 2, 6, 24, 120, 720, 5040, 40320, 362880, 3628800]\n"
     ]
    }
   ],
   "source": [
    "def factorial_list(n):\n",
    "    if n==0:\n",
    "        return 1\n",
    "    else:\n",
    "        return n*factorial_list(n-1)\n",
    "list_of_factorial=[factorial_list(n) for n in range(1,11)]\n",
    "print(list_of_factorial)"
   ]
  },
  {
   "cell_type": "code",
   "execution_count": 1,
   "id": "9f13dfe4-2bb9-4a13-9668-68d77430b917",
   "metadata": {},
   "outputs": [
    {
     "data": {
      "text/plain": [
       "' 40. Check if two lists have at least one element in common. '"
      ]
     },
     "execution_count": 1,
     "metadata": {},
     "output_type": "execute_result"
    }
   ],
   "source": [
    "\" 40. Check if two lists have at least one element in common. \""
   ]
  },
  {
   "cell_type": "code",
   "execution_count": 5,
   "id": "5f02028c-ec65-44f6-876d-f98196d956cf",
   "metadata": {},
   "outputs": [
    {
     "name": "stdout",
     "output_type": "stream",
     "text": [
      "True\n"
     ]
    }
   ],
   "source": [
    "def common_element(list1,list2):\n",
    "    for i in list1:\n",
    "        if i in list2:\n",
    "            return True\n",
    "    return False\n",
    "list1=[1,2,3,4,5]\n",
    "list2=[4,5,6,7,8]\n",
    "if common_element(list1,list2):\n",
    "    print(\"yes the list have a comma\")\n",
    "print(result)"
   ]
  },
  {
   "cell_type": "code",
   "execution_count": 1,
   "id": "1f7d52a7-1c96-4454-ade4-7d3244b5b577",
   "metadata": {},
   "outputs": [
    {
     "data": {
      "text/plain": [
       "' 41. Remove all elements from a list '"
      ]
     },
     "execution_count": 1,
     "metadata": {},
     "output_type": "execute_result"
    }
   ],
   "source": [
    "\" 41. Remove all elements from a list \""
   ]
  },
  {
   "cell_type": "code",
   "execution_count": 4,
   "id": "ae90555f-d605-4820-a30e-51b182fee6db",
   "metadata": {},
   "outputs": [
    {
     "name": "stdout",
     "output_type": "stream",
     "text": [
      "[]\n"
     ]
    }
   ],
   "source": [
    "def remove_all_element(list1):\n",
    "    list1.clear()\n",
    "    return list1\n",
    "list1=[1,2,3,4,5]\n",
    "result=remove_all_element(list1)\n",
    "print(list1)"
   ]
  },
  {
   "cell_type": "code",
   "execution_count": 5,
   "id": "928f237c-5733-47e8-bec7-2a04a5e07669",
   "metadata": {},
   "outputs": [
    {
     "data": {
      "text/plain": [
       "' 42. Replace negative numbers in a list with 0. '"
      ]
     },
     "execution_count": 5,
     "metadata": {},
     "output_type": "execute_result"
    }
   ],
   "source": [
    "\" 42. Replace negative numbers in a list with 0. \""
   ]
  },
  {
   "cell_type": "code",
   "execution_count": 13,
   "id": "ee090cb2-4d9e-4d08-b466-c9bda36ec36d",
   "metadata": {},
   "outputs": [
    {
     "name": "stdout",
     "output_type": "stream",
     "text": [
      "[1, 2, 3, 0, 0, 4]\n"
     ]
    }
   ],
   "source": [
    "def replace_negative(list1):\n",
    "    for i in range(len(list1)):\n",
    "        if list1[i]<0:\n",
    "            list1[i]=0\n",
    "list1=[1,2,3,-1,-5,4]\n",
    "replace_negative(list1)\n",
    "print(list1)"
   ]
  },
  {
   "cell_type": "code",
   "execution_count": 14,
   "id": "584fb111-9208-45c5-8ccd-b82d42309a2b",
   "metadata": {},
   "outputs": [
    {
     "data": {
      "text/plain": [
       "' 43. Convert a string into a list of words '"
      ]
     },
     "execution_count": 14,
     "metadata": {},
     "output_type": "execute_result"
    }
   ],
   "source": [
    "\" 43. Convert a string into a list of words \""
   ]
  },
  {
   "cell_type": "code",
   "execution_count": 19,
   "id": "206185dd-9468-4549-98a4-5111766f251f",
   "metadata": {},
   "outputs": [
    {
     "name": "stdout",
     "output_type": "stream",
     "text": [
      "['my', 'name', 'is', 'shashi']\n"
     ]
    }
   ],
   "source": [
    "def convert_string_into_list(input_string):\n",
    "    return input_string.split()\n",
    "my_string=\"my name is shashi\"\n",
    "result=convert_string_into_list(my_string)\n",
    "print(result)"
   ]
  },
  {
   "cell_type": "code",
   "execution_count": 20,
   "id": "ce4cbbc5-aefc-4ff5-a2e6-23819ce40124",
   "metadata": {},
   "outputs": [
    {
     "data": {
      "text/plain": [
       "' 45. Create a list of the first `n` powers of 2. '"
      ]
     },
     "execution_count": 20,
     "metadata": {},
     "output_type": "execute_result"
    }
   ],
   "source": [
    "\" 45. Create a list of the first `n` powers of 2. \""
   ]
  },
  {
   "cell_type": "code",
   "execution_count": 27,
   "id": "83d4fdd6-04b0-4fd1-b7f5-0eee0f17a295",
   "metadata": {},
   "outputs": [
    {
     "name": "stdout",
     "output_type": "stream",
     "text": [
      "[1, 2, 4, 8, 16]\n"
     ]
    }
   ],
   "source": [
    "def list_of_power_two(n):\n",
    "    my_list=[2**i for i in range(n)]\n",
    "    return my_list\n",
    "n=5\n",
    "result=list_of_power_two(n)\n",
    "print(result)"
   ]
  },
  {
   "cell_type": "code",
   "execution_count": 28,
   "id": "17e55556-cde6-4f40-a372-b3a8945447c9",
   "metadata": {},
   "outputs": [
    {
     "data": {
      "text/plain": [
       "' 46. Find the longest string in a list of strings. '"
      ]
     },
     "execution_count": 28,
     "metadata": {},
     "output_type": "execute_result"
    }
   ],
   "source": [
    "\" 46. Find the longest string in a list of strings. \""
   ]
  },
  {
   "cell_type": "code",
   "execution_count": 31,
   "id": "52c0aa77-5ce6-43d0-8ab3-d1eda3a33dfe",
   "metadata": {},
   "outputs": [
    {
     "name": "stdout",
     "output_type": "stream",
     "text": [
      "the longest word is shashi\n"
     ]
    }
   ],
   "source": [
    "def longest_string(string):\n",
    "    if not string:\n",
    "        return None\n",
    "    return max(string,key=len)\n",
    "string=['my','name','is','shashi']\n",
    "result=longest_string(string)\n",
    "if result is not None:\n",
    "    print(\"the longest word is\",result)\n",
    "else:\n",
    "    print(\"the list is empty\")"
   ]
  },
  {
   "cell_type": "code",
   "execution_count": 32,
   "id": "566dbfcc-c92a-4211-9161-588dd1662002",
   "metadata": {},
   "outputs": [
    {
     "data": {
      "text/plain": [
       "' 47. Find the shortest string in a list of strings. '"
      ]
     },
     "execution_count": 32,
     "metadata": {},
     "output_type": "execute_result"
    }
   ],
   "source": [
    "\" 47. Find the shortest string in a list of strings. \""
   ]
  },
  {
   "cell_type": "code",
   "execution_count": 34,
   "id": "4be79052-ebe5-4ad4-b515-adbdbacb14aa",
   "metadata": {},
   "outputs": [
    {
     "name": "stdout",
     "output_type": "stream",
     "text": [
      "the sortest word is my\n"
     ]
    }
   ],
   "source": [
    "def longest_string(string):\n",
    "    if not string:\n",
    "        return None\n",
    "    return min(string,key=len)\n",
    "string=['my','name','is','shashi']\n",
    "result=longest_string(string)\n",
    "if result is not None:\n",
    "    print(\"the sortest word is\",result)\n",
    "else:\n",
    "    print(\"the list is empty\")"
   ]
  },
  {
   "cell_type": "code",
   "execution_count": 35,
   "id": "435de1bd-c1dc-4786-8142-6e6c26675384",
   "metadata": {},
   "outputs": [
    {
     "data": {
      "text/plain": [
       "' 48. Create a list of the first `n` triangular numbers.'"
      ]
     },
     "execution_count": 35,
     "metadata": {},
     "output_type": "execute_result"
    }
   ],
   "source": [
    "\" 48. Create a list of the first `n` triangular numbers.\""
   ]
  },
  {
   "cell_type": "code",
   "execution_count": 5,
   "id": "3a7e25a4-86c0-4e9c-85d6-ae39e9335e8f",
   "metadata": {},
   "outputs": [
    {
     "name": "stdin",
     "output_type": "stream",
     "text": [
      "enter a number 10\n"
     ]
    },
    {
     "name": "stdout",
     "output_type": "stream",
     "text": [
      "[1, 3, 6, 10, 15, 21, 28, 36, 45, 55]\n"
     ]
    }
   ],
   "source": [
    "def generate_triangular_number(n):\n",
    "    triangular_numbers=[]\n",
    "    for i in range(1,n+1):\n",
    "        trianguler_number=(i*(i+1))//2\n",
    "        triangular_numbers.append(trianguler_number)\n",
    "    return triangular_numbers\n",
    "n = int(input(\"enter a number\"))\n",
    "triangular_numbers=generate_triangular_number(n)\n",
    "print(triangular_numbers)\n"
   ]
  },
  {
   "cell_type": "code",
   "execution_count": 6,
   "id": "64ee7e8f-a293-41df-83ac-12c5ada8ba5b",
   "metadata": {},
   "outputs": [
    {
     "data": {
      "text/plain": [
       "' 49. Check if a list contains another list as a subsequence '"
      ]
     },
     "execution_count": 6,
     "metadata": {},
     "output_type": "execute_result"
    }
   ],
   "source": [
    "\" 49. Check if a list contains another list as a subsequence \""
   ]
  },
  {
   "cell_type": "code",
   "execution_count": 6,
   "id": "f4306ce0-cffb-44c3-9dc8-f09344f4a29c",
   "metadata": {},
   "outputs": [
    {
     "name": "stdout",
     "output_type": "stream",
     "text": [
      "yes subsequence found in sequence\n"
     ]
    }
   ],
   "source": [
    "def is_subsequence(subseq,seq):\n",
    "    i,j = 0,0\n",
    "    while i<len(seq) and j<len(subseq):\n",
    "        if seq[i]==subseq[j]:\n",
    "            j += 1\n",
    "        i += 1\n",
    "        \n",
    "    return j == len(subseq)\n",
    "sequence = [1,2,3,4,5,6]\n",
    "subsequence= [2,4,6]\n",
    "if is_subsequence(subsequence,sequence) :\n",
    "    print(\"yes subsequence found in sequence\")\n",
    "else:\n",
    "    print(\"no subsequence found in sequence\")"
   ]
  },
  {
   "cell_type": "code",
   "execution_count": 7,
   "id": "9e69d32f-e26a-4adc-87d5-68ecd38dbc05",
   "metadata": {},
   "outputs": [
    {
     "data": {
      "text/plain": [
       "' 50. Swap two elements in a list by their indices. '"
      ]
     },
     "execution_count": 7,
     "metadata": {},
     "output_type": "execute_result"
    }
   ],
   "source": [
    "\" 50. Swap two elements in a list by their indices. \""
   ]
  },
  {
   "cell_type": "code",
   "execution_count": 8,
   "id": "7abd92c0-0461-4e99-9d4a-954a1727fcb9",
   "metadata": {},
   "outputs": [
    {
     "name": "stdout",
     "output_type": "stream",
     "text": [
      "[1, 3, 2, 4, 5, 6, 7, 8]\n"
     ]
    }
   ],
   "source": [
    "def swap_element_by_indices(my_list,index1,index2):\n",
    "    if 0 <=index1 < len(my_list) and 0<=index2 <len(my_list):\n",
    "        temp = my_list[index1]\n",
    "        my_list[index1]=my_list[index2]\n",
    "        my_list[index2]=temp\n",
    "        \n",
    "my_list=[1,2,3,4,5,6,7,8]\n",
    "index1=1\n",
    "index2=2\n",
    "swap_element_by_indices(my_list,index1,index2)\n",
    "print(my_list)"
   ]
  },
  {
   "cell_type": "code",
   "execution_count": 9,
   "id": "67fd873e-f586-4856-8706-dc57efe27f4c",
   "metadata": {},
   "outputs": [],
   "source": [
    "# Tuple Based Practice Problem "
   ]
  },
  {
   "cell_type": "code",
   "execution_count": 10,
   "id": "280aa9fa-5248-40e5-aec2-2ad79f925dc2",
   "metadata": {},
   "outputs": [
    {
     "data": {
      "text/plain": [
       "' 1. Create a tuple with integers from 1 to 5. '"
      ]
     },
     "execution_count": 10,
     "metadata": {},
     "output_type": "execute_result"
    }
   ],
   "source": [
    "\" 1. Create a tuple with integers from 1 to 5. \""
   ]
  },
  {
   "cell_type": "code",
   "execution_count": 11,
   "id": "7708dfc1-7eda-4c45-ae92-f6ec2cc3529e",
   "metadata": {},
   "outputs": [],
   "source": [
    "my_tuple=(1,2,3,4,5)"
   ]
  },
  {
   "cell_type": "code",
   "execution_count": 13,
   "id": "221c48a4-9c14-4b12-931d-cfeebfe6388c",
   "metadata": {},
   "outputs": [
    {
     "data": {
      "text/plain": [
       "(1, 2, 3, 4, 5)"
      ]
     },
     "execution_count": 13,
     "metadata": {},
     "output_type": "execute_result"
    }
   ],
   "source": [
    "my_tuple"
   ]
  },
  {
   "cell_type": "code",
   "execution_count": 14,
   "id": "4bb328ea-aeb7-4fb6-85a9-913aefd00b7c",
   "metadata": {},
   "outputs": [
    {
     "data": {
      "text/plain": [
       "' 2. Access the third element of a tuple '"
      ]
     },
     "execution_count": 14,
     "metadata": {},
     "output_type": "execute_result"
    }
   ],
   "source": [
    "\" 2. Access the third element of a tuple \""
   ]
  },
  {
   "cell_type": "code",
   "execution_count": 16,
   "id": "370811ac-06ad-4c05-8f74-3435d4e088c7",
   "metadata": {},
   "outputs": [
    {
     "name": "stdout",
     "output_type": "stream",
     "text": [
      "3\n"
     ]
    }
   ],
   "source": [
    "tuple1=(1,2,3,4,5)\n",
    "third_element=tuple1[2]\n",
    "print(third_element)"
   ]
  },
  {
   "cell_type": "code",
   "execution_count": 17,
   "id": "68f85a8f-34b8-460c-8f6e-031143f8a076",
   "metadata": {},
   "outputs": [
    {
     "data": {
      "text/plain": [
       "' 3. Find the length of a tuple without using the `len()` function. '"
      ]
     },
     "execution_count": 17,
     "metadata": {},
     "output_type": "execute_result"
    }
   ],
   "source": [
    "\" 3. Find the length of a tuple without using the `len()` function. \""
   ]
  },
  {
   "cell_type": "code",
   "execution_count": 18,
   "id": "7807d578-6a0e-4169-a396-8c01419cd8ed",
   "metadata": {},
   "outputs": [
    {
     "name": "stdout",
     "output_type": "stream",
     "text": [
      "5\n"
     ]
    }
   ],
   "source": [
    "my_tuple=(1,2,3,4,5)\n",
    "count=0\n",
    "for i in my_tuple:\n",
    "    count+=1\n",
    "print(count)"
   ]
  },
  {
   "cell_type": "code",
   "execution_count": 19,
   "id": "ce3194f6-b315-4223-876c-980e73512f47",
   "metadata": {},
   "outputs": [
    {
     "data": {
      "text/plain": [
       "' 4. Count the occurrences of an element in a tuple. '"
      ]
     },
     "execution_count": 19,
     "metadata": {},
     "output_type": "execute_result"
    }
   ],
   "source": [
    "\" 4. Count the occurrences of an element in a tuple. \""
   ]
  },
  {
   "cell_type": "code",
   "execution_count": 21,
   "id": "a4b4dab1-ded5-47c9-8d28-5c0390801bfd",
   "metadata": {},
   "outputs": [
    {
     "name": "stdout",
     "output_type": "stream",
     "text": [
      "4\n"
     ]
    }
   ],
   "source": [
    "my_tuple=(1,2,3,4,5,2,2,3,4,2)\n",
    "element=2\n",
    "occurrence=my_tuple.count(element)\n",
    "print(occurrence)"
   ]
  },
  {
   "cell_type": "code",
   "execution_count": 22,
   "id": "37bc6901-73df-4cdb-922d-9022de6226fb",
   "metadata": {},
   "outputs": [
    {
     "data": {
      "text/plain": [
       "' 5. Find the index of the first occurrence of an element in a tuple. '"
      ]
     },
     "execution_count": 22,
     "metadata": {},
     "output_type": "execute_result"
    }
   ],
   "source": [
    "\" 5. Find the index of the first occurrence of an element in a tuple. \""
   ]
  },
  {
   "cell_type": "code",
   "execution_count": 25,
   "id": "a4db0a41-98cb-4308-85dc-e8598ed9b5e6",
   "metadata": {},
   "outputs": [
    {
     "name": "stdout",
     "output_type": "stream",
     "text": [
      "5\n"
     ]
    }
   ],
   "source": [
    "my_tuple=(1,2,3,4,5,6,2,6)\n",
    "element=6\n",
    "index=my_tuple.index(element)\n",
    "print(index)"
   ]
  },
  {
   "cell_type": "code",
   "execution_count": 26,
   "id": "de6f1188-77c6-473c-9f5a-23d50eabfaa7",
   "metadata": {},
   "outputs": [
    {
     "data": {
      "text/plain": [
       "' 6. Check if an element exists in a tuple. '"
      ]
     },
     "execution_count": 26,
     "metadata": {},
     "output_type": "execute_result"
    }
   ],
   "source": [
    "\" 6. Check if an element exists in a tuple. \""
   ]
  },
  {
   "cell_type": "code",
   "execution_count": 40,
   "id": "2fef23db-4607-4d78-bf39-c28121e15f09",
   "metadata": {},
   "outputs": [
    {
     "name": "stdin",
     "output_type": "stream",
     "text": [
      "enter a element that you want to check 4\n"
     ]
    },
    {
     "name": "stdout",
     "output_type": "stream",
     "text": [
      "yes, the element is in the tuple.\n"
     ]
    }
   ],
   "source": [
    "def check_a_element(my_tuple):\n",
    "    element=int(input(\"enter a element that you want to check\"))\n",
    "    for i in my_tuple:\n",
    "        if i==element:\n",
    "            return True\n",
    "        \n",
    "    return False\n",
    "my_tuple=(1,2,3,4,5,6,7)\n",
    "if check_a_element(my_tuple) :\n",
    "    print(\"yes, the element is in the tuple.\")\n",
    "else:\n",
    "    print(\"no, the element is in the tuple.\")"
   ]
  },
  {
   "cell_type": "code",
   "execution_count": 41,
   "id": "4a833f72-4c89-4348-a865-5a557f39c367",
   "metadata": {},
   "outputs": [
    {
     "data": {
      "text/plain": [
       "' 7. Convert a tuple to a list.'"
      ]
     },
     "execution_count": 41,
     "metadata": {},
     "output_type": "execute_result"
    }
   ],
   "source": [
    "\" 7. Convert a tuple to a list.\""
   ]
  },
  {
   "cell_type": "code",
   "execution_count": 42,
   "id": "04723c83-0a34-4513-b83c-0daad59a3a32",
   "metadata": {},
   "outputs": [
    {
     "name": "stdout",
     "output_type": "stream",
     "text": [
      "[1, 2, 3, 4, 5, 6, 7]\n"
     ]
    }
   ],
   "source": [
    "my_tuple=(1,2,3,4,5,6,7)\n",
    "list1=list(my_tuple)\n",
    "print(list1)"
   ]
  },
  {
   "cell_type": "code",
   "execution_count": 1,
   "id": "c7a989f5-9803-45f3-bc6e-bc9f0b193446",
   "metadata": {},
   "outputs": [
    {
     "data": {
      "text/plain": [
       "' 8. Convert a list to a tuple. '"
      ]
     },
     "execution_count": 1,
     "metadata": {},
     "output_type": "execute_result"
    }
   ],
   "source": [
    "\" 8. Convert a list to a tuple. \""
   ]
  },
  {
   "cell_type": "code",
   "execution_count": 2,
   "id": "7f101cf3-9d42-4830-9184-44753f7b834c",
   "metadata": {},
   "outputs": [
    {
     "name": "stdout",
     "output_type": "stream",
     "text": [
      "(1, 2, 3, 4, 5, 6)\n"
     ]
    }
   ],
   "source": [
    "my_list=[1,2,3,4,5,6]\n",
    "tuple1=tuple(my_list)\n",
    "print(tuple1)"
   ]
  },
  {
   "cell_type": "code",
   "execution_count": 3,
   "id": "58a77eaf-e0f3-464a-b6bc-949a96a43ab5",
   "metadata": {},
   "outputs": [
    {
     "data": {
      "text/plain": [
       "' 9. Unpack the elements of a tuple into variables. '"
      ]
     },
     "execution_count": 3,
     "metadata": {},
     "output_type": "execute_result"
    }
   ],
   "source": [
    "\" 9. Unpack the elements of a tuple into variables. \""
   ]
  },
  {
   "cell_type": "code",
   "execution_count": 4,
   "id": "90561158-cc64-4645-be15-e0082be53588",
   "metadata": {},
   "outputs": [
    {
     "name": "stdout",
     "output_type": "stream",
     "text": [
      "1\n",
      "2\n",
      "3\n"
     ]
    }
   ],
   "source": [
    "my_tuple=(1,2,3)\n",
    "var1, var2, var3 = my_tuple\n",
    "print(var1)\n",
    "print(var2)\n",
    "print(var3)"
   ]
  },
  {
   "cell_type": "code",
   "execution_count": 5,
   "id": "298780ab-08b3-47de-9195-4678982eea99",
   "metadata": {},
   "outputs": [
    {
     "data": {
      "text/plain": [
       "' 10. Create a tuple of even numbers from 1 to 10 '"
      ]
     },
     "execution_count": 5,
     "metadata": {},
     "output_type": "execute_result"
    }
   ],
   "source": [
    "\" 10. Create a tuple of even numbers from 1 to 10 \""
   ]
  },
  {
   "cell_type": "code",
   "execution_count": 10,
   "id": "6e6afbc7-524a-4151-a695-1c7a8b79830d",
   "metadata": {},
   "outputs": [
    {
     "name": "stdout",
     "output_type": "stream",
     "text": [
      "(2, 4, 6, 8, 10)\n"
     ]
    }
   ],
   "source": [
    "def tuple_of_even_numbers(n):\n",
    "    even_number=[]\n",
    "    for i in range(1,n+1):\n",
    "        if i%2==0:\n",
    "            even_number.append(i)\n",
    "    return tuple(even_number)\n",
    "n=10\n",
    "result=tuple_of_even_numbers(n)\n",
    "print(result)"
   ]
  },
  {
   "cell_type": "code",
   "execution_count": 11,
   "id": "22922014-e0e5-421d-8056-85f44e4828db",
   "metadata": {},
   "outputs": [
    {
     "data": {
      "text/plain": [
       "' 11. Create a tuple of odd numbers from 1 to 10. '"
      ]
     },
     "execution_count": 11,
     "metadata": {},
     "output_type": "execute_result"
    }
   ],
   "source": [
    "\" 11. Create a tuple of odd numbers from 1 to 10. \""
   ]
  },
  {
   "cell_type": "code",
   "execution_count": 13,
   "id": "a07e71fe-3e6a-45d3-8a6f-cb9b0f92413b",
   "metadata": {},
   "outputs": [
    {
     "name": "stdout",
     "output_type": "stream",
     "text": [
      "(1, 3, 5, 7, 9)\n"
     ]
    }
   ],
   "source": [
    "def tuple_of_odd_number(n):\n",
    "    odd_number=[]\n",
    "    for i in range(1,n+1):\n",
    "        if i%2!=0:\n",
    "            odd_number.append(i)\n",
    "    return tuple(odd_number)\n",
    "n=10\n",
    "result=tuple_of_odd_number(n)\n",
    "print(result)"
   ]
  },
  {
   "cell_type": "code",
   "execution_count": 14,
   "id": "8859b172-285f-4d16-8305-3ecb5064783d",
   "metadata": {},
   "outputs": [
    {
     "data": {
      "text/plain": [
       "' 12. Concatenate two tuples '"
      ]
     },
     "execution_count": 14,
     "metadata": {},
     "output_type": "execute_result"
    }
   ],
   "source": [
    "\" 12. Concatenate two tuples \""
   ]
  },
  {
   "cell_type": "code",
   "execution_count": 18,
   "id": "744fdfe4-619f-4562-ad6e-622a1d6cf2da",
   "metadata": {},
   "outputs": [
    {
     "name": "stdout",
     "output_type": "stream",
     "text": [
      "(1, 2, 3, 4, 5, 6)\n"
     ]
    }
   ],
   "source": [
    "tuple1=(1,2,3)\n",
    "tuple2=(4,5,6)\n",
    "my_tuple=tuple1+tuple2\n",
    "print(my_tuple)"
   ]
  },
  {
   "cell_type": "code",
   "execution_count": 19,
   "id": "0076bc02-606e-418f-bc01-2df8f50a965a",
   "metadata": {},
   "outputs": [
    {
     "data": {
      "text/plain": [
       "' 13. Repeat a tuple three times. '"
      ]
     },
     "execution_count": 19,
     "metadata": {},
     "output_type": "execute_result"
    }
   ],
   "source": [
    "\" 13. Repeat a tuple three times. \""
   ]
  },
  {
   "cell_type": "code",
   "execution_count": 20,
   "id": "84eff03a-2a0f-404b-aa77-ba31c81c3865",
   "metadata": {},
   "outputs": [
    {
     "name": "stdout",
     "output_type": "stream",
     "text": [
      "(1, 2, 3, 1, 2, 3, 1, 2, 3)\n"
     ]
    }
   ],
   "source": [
    "my_tuple=(1,2,3)\n",
    "new_tuple=3*(my_tuple)\n",
    "print(new_tuple)"
   ]
  },
  {
   "cell_type": "code",
   "execution_count": 21,
   "id": "910c754b-0b1a-4436-a457-a994877892d2",
   "metadata": {},
   "outputs": [
    {
     "data": {
      "text/plain": [
       "' 14. Check if a tuple is empty. '"
      ]
     },
     "execution_count": 21,
     "metadata": {},
     "output_type": "execute_result"
    }
   ],
   "source": [
    "\" 14. Check if a tuple is empty. \""
   ]
  },
  {
   "cell_type": "code",
   "execution_count": 22,
   "id": "17b1bf2b-a58f-4771-a211-c8297a6a06f8",
   "metadata": {},
   "outputs": [
    {
     "name": "stdout",
     "output_type": "stream",
     "text": [
      "the tuple is empty\n"
     ]
    }
   ],
   "source": [
    "my_tuple=()\n",
    "if len(my_tuple)==0:\n",
    "    print(\"the tuple is empty\")\n",
    "else:\n",
    "    print(\"the tuple is not a empty\")"
   ]
  },
  {
   "cell_type": "code",
   "execution_count": 23,
   "id": "6246fcd7-6758-46a2-a41e-f1a287a0f5e3",
   "metadata": {},
   "outputs": [
    {
     "data": {
      "text/plain": [
       "' 15. Create a nested tuple. '"
      ]
     },
     "execution_count": 23,
     "metadata": {},
     "output_type": "execute_result"
    }
   ],
   "source": [
    "\" 15. Create a nested tuple. \""
   ]
  },
  {
   "cell_type": "code",
   "execution_count": 1,
   "id": "16a6faac-9efc-430b-89d2-04fb4d584108",
   "metadata": {},
   "outputs": [],
   "source": [
    "nested_tuple=((1,2),(3,4),(5,6))"
   ]
  },
  {
   "cell_type": "code",
   "execution_count": 2,
   "id": "73eea241-6efb-4924-b6df-80230adbdedf",
   "metadata": {},
   "outputs": [
    {
     "data": {
      "text/plain": [
       "' 16. Access the first element of a nested tuple. '"
      ]
     },
     "execution_count": 2,
     "metadata": {},
     "output_type": "execute_result"
    }
   ],
   "source": [
    "\" 16. Access the first element of a nested tuple. \""
   ]
  },
  {
   "cell_type": "code",
   "execution_count": 3,
   "id": "05187061-53a5-4d84-9cd6-44b128973411",
   "metadata": {},
   "outputs": [
    {
     "data": {
      "text/plain": [
       "(1, 2)"
      ]
     },
     "execution_count": 3,
     "metadata": {},
     "output_type": "execute_result"
    }
   ],
   "source": [
    "nested_tuple[0]"
   ]
  },
  {
   "cell_type": "code",
   "execution_count": 4,
   "id": "98f2e19d-1afa-4b07-8c34-389fed27a8b7",
   "metadata": {},
   "outputs": [
    {
     "data": {
      "text/plain": [
       "' 17. Create a tuple with a single element. '"
      ]
     },
     "execution_count": 4,
     "metadata": {},
     "output_type": "execute_result"
    }
   ],
   "source": [
    "\" 17. Create a tuple with a single element. \""
   ]
  },
  {
   "cell_type": "code",
   "execution_count": 9,
   "id": "0f67ed0b-1bfd-4895-aca2-46bdda4bf813",
   "metadata": {},
   "outputs": [
    {
     "name": "stdout",
     "output_type": "stream",
     "text": [
      "(12,)\n"
     ]
    }
   ],
   "source": [
    "my_tuple=(12,)\n",
    "print(my_tuple)"
   ]
  },
  {
   "cell_type": "code",
   "execution_count": 10,
   "id": "b5d90758-1fff-42af-a475-26d2ae89faee",
   "metadata": {},
   "outputs": [
    {
     "data": {
      "text/plain": [
       "' 18. Compare two tuples. '"
      ]
     },
     "execution_count": 10,
     "metadata": {},
     "output_type": "execute_result"
    }
   ],
   "source": [
    "\" 18. Compare two tuples. \""
   ]
  },
  {
   "cell_type": "code",
   "execution_count": 13,
   "id": "e0bbe6c7-3b51-43a0-8cf3-ec764a60a3c2",
   "metadata": {},
   "outputs": [
    {
     "name": "stdout",
     "output_type": "stream",
     "text": [
      "the two tuple are equals\n"
     ]
    }
   ],
   "source": [
    "tuple1=(1,2,3,4)\n",
    "tuple2=(1,2,3,4)\n",
    "if tuple1==tuple2:\n",
    "    print(\"the two tuple are equals\")\n",
    "elif tuple1!=tuple2:\n",
    "    print(\"not equal\")\n",
    "elif tuple1>tuple2:\n",
    "    print(\"tuple1 greather than tuple2\")\n",
    "elif tuple1<tuple2:\n",
    "    print(\"tuple2 grather than tuple1\")\n",
    "else:\n",
    "    print(\"tuple does not exist\")"
   ]
  },
  {
   "cell_type": "code",
   "execution_count": 14,
   "id": "6daed50f-de1e-427f-bf81-83568f5b6a23",
   "metadata": {},
   "outputs": [
    {
     "data": {
      "text/plain": [
       "' 19. Delete a tuple. '"
      ]
     },
     "execution_count": 14,
     "metadata": {},
     "output_type": "execute_result"
    }
   ],
   "source": [
    "\" 19. Delete a tuple. \""
   ]
  },
  {
   "cell_type": "code",
   "execution_count": 17,
   "id": "ae1d54b4-614c-4478-9dcd-5c2d702e6cfc",
   "metadata": {},
   "outputs": [],
   "source": [
    "my_tuple=(1,2,3,4,5)\n",
    "del (my_tuple)\n"
   ]
  },
  {
   "cell_type": "code",
   "execution_count": 19,
   "id": "843642ee-8a7a-462b-a652-db3e26e1868d",
   "metadata": {},
   "outputs": [
    {
     "data": {
      "text/plain": [
       "' 20. Slice a tuple. '"
      ]
     },
     "execution_count": 19,
     "metadata": {},
     "output_type": "execute_result"
    }
   ],
   "source": [
    "\" 20. Slice a tuple. \""
   ]
  },
  {
   "cell_type": "code",
   "execution_count": 20,
   "id": "9a628a48-24bf-499d-861c-2c3b935fa2f3",
   "metadata": {},
   "outputs": [
    {
     "name": "stdout",
     "output_type": "stream",
     "text": [
      "(2, 3, 4, 5)\n"
     ]
    }
   ],
   "source": [
    "my_tuple=(1,2,3,4,5,6)\n",
    "new_tuple=my_tuple[1:5]\n",
    "print(new_tuple)"
   ]
  },
  {
   "cell_type": "code",
   "execution_count": 21,
   "id": "28f88a66-6a20-4f82-8a73-45cf5bcfe5f7",
   "metadata": {},
   "outputs": [
    {
     "data": {
      "text/plain": [
       "' 21. Find the maximum value in a tuple. '"
      ]
     },
     "execution_count": 21,
     "metadata": {},
     "output_type": "execute_result"
    }
   ],
   "source": [
    "\" 21. Find the maximum value in a tuple. \""
   ]
  },
  {
   "cell_type": "code",
   "execution_count": 23,
   "id": "5f104e15-31b5-4900-8963-be7cf695df3d",
   "metadata": {},
   "outputs": [
    {
     "data": {
      "text/plain": [
       "6"
      ]
     },
     "execution_count": 23,
     "metadata": {},
     "output_type": "execute_result"
    }
   ],
   "source": [
    "my_tuple=(1,2,3,4,5,6)\n",
    "max(my_tuple)"
   ]
  },
  {
   "cell_type": "code",
   "execution_count": 24,
   "id": "f7f5631d-8c88-4967-b291-1476c8218451",
   "metadata": {},
   "outputs": [
    {
     "data": {
      "text/plain": [
       "' 22. Find the minimum value in a tuple. '"
      ]
     },
     "execution_count": 24,
     "metadata": {},
     "output_type": "execute_result"
    }
   ],
   "source": [
    "\" 22. Find the minimum value in a tuple. \""
   ]
  },
  {
   "cell_type": "code",
   "execution_count": 25,
   "id": "7a04fde9-419d-41b2-bf36-1f567dc58e84",
   "metadata": {},
   "outputs": [
    {
     "data": {
      "text/plain": [
       "1"
      ]
     },
     "execution_count": 25,
     "metadata": {},
     "output_type": "execute_result"
    }
   ],
   "source": [
    "my_tuple=(1,2,3,4,5,6,7)\n",
    "min(my_tuple)"
   ]
  },
  {
   "cell_type": "code",
   "execution_count": 26,
   "id": "89dc9712-8520-4d3d-8017-04a3d9141537",
   "metadata": {},
   "outputs": [
    {
     "data": {
      "text/plain": [
       "' 23. Convert a string to a tuple of characters.'"
      ]
     },
     "execution_count": 26,
     "metadata": {},
     "output_type": "execute_result"
    }
   ],
   "source": [
    "\" 23. Convert a string to a tuple of characters.\""
   ]
  },
  {
   "cell_type": "code",
   "execution_count": 30,
   "id": "945b08c9-2867-4c8b-81ed-ddf225e0e682",
   "metadata": {},
   "outputs": [
    {
     "name": "stdout",
     "output_type": "stream",
     "text": [
      "('m', 'y', ' ', 'n', 'a', 'm', 'e', ' ', 'i', 's', ' ', 's', 'h', 'a', 's', 'h', 'i')\n"
     ]
    }
   ],
   "source": [
    "string=(\"my name is shashi\")\n",
    "char_tuple=tuple(string)\n",
    "print(char_tuple)"
   ]
  },
  {
   "cell_type": "code",
   "execution_count": 31,
   "id": "46379bed-cfe7-4901-a394-6e6b398ec4f7",
   "metadata": {},
   "outputs": [
    {
     "data": {
      "text/plain": [
       "' 24. Convert a tuple of characters to a string '"
      ]
     },
     "execution_count": 31,
     "metadata": {},
     "output_type": "execute_result"
    }
   ],
   "source": [
    "\" 24. Convert a tuple of characters to a string \""
   ]
  },
  {
   "cell_type": "code",
   "execution_count": 32,
   "id": "3578e3ec-fd68-431e-8d76-2741c34836ee",
   "metadata": {},
   "outputs": [
    {
     "name": "stdout",
     "output_type": "stream",
     "text": [
      "hello world\n"
     ]
    }
   ],
   "source": [
    "char_tuple=('h','e','l','l','o',' ','w','o','r','l','d')\n",
    "string=''.join(char_tuple)\n",
    "print(string)"
   ]
  },
  {
   "cell_type": "code",
   "execution_count": 33,
   "id": "646b5bbb-1f0f-4db8-8cc6-5731e13034f3",
   "metadata": {},
   "outputs": [
    {
     "data": {
      "text/plain": [
       "' 25. Create a tuple from multiple data types. '"
      ]
     },
     "execution_count": 33,
     "metadata": {},
     "output_type": "execute_result"
    }
   ],
   "source": [
    "\" 25. Create a tuple from multiple data types. \""
   ]
  },
  {
   "cell_type": "code",
   "execution_count": 34,
   "id": "bd97210f-78a0-4a5f-aba9-393340eeb6eb",
   "metadata": {},
   "outputs": [
    {
     "name": "stdout",
     "output_type": "stream",
     "text": [
      "(1, 'h', 1.5, [1, 2, 3, 4])\n"
     ]
    }
   ],
   "source": [
    "mixed_tuple=(1,'h',1.5,[1,2,3,4])\n",
    "print(mixed_tuple)"
   ]
  },
  {
   "cell_type": "code",
   "execution_count": 35,
   "id": "e7ce0d0c-c4d5-4913-b02d-ca42f571416a",
   "metadata": {},
   "outputs": [
    {
     "data": {
      "text/plain": [
       "' 26. Check if two tuples are identical.'"
      ]
     },
     "execution_count": 35,
     "metadata": {},
     "output_type": "execute_result"
    }
   ],
   "source": [
    "\" 26. Check if two tuples are identical.\""
   ]
  },
  {
   "cell_type": "code",
   "execution_count": 37,
   "id": "c1f9112e-93e3-4205-bc68-e9020412411a",
   "metadata": {},
   "outputs": [
    {
     "name": "stdout",
     "output_type": "stream",
     "text": [
      "Yes,the tuple are identical\n"
     ]
    }
   ],
   "source": [
    "tuple1=(1,2,3)\n",
    "tuple2=(1,2,3)\n",
    "if tuple1==tuple2:\n",
    "    print(\"Yes,the tuple are identical\")\n",
    "else:\n",
    "    print(\"No, the tuple are not a identical\")"
   ]
  },
  {
   "cell_type": "code",
   "execution_count": 39,
   "id": "8c89e6ff-c83e-4ada-a220-a3181492e7bd",
   "metadata": {},
   "outputs": [
    {
     "data": {
      "text/plain": [
       "'27. Sort the elements of a tuple.'"
      ]
     },
     "execution_count": 39,
     "metadata": {},
     "output_type": "execute_result"
    }
   ],
   "source": [
    "\"27. Sort the elements of a tuple.\""
   ]
  },
  {
   "cell_type": "code",
   "execution_count": 41,
   "id": "6bc77283-1f27-4142-a7ab-4d82f29bf300",
   "metadata": {},
   "outputs": [
    {
     "name": "stdout",
     "output_type": "stream",
     "text": [
      "(1, 2, 3, 4, 5, 6, 7, 8)\n"
     ]
    }
   ],
   "source": [
    "my_tuple=(1,2,5,3,7,4,8,6)\n",
    "new_tuple=sorted(my_tuple)\n",
    "print(tuple(new_tuple))"
   ]
  },
  {
   "cell_type": "code",
   "execution_count": 42,
   "id": "7349105a-ea3e-4d4d-a42c-a2883792d31a",
   "metadata": {},
   "outputs": [
    {
     "data": {
      "text/plain": [
       "' 28. Convert a tuple of integers to a tuple of strings.'"
      ]
     },
     "execution_count": 42,
     "metadata": {},
     "output_type": "execute_result"
    }
   ],
   "source": [
    "\" 28. Convert a tuple of integers to a tuple of strings.\""
   ]
  },
  {
   "cell_type": "code",
   "execution_count": 46,
   "id": "d9f8529f-f7a7-451d-8c77-a79a1789c099",
   "metadata": {},
   "outputs": [
    {
     "name": "stdout",
     "output_type": "stream",
     "text": [
      "('1', '2', '3', '4', '5')\n"
     ]
    }
   ],
   "source": [
    "my_tuple=(1,2,3,4,5)\n",
    "str_tuple=tuple(str(x) for x in my_tuple)\n",
    "print(str_tuple)"
   ]
  },
  {
   "cell_type": "code",
   "execution_count": 47,
   "id": "a9fbefb1-5b3e-449e-b55b-2a3fff0b6b33",
   "metadata": {},
   "outputs": [
    {
     "data": {
      "text/plain": [
       "'29. Convert a tuple of strings to a tuple of integers.'"
      ]
     },
     "execution_count": 47,
     "metadata": {},
     "output_type": "execute_result"
    }
   ],
   "source": [
    "\"29. Convert a tuple of strings to a tuple of integers.\""
   ]
  },
  {
   "cell_type": "code",
   "execution_count": 48,
   "id": "14dc46c6-399a-46cc-a7d6-fab5ee7b127d",
   "metadata": {},
   "outputs": [
    {
     "name": "stdout",
     "output_type": "stream",
     "text": [
      "(1, 2, 3, 4, 5)\n"
     ]
    }
   ],
   "source": [
    "str_tuple=('1','2','3','4','5')\n",
    "int_tuple=tuple(int(x) for x in str_tuple)\n",
    "print(int_tuple)"
   ]
  },
  {
   "cell_type": "code",
   "execution_count": 51,
   "id": "62355df0-f9e4-4678-9d3d-5b0b51417a88",
   "metadata": {},
   "outputs": [
    {
     "data": {
      "text/plain": [
       "' 30. Merge two tuples.'"
      ]
     },
     "execution_count": 51,
     "metadata": {},
     "output_type": "execute_result"
    }
   ],
   "source": [
    "\" 30. Merge two tuples.\""
   ]
  },
  {
   "cell_type": "code",
   "execution_count": 49,
   "id": "c6b2b502-3483-4da4-b22c-25f822895549",
   "metadata": {},
   "outputs": [
    {
     "name": "stdout",
     "output_type": "stream",
     "text": [
      "(1, 2, 3, 4, 5, 6)\n"
     ]
    }
   ],
   "source": [
    "tuple1=(1,2,3)\n",
    "tuple2=(4,5,6)\n",
    "result=tuple1+tuple2\n",
    "print(result)"
   ]
  },
  {
   "cell_type": "code",
   "execution_count": 52,
   "id": "a823c205-b917-44cb-9291-c3fe6c235118",
   "metadata": {},
   "outputs": [
    {
     "data": {
      "text/plain": [
       "' 31. Flatten a nested tuple. '"
      ]
     },
     "execution_count": 52,
     "metadata": {},
     "output_type": "execute_result"
    }
   ],
   "source": [
    "\" 31. Flatten a nested tuple. \""
   ]
  },
  {
   "cell_type": "code",
   "execution_count": 61,
   "id": "8d7b9210-667c-40b3-bd33-23168cec0b69",
   "metadata": {},
   "outputs": [
    {
     "name": "stdout",
     "output_type": "stream",
     "text": [
      "(1, 2, 3, 5, 6, 7)\n"
     ]
    }
   ],
   "source": [
    "def flatten_nestede_tuple(nested_tuple):\n",
    "    flat_list=[]\n",
    "    def flat_recursive(tup):\n",
    "        for item in tup:\n",
    "            if isinstance(item,tuple):\n",
    "                flat_recursive(item)\n",
    "            else:\n",
    "                flat_list.append(item)\n",
    "    flat_recursive(nested_tuple)\n",
    "    flat_tuple=tuple(flat_list)\n",
    "    return flat_tuple\n",
    "nested_tuple=(1,(2,3),5,(6,7))\n",
    "flat_tuple=flatten_nestede_tuple(nested_tuple)\n",
    "print(flat_tuple)"
   ]
  },
  {
   "cell_type": "code",
   "execution_count": 63,
   "id": "4b3c3c21-8639-418b-af0d-7816a4964bc9",
   "metadata": {},
   "outputs": [
    {
     "data": {
      "text/plain": [
       "'32. Create a tuple of the first 5 prime numbers.'"
      ]
     },
     "execution_count": 63,
     "metadata": {},
     "output_type": "execute_result"
    }
   ],
   "source": [
    "\"32. Create a tuple of the first 5 prime numbers.\""
   ]
  },
  {
   "cell_type": "code",
   "execution_count": null,
   "id": "2ffb0523-57d0-49c0-a9a2-45d5f8a7b1ba",
   "metadata": {},
   "outputs": [],
   "source": [
    "def first_5_prime_no(n):\n",
    "    prime_list=[]\n",
    "    "
   ]
  },
  {
   "cell_type": "code",
   "execution_count": 1,
   "id": "13fdc925-7dfa-4261-be2c-ba32f3bacddb",
   "metadata": {},
   "outputs": [
    {
     "data": {
      "text/plain": [
       "' 33. Check if a tuple is a palindrome.'"
      ]
     },
     "execution_count": 1,
     "metadata": {},
     "output_type": "execute_result"
    }
   ],
   "source": [
    "\" 33. Check if a tuple is a palindrome.\""
   ]
  },
  {
   "cell_type": "code",
   "execution_count": 8,
   "id": "9bd8f46f-9dbe-4c5c-9da5-286b67f9044f",
   "metadata": {},
   "outputs": [
    {
     "name": "stdout",
     "output_type": "stream",
     "text": [
      "True\n",
      "False\n"
     ]
    }
   ],
   "source": [
    "def check_palindrome(my_tuple):\n",
    "    list_tuple=list(my_tuple)\n",
    "    reversed_tuple=list_tuple[::-1]\n",
    "    return list_tuple==reversed_tuple\n",
    "tuple1=(1,2,3,2,1)\n",
    "tuple2=(1,2,3,4,2,1)\n",
    "print(check_palindrome(tuple1))\n",
    "print(check_palindrome(tuple2))"
   ]
  },
  {
   "cell_type": "code",
   "execution_count": 9,
   "id": "d91f7621-97d2-4c6e-b6d9-a5dfcf42e8e6",
   "metadata": {},
   "outputs": [
    {
     "data": {
      "text/plain": [
       "' 34. Create a tuple of squares of numbers from 1 to 5. '"
      ]
     },
     "execution_count": 9,
     "metadata": {},
     "output_type": "execute_result"
    }
   ],
   "source": [
    "\" 34. Create a tuple of squares of numbers from 1 to 5. \""
   ]
  },
  {
   "cell_type": "code",
   "execution_count": 16,
   "id": "bffb3c73-8090-4d53-8950-48f9127bb81b",
   "metadata": {},
   "outputs": [
    {
     "name": "stdout",
     "output_type": "stream",
     "text": [
      "(1, 4, 9, 16, 25)\n"
     ]
    }
   ],
   "source": [
    "def tuple_of_square(n):\n",
    "    list1=[]\n",
    "    for i in range(1,n+1):\n",
    "        i=i*i\n",
    "        list1.append(i)\n",
    "    return tuple(list1)\n",
    "n=5\n",
    "print(tuple_of_square(n))"
   ]
  },
  {
   "cell_type": "code",
   "execution_count": 1,
   "id": "19b609ce-d4dd-42ec-a63e-1b5c420107af",
   "metadata": {},
   "outputs": [
    {
     "data": {
      "text/plain": [
       "' 35. Filter out all even numbers from a tuple.'"
      ]
     },
     "execution_count": 1,
     "metadata": {},
     "output_type": "execute_result"
    }
   ],
   "source": [
    "\" 35. Filter out all even numbers from a tuple.\""
   ]
  },
  {
   "cell_type": "code",
   "execution_count": 8,
   "id": "d603d11a-77a8-4477-9df0-b571bd0d8b74",
   "metadata": {},
   "outputs": [
    {
     "name": "stdout",
     "output_type": "stream",
     "text": [
      "(2, 4, 6, 8)\n"
     ]
    }
   ],
   "source": [
    "def all_even_no(my_tuple):\n",
    "    new_list=[]\n",
    "    for i in my_tuple:\n",
    "        if i%2==0:\n",
    "            new_list.append(i)\n",
    "    return tuple(new_list)\n",
    "my_tuple=(1,2,3,4,5,6,7,8)\n",
    "result=all_even_no(my_tuple)\n",
    "print(result)"
   ]
  },
  {
   "cell_type": "code",
   "execution_count": 6,
   "id": "0f56f4e9-923c-477d-8ba8-08dd0f9381ed",
   "metadata": {},
   "outputs": [
    {
     "data": {
      "text/plain": [
       "' 36. Multiply all elements in a tuple by 2 '"
      ]
     },
     "execution_count": 6,
     "metadata": {},
     "output_type": "execute_result"
    }
   ],
   "source": [
    "\" 36. Multiply all elements in a tuple by 2 \""
   ]
  },
  {
   "cell_type": "code",
   "execution_count": 9,
   "id": "0e52785e-9727-41ba-8c8a-e6db555d3b42",
   "metadata": {},
   "outputs": [
    {
     "name": "stdout",
     "output_type": "stream",
     "text": [
      "(2, 4, 6, 8, 10, 12, 14, 16)\n"
     ]
    }
   ],
   "source": [
    "def multiply_tuple_by_2(my_tuple):\n",
    "    new_list=[]\n",
    "    for i in my_tuple:\n",
    "        i=i*2\n",
    "        new_list.append(i)\n",
    "    return tuple(new_list)\n",
    "\n",
    "my_tuple=(1,2,3,4,5,6,7,8)\n",
    "result=multiply_tuple_by_2(my_tuple)\n",
    "print(result)"
   ]
  },
  {
   "cell_type": "code",
   "execution_count": 10,
   "id": "0a0e7607-ef92-48d7-a692-1ee47b1666a3",
   "metadata": {},
   "outputs": [
    {
     "data": {
      "text/plain": [
       "' 37. Create a tuple of random numbers. '"
      ]
     },
     "execution_count": 10,
     "metadata": {},
     "output_type": "execute_result"
    }
   ],
   "source": [
    "\" 37. Create a tuple of random numbers. \""
   ]
  },
  {
   "cell_type": "code",
   "execution_count": 23,
   "id": "b12e0483-39ab-46ef-9ea3-5c61a26675c8",
   "metadata": {},
   "outputs": [
    {
     "name": "stdout",
     "output_type": "stream",
     "text": [
      "(50, 55, 45, 39, 53, 77, 7, 52, 99, 33)\n"
     ]
    }
   ],
   "source": [
    "import random \n",
    "random_number=tuple(random.randint(1,100) for i in range(10))\n",
    "print (random_number)"
   ]
  },
  {
   "cell_type": "code",
   "execution_count": 24,
   "id": "aeb2ad3f-3430-4d19-bc37-0669f6f69643",
   "metadata": {},
   "outputs": [
    {
     "data": {
      "text/plain": [
       "' 38. Check if a tuple is sorted. '"
      ]
     },
     "execution_count": 24,
     "metadata": {},
     "output_type": "execute_result"
    }
   ],
   "source": [
    "\" 38. Check if a tuple is sorted. \""
   ]
  },
  {
   "cell_type": "code",
   "execution_count": 46,
   "id": "2d328539-73f6-4825-b706-02bb49efada6",
   "metadata": {},
   "outputs": [
    {
     "name": "stdout",
     "output_type": "stream",
     "text": [
      "True\n",
      "False\n"
     ]
    }
   ],
   "source": [
    "def check_tuple_is_sorted(my_tuple):\n",
    "    return my_tuple == tuple(sorted(my_tuple))\n",
    "\n",
    "tuple1=(1,2,3,4)\n",
    "tuple2=(2,3,1,4)\n",
    "\n",
    "print(check_tuple_is_sorted(tuple1))\n",
    "print(check_tuple_is_sorted(tuple2))"
   ]
  },
  {
   "cell_type": "code",
   "execution_count": 47,
   "id": "456f6494-93db-41de-9b36-da2c08c001c4",
   "metadata": {},
   "outputs": [
    {
     "data": {
      "text/plain": [
       "' 39. Rotate a tuple to the left by `n` positions.'"
      ]
     },
     "execution_count": 47,
     "metadata": {},
     "output_type": "execute_result"
    }
   ],
   "source": [
    "\" 39. Rotate a tuple to the left by `n` positions.\""
   ]
  },
  {
   "cell_type": "code",
   "execution_count": 6,
   "id": "ee8c838d-d5d7-4091-afc4-6ad716959bb7",
   "metadata": {},
   "outputs": [
    {
     "name": "stdout",
     "output_type": "stream",
     "text": [
      "(3, 4, 5, 1, 2)\n"
     ]
    }
   ],
   "source": [
    "def rotate_tuple(my_tuple ,n):\n",
    "    tuple_list=[]\n",
    "    if n<0 :\n",
    "        n=len(my_tuple)+n\n",
    "    n=n%len(my_tuple)\n",
    "    tuple_list=(my_tuple[n:] + my_tuple[:n])\n",
    "    return tuple(tuple_list)\n",
    "n=2\n",
    "my_tuple=(1,2,3,4,5)\n",
    "result= rotate_tuple(my_tuple,n)\n",
    "print(result)"
   ]
  },
  {
   "cell_type": "code",
   "execution_count": 11,
   "id": "36e2cb37-5fdd-4e78-b8d0-c1d8af361a49",
   "metadata": {},
   "outputs": [
    {
     "data": {
      "text/plain": [
       "' 40. Rotate a tuple to the right by `n` positions.'"
      ]
     },
     "execution_count": 11,
     "metadata": {},
     "output_type": "execute_result"
    }
   ],
   "source": [
    "\" 40. Rotate a tuple to the right by `n` positions.\""
   ]
  },
  {
   "cell_type": "code",
   "execution_count": 13,
   "id": "cd0d4e56-7c21-4e98-a3f5-8c0b14355b03",
   "metadata": {},
   "outputs": [
    {
     "name": "stdout",
     "output_type": "stream",
     "text": [
      "(4, 5, 1, 2, 3)\n"
     ]
    }
   ],
   "source": [
    "def rotate_tuple_right(my_tuple,n):\n",
    "    if n<0:\n",
    "        n=len(my_tuple)+n\n",
    "    n=n%len(my_tuple)\n",
    "    return my_tuple[-n:]+ my_tuple[:-n]\n",
    "n=2\n",
    "my_tuple=(1,2,3,4,5)\n",
    "result= rotate_tuple_right(my_tuple,n)\n",
    "print(result)"
   ]
  },
  {
   "cell_type": "code",
   "execution_count": 14,
   "id": "9f245693-0753-4de3-b8cc-7a08cb91faec",
   "metadata": {},
   "outputs": [
    {
     "data": {
      "text/plain": [
       "' 41. Create a tuple of the first 5 Fibonacci numbers.'"
      ]
     },
     "execution_count": 14,
     "metadata": {},
     "output_type": "execute_result"
    }
   ],
   "source": [
    "\" 41. Create a tuple of the first 5 Fibonacci numbers.\""
   ]
  },
  {
   "cell_type": "code",
   "execution_count": 2,
   "id": "2af4f548-18be-41d5-85d3-e1cb344efe54",
   "metadata": {},
   "outputs": [
    {
     "data": {
      "text/plain": [
       "(0, 1, 1, 2, 3)"
      ]
     },
     "execution_count": 2,
     "metadata": {},
     "output_type": "execute_result"
    }
   ],
   "source": [
    "def generate_fibonacci(n):\n",
    "    fibonacci_list=[0,1]\n",
    "    while len(fibonacci_list) < n:\n",
    "        next_fibonacci= fibonacci_list[-1]+fibonacci_list[-2]\n",
    "        fibonacci_list.append(next_fibonacci)\n",
    "    return tuple(fibonacci_list)\n",
    "\n",
    "generate_fibonacci(5)"
   ]
  },
  {
   "cell_type": "code",
   "execution_count": 3,
   "id": "7308f0a5-d717-4fd7-a0c7-12d540d72c5d",
   "metadata": {},
   "outputs": [
    {
     "data": {
      "text/plain": [
       "' 42. Create a tuple from user input. '"
      ]
     },
     "execution_count": 3,
     "metadata": {},
     "output_type": "execute_result"
    }
   ],
   "source": [
    "\" 42. Create a tuple from user input. \""
   ]
  },
  {
   "cell_type": "code",
   "execution_count": 13,
   "id": "7e7fe982-2b1e-4af1-bc43-da00b5124aad",
   "metadata": {},
   "outputs": [
    {
     "name": "stdin",
     "output_type": "stream",
     "text": [
      "enter a number 5\n"
     ]
    },
    {
     "data": {
      "text/plain": [
       "(1, 2, 3, 4, 5)"
      ]
     },
     "execution_count": 13,
     "metadata": {},
     "output_type": "execute_result"
    }
   ],
   "source": [
    "def create_a_tuple(n):\n",
    "    list1=[]\n",
    "    for i in range(1,n+1):\n",
    "        list1.append(i)\n",
    "    return tuple(list1)\n",
    "user_input=int(input(\"enter a number\"))\n",
    "create_a_tuple(user_input)"
   ]
  },
  {
   "cell_type": "code",
   "execution_count": 14,
   "id": "bdb0e4f9-156c-492e-9ce2-433b04d858b8",
   "metadata": {},
   "outputs": [
    {
     "data": {
      "text/plain": [
       "' 43. Swap two elements in a tuple.'"
      ]
     },
     "execution_count": 14,
     "metadata": {},
     "output_type": "execute_result"
    }
   ],
   "source": [
    "\" 43. Swap two elements in a tuple.\""
   ]
  },
  {
   "cell_type": "code",
   "execution_count": 16,
   "id": "d37925c8-1c18-4c40-8ce8-829e6d8eb6ce",
   "metadata": {},
   "outputs": [
    {
     "data": {
      "text/plain": [
       "(1, 4, 3, 2, 5)"
      ]
     },
     "execution_count": 16,
     "metadata": {},
     "output_type": "execute_result"
    }
   ],
   "source": [
    "def swap_2_element(my_tuple):\n",
    "    tuple_list=list(my_tuple)\n",
    "    tuple_list[1],tuple_list[3]=tuple_list[3],tuple_list[1]\n",
    "    new_tuple=tuple_list\n",
    "    return tuple(new_tuple)\n",
    "my_tuple=(1,2,3,4,5)\n",
    "swap_2_element(my_tuple)"
   ]
  },
  {
   "cell_type": "code",
   "execution_count": 17,
   "id": "7bfb871e-cd9f-4b94-9dac-3a99e7eaf092",
   "metadata": {},
   "outputs": [
    {
     "data": {
      "text/plain": [
       "' 44. Reverse the elements of a tuple. '"
      ]
     },
     "execution_count": 17,
     "metadata": {},
     "output_type": "execute_result"
    }
   ],
   "source": [
    "\" 44. Reverse the elements of a tuple. \""
   ]
  },
  {
   "cell_type": "code",
   "execution_count": 26,
   "id": "e47b9a95-89dc-4fe3-b856-eb16d1098966",
   "metadata": {},
   "outputs": [
    {
     "name": "stdout",
     "output_type": "stream",
     "text": [
      "(5, 4, 3, 2, 1)\n",
      "(9, 8, 6, 5, 3)\n"
     ]
    }
   ],
   "source": [
    "def reverse_tuple(my_tuple):\n",
    "    tuple_list=list(my_tuple)\n",
    "    new_tuple=tuple_list[::-1]\n",
    "    return tuple(new_tuple)\n",
    "tuple1=(1,2,3,4,5)\n",
    "tuple2=(3,5,6,8,9)\n",
    "print(reverse_tuple(tuple1))\n",
    "print(reverse_tuple(tuple2))"
   ]
  },
  {
   "cell_type": "code",
   "execution_count": 27,
   "id": "3440ab31-b4f3-4a44-840c-f9cd225507cc",
   "metadata": {},
   "outputs": [
    {
     "data": {
      "text/plain": [
       "' 45. Create a tuple of the first `n` powers of 2. '"
      ]
     },
     "execution_count": 27,
     "metadata": {},
     "output_type": "execute_result"
    }
   ],
   "source": [
    "\" 45. Create a tuple of the first `n` powers of 2. \""
   ]
  },
  {
   "cell_type": "code",
   "execution_count": 29,
   "id": "e27c21c0-7fba-440b-a944-107b7f45bf2e",
   "metadata": {},
   "outputs": [
    {
     "data": {
      "text/plain": [
       "(0, 1, 4, 9, 16)"
      ]
     },
     "execution_count": 29,
     "metadata": {},
     "output_type": "execute_result"
    }
   ],
   "source": [
    "def generate_power_of_2(n):\n",
    "    powers_of_two_list=[i**2 for i in range(n)]\n",
    "    return tuple(powers_of_two_list)\n",
    "n=5\n",
    "generate_power_of_2(n)"
   ]
  },
  {
   "cell_type": "code",
   "execution_count": 30,
   "id": "0e4d1a0a-7008-4168-90eb-6f05171e248f",
   "metadata": {},
   "outputs": [
    {
     "data": {
      "text/plain": [
       "' 46. Find the longest string in a tuple of strings.'"
      ]
     },
     "execution_count": 30,
     "metadata": {},
     "output_type": "execute_result"
    }
   ],
   "source": [
    "\" 46. Find the longest string in a tuple of strings.\""
   ]
  },
  {
   "cell_type": "code",
   "execution_count": 35,
   "id": "51a85f65-8d78-4809-a388-8f2f70a73f2c",
   "metadata": {},
   "outputs": [
    {
     "name": "stdout",
     "output_type": "stream",
     "text": [
      "the longest word in a string is = water melon\n"
     ]
    }
   ],
   "source": [
    "def find_longest_word(tuple_string):\n",
    "    if not tuple_string:\n",
    "        return None\n",
    "    longest_string=tuple_string[0]\n",
    "    for string in tuple_string:\n",
    "        len(string)>len(longest_string)\n",
    "        longest_string=string\n",
    "    return longest_string\n",
    "tuple_string=(\"apple\",\"banana\",\"orange\",\"sita phal\",\"water melon\")\n",
    "longest=find_longest_word(tuple_string)\n",
    "print(\"the longest word in a string is =\",longest)        "
   ]
  },
  {
   "cell_type": "code",
   "execution_count": 36,
   "id": "0d967106-61a4-4355-b1a0-3843bd6505ad",
   "metadata": {},
   "outputs": [
    {
     "data": {
      "text/plain": [
       "' 47. Find the shortest string in a tuple of strings.'"
      ]
     },
     "execution_count": 36,
     "metadata": {},
     "output_type": "execute_result"
    }
   ],
   "source": [
    "\" 47. Find the shortest string in a tuple of strings.\""
   ]
  },
  {
   "cell_type": "code",
   "execution_count": 2,
   "id": "30d0757d-11aa-42f5-9fe2-62340b9ec5cb",
   "metadata": {},
   "outputs": [
    {
     "name": "stdout",
     "output_type": "stream",
     "text": [
      "the shortest string is apple\n"
     ]
    }
   ],
   "source": [
    "string_tuple=(\"apple\",\"banana\",\"watermelon\")\n",
    "shortest_tuple=min(string_tuple, key=len)\n",
    "print(\"the shortest string is\" ,shortest_tuple)"
   ]
  },
  {
   "cell_type": "code",
   "execution_count": 3,
   "id": "b6816856-0ca2-4aaf-9b8e-1154260d3499",
   "metadata": {},
   "outputs": [
    {
     "data": {
      "text/plain": [
       "'48. Create a tuple of the first `n` triangular numbers.'"
      ]
     },
     "execution_count": 3,
     "metadata": {},
     "output_type": "execute_result"
    }
   ],
   "source": [
    "\"48. Create a tuple of the first `n` triangular numbers.\""
   ]
  },
  {
   "cell_type": "code",
   "execution_count": 4,
   "id": "53bdafb7-69ec-4b1d-919c-0aef055d0dbb",
   "metadata": {},
   "outputs": [
    {
     "data": {
      "text/plain": [
       "(1, 3, 6, 10, 15)"
      ]
     },
     "execution_count": 4,
     "metadata": {},
     "output_type": "execute_result"
    }
   ],
   "source": [
    "def generate_triangular_number(n):\n",
    "    if n<0:\n",
    "        return None\n",
    "    triangular_number=[i*(i+1)//2 for i in range(1,n+1)]\n",
    "    return tuple(triangular_number)\n",
    "n=5\n",
    "generate_triangular_number(n)"
   ]
  },
  {
   "cell_type": "code",
   "execution_count": 5,
   "id": "f9b13b70-811c-4f98-90ac-b84f7bbb307f",
   "metadata": {},
   "outputs": [
    {
     "data": {
      "text/plain": [
       "' 49. Check if a tuple contains another tuple as a subsequence.'"
      ]
     },
     "execution_count": 5,
     "metadata": {},
     "output_type": "execute_result"
    }
   ],
   "source": [
    "\" 49. Check if a tuple contains another tuple as a subsequence.\""
   ]
  },
  {
   "cell_type": "code",
   "execution_count": 43,
   "id": "49ee1b7d-8024-4341-9d87-b9ac580d8489",
   "metadata": {},
   "outputs": [
    {
     "name": "stdout",
     "output_type": "stream",
     "text": [
      "The sub_tuple is a subsequence of the full_tuple.\n"
     ]
    }
   ],
   "source": [
    "def is_subsequence(sub, full):\n",
    "    i = 0\n",
    "    j = 0\n",
    "\n",
    "    while i < len(sub) and j < len(full):\n",
    "        if sub[i] == full[j]:\n",
    "            i += 1\n",
    "        j += 1\n",
    "\n",
    "    return i == len(sub)\n",
    "\n",
    "# Example usage:\n",
    "full_tuple = (1, 2, 3, 4, 5, 6, 7)\n",
    "sub_tuple = (2, 4, 6)\n",
    "\n",
    "if is_subsequence(sub_tuple, full_tuple):\n",
    "    print(\"The sub_tuple is a subsequence of the full_tuple.\")\n",
    "else:\n",
    "    print(\"The sub_tuple is not a subsequence of the full_tuple.\")"
   ]
  },
  {
   "cell_type": "code",
   "execution_count": 4,
   "id": "39e97799-6673-46c4-9dad-aa22f71d7727",
   "metadata": {},
   "outputs": [
    {
     "data": {
      "text/plain": [
       "' 50. Create a tuple of alternating 1s and 0s of length `n`. '"
      ]
     },
     "execution_count": 4,
     "metadata": {},
     "output_type": "execute_result"
    }
   ],
   "source": [
    "\" 50. Create a tuple of alternating 1s and 0s of length `n`. \""
   ]
  },
  {
   "cell_type": "code",
   "execution_count": 5,
   "id": "2119a28c-5d58-4ecf-83ea-4af1063b131c",
   "metadata": {},
   "outputs": [
    {
     "name": "stdout",
     "output_type": "stream",
     "text": [
      "(1, 0, 1, 0, 1, 0, 1, 0, 1, 0)\n"
     ]
    }
   ],
   "source": [
    "n=10\n",
    "alt_number=tuple([1 if i%2==0 else 0 for i in range(n)])\n",
    "print(alt_number)"
   ]
  },
  {
   "cell_type": "code",
   "execution_count": 6,
   "id": "150350ad-fedb-4f83-a652-5d5cb0cc8e89",
   "metadata": {},
   "outputs": [],
   "source": [
    "# Set Based Practice Problem :"
   ]
  },
  {
   "cell_type": "code",
   "execution_count": 7,
   "id": "0457a6a3-fd8e-48bd-a7ea-41e009a0d163",
   "metadata": {},
   "outputs": [
    {
     "data": {
      "text/plain": [
       "'1. Create a set with integers from 1 to 5.'"
      ]
     },
     "execution_count": 7,
     "metadata": {},
     "output_type": "execute_result"
    }
   ],
   "source": [
    "\"1. Create a set with integers from 1 to 5.\""
   ]
  },
  {
   "cell_type": "code",
   "execution_count": 8,
   "id": "786fd800-4282-4714-933d-0c022e3edb12",
   "metadata": {},
   "outputs": [
    {
     "name": "stdout",
     "output_type": "stream",
     "text": [
      "{1, 2, 3, 4, 5}\n"
     ]
    }
   ],
   "source": [
    "my_set={1,2,3,4,5}\n",
    "print(my_set)"
   ]
  },
  {
   "cell_type": "code",
   "execution_count": 9,
   "id": "320d1757-1969-4869-b6a7-43215f928ad9",
   "metadata": {},
   "outputs": [
    {
     "data": {
      "text/plain": [
       "'2. Add an element to a set.'"
      ]
     },
     "execution_count": 9,
     "metadata": {},
     "output_type": "execute_result"
    }
   ],
   "source": [
    "\"2. Add an element to a set.\""
   ]
  },
  {
   "cell_type": "code",
   "execution_count": 11,
   "id": "9132170b-4d16-41c2-b9c1-0e7b7371ba0f",
   "metadata": {},
   "outputs": [
    {
     "name": "stdout",
     "output_type": "stream",
     "text": [
      "{1, 2, 3, 4, 5, 6}\n"
     ]
    }
   ],
   "source": [
    "my_set.add(6)\n",
    "print(my_set)"
   ]
  },
  {
   "cell_type": "code",
   "execution_count": 12,
   "id": "69e9c281-71f8-440d-8a8e-b88a02ea47c3",
   "metadata": {},
   "outputs": [
    {
     "data": {
      "text/plain": [
       "'3. Remove an element from a set.'"
      ]
     },
     "execution_count": 12,
     "metadata": {},
     "output_type": "execute_result"
    }
   ],
   "source": [
    "\"3. Remove an element from a set.\""
   ]
  },
  {
   "cell_type": "code",
   "execution_count": 13,
   "id": "a200b0c6-ee4e-46b3-845a-11226a487cf9",
   "metadata": {},
   "outputs": [
    {
     "name": "stdout",
     "output_type": "stream",
     "text": [
      "{1, 2, 4, 5}\n"
     ]
    }
   ],
   "source": [
    "my_set2={1,2,3,4,5}\n",
    "my_set2.remove(3)\n",
    "print(my_set2)"
   ]
  },
  {
   "cell_type": "code",
   "execution_count": 14,
   "id": "7d90f641-d60e-4db7-9177-f670b77d72be",
   "metadata": {},
   "outputs": [
    {
     "data": {
      "text/plain": [
       "'4. Check if an element exists in a set.'"
      ]
     },
     "execution_count": 14,
     "metadata": {},
     "output_type": "execute_result"
    }
   ],
   "source": [
    "\"4. Check if an element exists in a set.\""
   ]
  },
  {
   "cell_type": "code",
   "execution_count": 15,
   "id": "0cf80f20-5cea-4c75-a13e-805db4f67222",
   "metadata": {},
   "outputs": [
    {
     "name": "stdout",
     "output_type": "stream",
     "text": [
      "3 exist in my set\n"
     ]
    }
   ],
   "source": [
    "my_set3={1,2,3,4,5}\n",
    "element_to_check=3\n",
    "if element_to_check in my_set3 :\n",
    "    print(f\"{element_to_check} exist in my set\")\n",
    "else:\n",
    "    print(f\"{element_to_check} does not exist in my set\")"
   ]
  },
  {
   "cell_type": "code",
   "execution_count": 16,
   "id": "12710cc6-4650-4475-b8da-744cc24b913b",
   "metadata": {},
   "outputs": [
    {
     "data": {
      "text/plain": [
       "'5. Find the length of a set without using the `len()` function.'"
      ]
     },
     "execution_count": 16,
     "metadata": {},
     "output_type": "execute_result"
    }
   ],
   "source": [
    "\"5. Find the length of a set without using the `len()` function.\""
   ]
  },
  {
   "cell_type": "code",
   "execution_count": 17,
   "id": "5a732d7d-28b8-4754-badc-8908ede5d944",
   "metadata": {},
   "outputs": [
    {
     "name": "stdout",
     "output_type": "stream",
     "text": [
      "7 element in my set \n"
     ]
    }
   ],
   "source": [
    "my_set4={1,2,3,4,5,6,7}\n",
    "count=0\n",
    "for element in my_set4:\n",
    "    count+=1\n",
    "print(f\"{count} element in my set \")"
   ]
  },
  {
   "cell_type": "code",
   "execution_count": 18,
   "id": "1aee3a5e-be2b-459a-b23f-147b497583b1",
   "metadata": {},
   "outputs": [
    {
     "data": {
      "text/plain": [
       "' 6. Clear all elements from a set. '"
      ]
     },
     "execution_count": 18,
     "metadata": {},
     "output_type": "execute_result"
    }
   ],
   "source": [
    "\" 6. Clear all elements from a set. \""
   ]
  },
  {
   "cell_type": "code",
   "execution_count": 19,
   "id": "d562647b-7f46-4339-a0c3-dfed111d137c",
   "metadata": {},
   "outputs": [
    {
     "name": "stdout",
     "output_type": "stream",
     "text": [
      "set()\n"
     ]
    }
   ],
   "source": [
    "my_set5={1,2,3,4,5}\n",
    "my_set5.clear()\n",
    "print(my_set5)"
   ]
  },
  {
   "cell_type": "code",
   "execution_count": 20,
   "id": "3e6e19f7-7e63-408b-9476-39b74e804e98",
   "metadata": {},
   "outputs": [
    {
     "data": {
      "text/plain": [
       "' 7. Create a set of even numbers from 1 to 10.'"
      ]
     },
     "execution_count": 20,
     "metadata": {},
     "output_type": "execute_result"
    }
   ],
   "source": [
    "\" 7. Create a set of even numbers from 1 to 10.\""
   ]
  },
  {
   "cell_type": "code",
   "execution_count": 42,
   "id": "0ef00974-361c-4082-9ffb-1b8274090187",
   "metadata": {},
   "outputs": [
    {
     "name": "stdout",
     "output_type": "stream",
     "text": [
      "{2, 4, 6, 8, 10}\n"
     ]
    }
   ],
   "source": [
    "n=10\n",
    "my_set=set()\n",
    "for i in range(1,n+1) :\n",
    "    if i%2==0:\n",
    "        my_set.add(i)\n",
    "print(my_set)"
   ]
  },
  {
   "cell_type": "code",
   "execution_count": 43,
   "id": "13e29fcd-ac7e-46ed-946b-98f509bd9fce",
   "metadata": {},
   "outputs": [
    {
     "data": {
      "text/plain": [
       "' 8. Create a set of odd numbers from 1 to 10.'"
      ]
     },
     "execution_count": 43,
     "metadata": {},
     "output_type": "execute_result"
    }
   ],
   "source": [
    "\" 8. Create a set of odd numbers from 1 to 10.\""
   ]
  },
  {
   "cell_type": "code",
   "execution_count": 46,
   "id": "cb3cd04f-8095-4550-97a8-c61a4d7d29d4",
   "metadata": {},
   "outputs": [
    {
     "name": "stdout",
     "output_type": "stream",
     "text": [
      "{1, 3, 5, 7, 9}\n"
     ]
    }
   ],
   "source": [
    "odd_set={x for x in range(1,11,2)}\n",
    "print(odd_set)"
   ]
  },
  {
   "cell_type": "code",
   "execution_count": 47,
   "id": "572bbaca-3f70-4db9-8a3c-fe4045bf0a4b",
   "metadata": {},
   "outputs": [
    {
     "data": {
      "text/plain": [
       "' 9. Find the union of two sets.'"
      ]
     },
     "execution_count": 47,
     "metadata": {},
     "output_type": "execute_result"
    }
   ],
   "source": [
    "\" 9. Find the union of two sets.\""
   ]
  },
  {
   "cell_type": "code",
   "execution_count": 48,
   "id": "af56602d-74ae-4e5b-aa6c-99e6cf0bac4c",
   "metadata": {},
   "outputs": [
    {
     "name": "stdout",
     "output_type": "stream",
     "text": [
      "{1, 2, 3, 4, 5, 6, 7, 8}\n"
     ]
    }
   ],
   "source": [
    "set1={1,2,3,4,5}\n",
    "set2={6,7,8}\n",
    "union_set=set1.union(set2)\n",
    "print(union_set)"
   ]
  },
  {
   "cell_type": "code",
   "execution_count": 49,
   "id": "113ff3dd-e86b-4072-bf2a-847c6252bd8d",
   "metadata": {},
   "outputs": [
    {
     "data": {
      "text/plain": [
       "' 10. Find the intersection of two sets.'"
      ]
     },
     "execution_count": 49,
     "metadata": {},
     "output_type": "execute_result"
    }
   ],
   "source": [
    "\" 10. Find the intersection of two sets.\""
   ]
  },
  {
   "cell_type": "code",
   "execution_count": 50,
   "id": "3834f068-c1a4-43be-a062-5bca2e642340",
   "metadata": {},
   "outputs": [
    {
     "name": "stdout",
     "output_type": "stream",
     "text": [
      "{3, 4, 5, 6}\n"
     ]
    }
   ],
   "source": [
    "set1={1,2,3,4,5,6}\n",
    "set2={3,4,5,6,7,8}\n",
    "intersesction_set=set1.intersection(set2)\n",
    "print(intersesction_set)"
   ]
  },
  {
   "cell_type": "code",
   "execution_count": 1,
   "id": "05f0e3d5-17ef-41f3-a535-e25b1fa3d0c7",
   "metadata": {},
   "outputs": [
    {
     "data": {
      "text/plain": [
       "'11. Find the difference between two sets.'"
      ]
     },
     "execution_count": 1,
     "metadata": {},
     "output_type": "execute_result"
    }
   ],
   "source": [
    "\"11. Find the difference between two sets.\""
   ]
  },
  {
   "cell_type": "code",
   "execution_count": 4,
   "id": "6f7ce2c4-9825-4155-b89a-2ec0a6f0f6c0",
   "metadata": {},
   "outputs": [
    {
     "name": "stdout",
     "output_type": "stream",
     "text": [
      "{1, 2}\n"
     ]
    }
   ],
   "source": [
    "set1={1,2,3,4,5}\n",
    "set2={3,4,5,6,7}\n",
    "difference_set=set1-set2\n",
    "print(difference_set)"
   ]
  },
  {
   "cell_type": "code",
   "execution_count": 5,
   "id": "8de4ae6d-8125-4269-851e-d8fc958fb2d6",
   "metadata": {},
   "outputs": [
    {
     "data": {
      "text/plain": [
       "' 12. Check if a set is a subset of another set.'"
      ]
     },
     "execution_count": 5,
     "metadata": {},
     "output_type": "execute_result"
    }
   ],
   "source": [
    "\" 12. Check if a set is a subset of another set.\""
   ]
  },
  {
   "cell_type": "code",
   "execution_count": 10,
   "id": "adff1dd6-d3af-4b00-9006-ac481f9ab9b0",
   "metadata": {},
   "outputs": [
    {
     "name": "stdout",
     "output_type": "stream",
     "text": [
      "True\n"
     ]
    }
   ],
   "source": [
    "set1={1,2,3,4,5,6,7,8}\n",
    "set2={2,4,6,8}\n",
    "is_subsset=set2.issubset(set1)\n",
    "print(is_subsset)"
   ]
  },
  {
   "cell_type": "code",
   "execution_count": 11,
   "id": "6c1d1498-c4c4-406a-8eb8-d81fffeb4002",
   "metadata": {},
   "outputs": [
    {
     "data": {
      "text/plain": [
       "'13. Check if a set is a superset of another set.'"
      ]
     },
     "execution_count": 11,
     "metadata": {},
     "output_type": "execute_result"
    }
   ],
   "source": [
    "\"13. Check if a set is a superset of another set.\""
   ]
  },
  {
   "cell_type": "code",
   "execution_count": 12,
   "id": "77fd5fd5-d946-4085-b150-f243cb19f9b4",
   "metadata": {},
   "outputs": [
    {
     "name": "stdout",
     "output_type": "stream",
     "text": [
      "True\n"
     ]
    }
   ],
   "source": [
    "set1={1,2,3,4,5,6,7,8}\n",
    "set2={2,4,6,8}\n",
    "is_superset=set1.issuperset(set2)\n",
    "print(is_superset)"
   ]
  },
  {
   "cell_type": "code",
   "execution_count": 13,
   "id": "1038199f-76f8-4d54-b15e-89bf1b3dcf4a",
   "metadata": {},
   "outputs": [
    {
     "data": {
      "text/plain": [
       "' 14. Create a set from a list.'"
      ]
     },
     "execution_count": 13,
     "metadata": {},
     "output_type": "execute_result"
    }
   ],
   "source": [
    " \" 14. Create a set from a list.\""
   ]
  },
  {
   "cell_type": "code",
   "execution_count": 14,
   "id": "f7e992db-f7ba-448c-888a-6adbe4b28180",
   "metadata": {},
   "outputs": [
    {
     "name": "stdout",
     "output_type": "stream",
     "text": [
      "{1, 2, 3, 4, 5}\n"
     ]
    }
   ],
   "source": [
    "my_list=[1,2,3,4,5]\n",
    "my_set=set(my_list)\n",
    "print(my_set)"
   ]
  },
  {
   "cell_type": "code",
   "execution_count": 15,
   "id": "77e31e93-5f9b-4be2-8b8f-d50996eae47e",
   "metadata": {},
   "outputs": [
    {
     "data": {
      "text/plain": [
       "'15. Convert a set to a list.'"
      ]
     },
     "execution_count": 15,
     "metadata": {},
     "output_type": "execute_result"
    }
   ],
   "source": [
    "\"15. Convert a set to a list.\""
   ]
  },
  {
   "cell_type": "code",
   "execution_count": 16,
   "id": "b27a2497-bc50-4711-bd14-208f7ab40c18",
   "metadata": {},
   "outputs": [
    {
     "name": "stdout",
     "output_type": "stream",
     "text": [
      "[1, 2, 3, 4, 5]\n"
     ]
    }
   ],
   "source": [
    "my_set={1,2,3,4,5}\n",
    "my_list=list(my_set)\n",
    "print(my_list)"
   ]
  },
  {
   "cell_type": "code",
   "execution_count": 17,
   "id": "6f754e12-8214-4907-82ec-919787143ff1",
   "metadata": {},
   "outputs": [
    {
     "data": {
      "text/plain": [
       "' 16. Remove a random element from a set.'"
      ]
     },
     "execution_count": 17,
     "metadata": {},
     "output_type": "execute_result"
    }
   ],
   "source": [
    "\" 16. Remove a random element from a set.\""
   ]
  },
  {
   "cell_type": "code",
   "execution_count": 26,
   "id": "40bdb528-1159-4aa6-a753-046cd8fa9db5",
   "metadata": {},
   "outputs": [
    {
     "name": "stdout",
     "output_type": "stream",
     "text": [
      "removed element : 1 \n",
      "updated set : {2, 3, 4, 5, 6}\n"
     ]
    }
   ],
   "source": [
    "my_set={1,2,3,4,5,6}\n",
    "new_set=my_set.pop()\n",
    "print(f\"removed element : {new_set} \")\n",
    "print(f\"updated set : {my_set}\")"
   ]
  },
  {
   "cell_type": "code",
   "execution_count": 27,
   "id": "802da540-71a0-4e6e-b04a-760223780726",
   "metadata": {},
   "outputs": [
    {
     "data": {
      "text/plain": [
       "'17. Pop an element from a set.'"
      ]
     },
     "execution_count": 27,
     "metadata": {},
     "output_type": "execute_result"
    }
   ],
   "source": [
    "\"17. Pop an element from a set.\""
   ]
  },
  {
   "cell_type": "code",
   "execution_count": 34,
   "id": "f33b4da1-8f63-4c6b-80bd-6a1814cc5533",
   "metadata": {},
   "outputs": [
    {
     "name": "stdout",
     "output_type": "stream",
     "text": [
      "popped element : 1\n",
      "updated set : {2, 3, 4, 5}\n"
     ]
    }
   ],
   "source": [
    "my_set={1,2,3,4,5}\n",
    "popped_element=my_set.pop()\n",
    "print(f\"popped element : {popped_element}\")\n",
    "print(f\"updated set : {my_set}\")"
   ]
  },
  {
   "cell_type": "code",
   "execution_count": 35,
   "id": "bd37908f-9a86-45d8-a570-16200d0e3616",
   "metadata": {},
   "outputs": [
    {
     "data": {
      "text/plain": [
       "'18. Check if two sets have no elements in common.'"
      ]
     },
     "execution_count": 35,
     "metadata": {},
     "output_type": "execute_result"
    }
   ],
   "source": [
    "\"18. Check if two sets have no elements in common.\""
   ]
  },
  {
   "cell_type": "code",
   "execution_count": 38,
   "id": "a40c963c-0f13-4a39-8da4-bb1a45d88b2b",
   "metadata": {},
   "outputs": [
    {
     "name": "stdout",
     "output_type": "stream",
     "text": [
      "True\n"
     ]
    }
   ],
   "source": [
    "set1={1,2,3}\n",
    "set2={4,5,6}\n",
    "no_common_element=set1.isdisjoint(set2)\n",
    "print(no_common_element)"
   ]
  },
  {
   "cell_type": "code",
   "execution_count": 39,
   "id": "ced357a1-78c3-4be5-9299-a7d61ad7f1da",
   "metadata": {},
   "outputs": [
    {
     "data": {
      "text/plain": [
       "'19. Find the symmetric difference between two sets.'"
      ]
     },
     "execution_count": 39,
     "metadata": {},
     "output_type": "execute_result"
    }
   ],
   "source": [
    "\"19. Find the symmetric difference between two sets.\""
   ]
  },
  {
   "cell_type": "code",
   "execution_count": 40,
   "id": "93688b5d-0d0c-491f-b16c-a8b92460ff43",
   "metadata": {},
   "outputs": [
    {
     "name": "stdout",
     "output_type": "stream",
     "text": [
      "{1, 2, 3, 6, 7, 8}\n"
     ]
    }
   ],
   "source": [
    "set1={1,2,3,4,5}\n",
    "set2={4,5,6,7,8}\n",
    "symmetric_difference=set1 ^ set2\n",
    "print(symmetric_difference)"
   ]
  },
  {
   "cell_type": "code",
   "execution_count": 41,
   "id": "33ec644a-66a6-4c8b-b024-b417c88de2c5",
   "metadata": {},
   "outputs": [
    {
     "data": {
      "text/plain": [
       "'20. Update a set with elements from another set.'"
      ]
     },
     "execution_count": 41,
     "metadata": {},
     "output_type": "execute_result"
    }
   ],
   "source": [
    "\"20. Update a set with elements from another set.\""
   ]
  },
  {
   "cell_type": "code",
   "execution_count": 42,
   "id": "dcf0264b-8d59-40f1-96dc-5a0e48a45304",
   "metadata": {},
   "outputs": [
    {
     "name": "stdout",
     "output_type": "stream",
     "text": [
      "{1, 2, 3, 4, 5, 6}\n"
     ]
    }
   ],
   "source": [
    "set1={1,2,3}\n",
    "set2={4,5,6}\n",
    "set1.update(set2)\n",
    "print(set1)"
   ]
  },
  {
   "cell_type": "code",
   "execution_count": 43,
   "id": "234da71f-12ad-4aae-8286-3c581ea14e19",
   "metadata": {},
   "outputs": [
    {
     "data": {
      "text/plain": [
       "'21. Create a set of the first 5 prime numbers.'"
      ]
     },
     "execution_count": 43,
     "metadata": {},
     "output_type": "execute_result"
    }
   ],
   "source": [
    "\"21. Create a set of the first 5 prime numbers.\""
   ]
  },
  {
   "cell_type": "code",
   "execution_count": 17,
   "id": "b6bba41c-534c-4fea-8379-cba0b93e73f7",
   "metadata": {},
   "outputs": [
    {
     "name": "stdout",
     "output_type": "stream",
     "text": [
      "{2, 3, 5, 7, 11}\n"
     ]
    }
   ],
   "source": [
    "def prime_number(n):\n",
    "    primes=[]\n",
    "    for i in range(2,n+1):\n",
    "        for j in range(2, int(i**0.5)+1):\n",
    "            if i%j==0:\n",
    "                break\n",
    "        else:\n",
    "            primes.append(i)\n",
    "    return set(primes)\n",
    "prime_set=prime_number(11)\n",
    "print(prime_set)"
   ]
  },
  {
   "cell_type": "code",
   "execution_count": 18,
   "id": "61193de7-6ff6-44e1-b7b4-c7a1a8a7b7cb",
   "metadata": {},
   "outputs": [
    {
     "data": {
      "text/plain": [
       "' 22. Check if two sets are identical.'"
      ]
     },
     "execution_count": 18,
     "metadata": {},
     "output_type": "execute_result"
    }
   ],
   "source": [
    "\" 22. Check if two sets are identical.\""
   ]
  },
  {
   "cell_type": "code",
   "execution_count": 20,
   "id": "04b362eb-cb50-4952-b21c-bf02b8cd4022",
   "metadata": {},
   "outputs": [
    {
     "name": "stdout",
     "output_type": "stream",
     "text": [
      "True\n"
     ]
    }
   ],
   "source": [
    "set1={1,2,3,4,5}\n",
    "set2={1,2,3,4,5}\n",
    "set_identical= set1==set2\n",
    "print(set_identical)"
   ]
  },
  {
   "cell_type": "code",
   "execution_count": 21,
   "id": "464bac6f-d8bc-4202-9f02-9e08596f3a17",
   "metadata": {},
   "outputs": [
    {
     "data": {
      "text/plain": [
       "' 23. Create a frozen set.'"
      ]
     },
     "execution_count": 21,
     "metadata": {},
     "output_type": "execute_result"
    }
   ],
   "source": [
    "\" 23. Create a frozen set.\""
   ]
  },
  {
   "cell_type": "code",
   "execution_count": 1,
   "id": "48016bc9-4e79-4a30-b2d6-08c7a7919b08",
   "metadata": {},
   "outputs": [
    {
     "name": "stdout",
     "output_type": "stream",
     "text": [
      "frozenset({1, 2, 3, 4})\n"
     ]
    }
   ],
   "source": [
    "my_set={1,2,3,4}\n",
    "my_set=frozenset(my_set)\n",
    "print(my_set)"
   ]
  },
  {
   "cell_type": "code",
   "execution_count": 2,
   "id": "e8206399-4188-49be-b27a-bcb12f3691ad",
   "metadata": {},
   "outputs": [
    {
     "data": {
      "text/plain": [
       "'24. Check if a set is disjoint with another set'"
      ]
     },
     "execution_count": 2,
     "metadata": {},
     "output_type": "execute_result"
    }
   ],
   "source": [
    "\"24. Check if a set is disjoint with another set\""
   ]
  },
  {
   "cell_type": "code",
   "execution_count": 5,
   "id": "66038917-bdb2-470c-b6d7-4b3a30113f9e",
   "metadata": {},
   "outputs": [
    {
     "name": "stdout",
     "output_type": "stream",
     "text": [
      "this set are disjoint (the set have no common element)\n"
     ]
    }
   ],
   "source": [
    "set1={1,2,3,4}\n",
    "set2={5,6,7,8}\n",
    "disjoint=set1.isdisjoint(set2)\n",
    "if disjoint:\n",
    "    print(\"this set are disjoint (the set have no common element)\")\n",
    "else:\n",
    "    print(\"the set have a common element\")"
   ]
  },
  {
   "cell_type": "code",
   "execution_count": 6,
   "id": "5b89e659-bcda-4bde-8318-9546343b6872",
   "metadata": {},
   "outputs": [
    {
     "data": {
      "text/plain": [
       "'25. Create a set of squares of numbers from 1 to 5.'"
      ]
     },
     "execution_count": 6,
     "metadata": {},
     "output_type": "execute_result"
    }
   ],
   "source": [
    "\"25. Create a set of squares of numbers from 1 to 5.\""
   ]
  },
  {
   "cell_type": "code",
   "execution_count": 8,
   "id": "7c6d7d6d-2eb5-440f-8935-ebcd4729fc2e",
   "metadata": {},
   "outputs": [
    {
     "name": "stdout",
     "output_type": "stream",
     "text": [
      "{1, 4, 9, 16, 25}\n"
     ]
    }
   ],
   "source": [
    "square_set={x**2 for x in range(1,6)}\n",
    "print(square_set)"
   ]
  },
  {
   "cell_type": "code",
   "execution_count": 9,
   "id": "af3401b1-6c3a-4c67-887e-d3c1cb20a638",
   "metadata": {},
   "outputs": [
    {
     "data": {
      "text/plain": [
       "'26. Filter out all even numbers from a set'"
      ]
     },
     "execution_count": 9,
     "metadata": {},
     "output_type": "execute_result"
    }
   ],
   "source": [
    "\"26. Filter out all even numbers from a set\""
   ]
  },
  {
   "cell_type": "code",
   "execution_count": 25,
   "id": "a58d5e67-bf9f-4620-af20-c49e57b739b4",
   "metadata": {},
   "outputs": [
    {
     "name": "stdout",
     "output_type": "stream",
     "text": [
      "{8, 2, 4, 6}\n"
     ]
    }
   ],
   "source": [
    "set1={1,2,3,4,5,6,7,8}\n",
    "even_set={x for x in set1 if x%2==0}\n",
    "print(even_set)"
   ]
  },
  {
   "cell_type": "code",
   "execution_count": 26,
   "id": "9300bb90-37cd-41db-be60-f1b3e1cdebf6",
   "metadata": {},
   "outputs": [
    {
     "data": {
      "text/plain": [
       "'27. Multiply all elements in a set by 2.'"
      ]
     },
     "execution_count": 26,
     "metadata": {},
     "output_type": "execute_result"
    }
   ],
   "source": [
    "\"27. Multiply all elements in a set by 2.\""
   ]
  },
  {
   "cell_type": "code",
   "execution_count": 32,
   "id": "019e6487-0bcc-4d4f-840b-372678668c0d",
   "metadata": {},
   "outputs": [
    {
     "name": "stdout",
     "output_type": "stream",
     "text": [
      "{2, 4, 6, 8, 10, 12, 14}\n"
     ]
    }
   ],
   "source": [
    "set1={1,2,3,4,5,6,7}\n",
    "multiply_by_2={x*2 for x in set1}\n",
    "print(multiply_by_2)"
   ]
  },
  {
   "cell_type": "code",
   "execution_count": 1,
   "id": "0186015d-d049-4be8-bdcc-1e4ae9b33e3a",
   "metadata": {},
   "outputs": [
    {
     "data": {
      "text/plain": [
       "'28. Create a set of random numbers.'"
      ]
     },
     "execution_count": 1,
     "metadata": {},
     "output_type": "execute_result"
    }
   ],
   "source": [
    "\"28. Create a set of random numbers.\""
   ]
  },
  {
   "cell_type": "code",
   "execution_count": 6,
   "id": "8db68698-9f2b-4af3-9fce-4734256d708d",
   "metadata": {},
   "outputs": [
    {
     "name": "stdin",
     "output_type": "stream",
     "text": [
      "enter a size 10\n",
      "enter a minimum number 1\n",
      "enter a maximum number 99\n"
     ]
    },
    {
     "name": "stdout",
     "output_type": "stream",
     "text": [
      "random set : {3, 68, 37, 8, 76, 15, 50, 25, 61, 94}\n"
     ]
    }
   ],
   "source": [
    "import random\n",
    "def random_set_number(size,minimum,maximum):\n",
    "    random_set=set()\n",
    "    while len(random_set)<size:\n",
    "        random_set.add(random.randint(minimum, maximum))\n",
    "    return random_set\n",
    "size = int(input(\"enter a size\"))\n",
    "minimum = int(input(\"enter a minimum number\"))\n",
    "maximum = int(input(\"enter a maximum number\"))\n",
    "result= random_set_number(size,minimum,maximum)\n",
    "print(\"random set :\" , result)"
   ]
  },
  {
   "cell_type": "code",
   "execution_count": 7,
   "id": "c7bc805a-1d1a-4c08-94c0-af566a291292",
   "metadata": {},
   "outputs": [
    {
     "data": {
      "text/plain": [
       "'29. Check if a set is empty'"
      ]
     },
     "execution_count": 7,
     "metadata": {},
     "output_type": "execute_result"
    }
   ],
   "source": [
    "\"29. Check if a set is empty\""
   ]
  },
  {
   "cell_type": "code",
   "execution_count": 11,
   "id": "c429d0d9-058f-4608-9802-a3a17664bfca",
   "metadata": {},
   "outputs": [
    {
     "name": "stdout",
     "output_type": "stream",
     "text": [
      "the set is empty\n"
     ]
    }
   ],
   "source": [
    "my_set = set()\n",
    "if len(my_set)==0:\n",
    "    print(\"the set is empty\")\n",
    "else:\n",
    "    print(\"the set is not empty\")"
   ]
  },
  {
   "cell_type": "code",
   "execution_count": 12,
   "id": "052d3058-f582-4ccb-ae19-bcc1a48fdedb",
   "metadata": {},
   "outputs": [
    {
     "data": {
      "text/plain": [
       "'30. Create a nested set (hint: use frozenset).'"
      ]
     },
     "execution_count": 12,
     "metadata": {},
     "output_type": "execute_result"
    }
   ],
   "source": [
    "\"30. Create a nested set (hint: use frozenset).\""
   ]
  },
  {
   "cell_type": "code",
   "execution_count": 15,
   "id": "297bac67-498b-47a7-9139-476ea648fb59",
   "metadata": {},
   "outputs": [
    {
     "name": "stdout",
     "output_type": "stream",
     "text": [
      "nested_set : {frozenset({1, 2, 3, 4}), frozenset({8, 5, 6, 7})}\n"
     ]
    }
   ],
   "source": [
    "set1 = frozenset({1,2,3,4})\n",
    "set2 = frozenset({5,6,7,8})\n",
    "nested_set = {set1,set2}\n",
    "print(\"nested_set :\" ,nested_set)"
   ]
  },
  {
   "cell_type": "code",
   "execution_count": 16,
   "id": "aede5eaa-930e-4feb-9b1b-43888bbe9369",
   "metadata": {},
   "outputs": [
    {
     "data": {
      "text/plain": [
       "'31. Remove an element from a set using the discard method.'"
      ]
     },
     "execution_count": 16,
     "metadata": {},
     "output_type": "execute_result"
    }
   ],
   "source": [
    "\"31. Remove an element from a set using the discard method.\""
   ]
  },
  {
   "cell_type": "code",
   "execution_count": 19,
   "id": "75c90ef5-d3a8-42bb-943f-8bd59ebafc8d",
   "metadata": {},
   "outputs": [
    {
     "name": "stdout",
     "output_type": "stream",
     "text": [
      "update set {1, 3, 4, 5}\n"
     ]
    }
   ],
   "source": [
    "set1={1,2,3,4,5}\n",
    "set1.discard(2)\n",
    "print(\"update set\",set1)"
   ]
  },
  {
   "cell_type": "code",
   "execution_count": 20,
   "id": "f4e26135-3340-4bc5-ae5d-a017a80d6fab",
   "metadata": {},
   "outputs": [
    {
     "data": {
      "text/plain": [
       "'32. Compare two sets.'"
      ]
     },
     "execution_count": 20,
     "metadata": {},
     "output_type": "execute_result"
    }
   ],
   "source": [
    "\"32. Compare two sets.\""
   ]
  },
  {
   "cell_type": "code",
   "execution_count": 1,
   "id": "795038a7-3bae-4ab8-bee9-689852356c0d",
   "metadata": {},
   "outputs": [
    {
     "name": "stdout",
     "output_type": "stream",
     "text": [
      "both set are not equal\n",
      "set2 is subset of set1\n",
      "set1 is superset of set2 \n",
      "both set have a comman element\n"
     ]
    }
   ],
   "source": [
    "set1 = {1,2,3,4,5}\n",
    "set2 = {3,4,5}\n",
    "if set1==set2:\n",
    "    print(\"both set are equal\")\n",
    "else :\n",
    "    print(\"both set are not equal\")\n",
    "    \n",
    "if set2.issubset(set1):\n",
    "    print(\"set2 is subset of set1\")\n",
    "else:\n",
    "    print(\"set2 is not a subset of set1\")\n",
    "    \n",
    "if set1.issuperset(set2):\n",
    "    print(\"set1 is superset of set2 \")\n",
    "else:\n",
    "    print(\"set1 is not a superser of set2\")\n",
    "    \n",
    "if set1.isdisjoint(set2):\n",
    "    print(\"both set have a no common element\")\n",
    "else:\n",
    "    print(\"both set have a comman element\")"
   ]
  },
  {
   "cell_type": "code",
   "execution_count": 2,
   "id": "90751c5d-3e32-4a4a-b604-63ad0745b661",
   "metadata": {},
   "outputs": [
    {
     "data": {
      "text/plain": [
       "'33. Create a set from a string.'"
      ]
     },
     "execution_count": 2,
     "metadata": {},
     "output_type": "execute_result"
    }
   ],
   "source": [
    "\"33. Create a set from a string.\""
   ]
  },
  {
   "cell_type": "code",
   "execution_count": 4,
   "id": "9390c18d-4979-498f-9227-2e8a9e462e35",
   "metadata": {},
   "outputs": [
    {
     "name": "stdout",
     "output_type": "stream",
     "text": [
      "{'l', 'o', 'h', 'e'}\n"
     ]
    }
   ],
   "source": [
    "string = \"hello\"\n",
    "my_set=set(string)\n",
    "print(my_set)"
   ]
  },
  {
   "cell_type": "code",
   "execution_count": 5,
   "id": "9bb64c11-4df4-4cdc-aaf0-e33063b4d6d4",
   "metadata": {},
   "outputs": [
    {
     "data": {
      "text/plain": [
       "'34. Convert a set of strings to a set of integers'"
      ]
     },
     "execution_count": 5,
     "metadata": {},
     "output_type": "execute_result"
    }
   ],
   "source": [
    "\"34. Convert a set of strings to a set of integers\""
   ]
  },
  {
   "cell_type": "code",
   "execution_count": 8,
   "id": "3d6f7cba-4961-42a0-9046-ab02cd8d91b0",
   "metadata": {},
   "outputs": [
    {
     "name": "stdout",
     "output_type": "stream",
     "text": [
      "{1, 2, 3, 4}\n"
     ]
    }
   ],
   "source": [
    "string_set={\"1\",\"2\",\"3\",\"4\"}\n",
    "set1=set()\n",
    "for string in string_set:\n",
    "    integer = int(string)\n",
    "    set1.add(integer)\n",
    "print(set1)"
   ]
  },
  {
   "cell_type": "code",
   "execution_count": 9,
   "id": "76e9dc47-84aa-4a88-b549-628b7282111c",
   "metadata": {},
   "outputs": [
    {
     "data": {
      "text/plain": [
       "'35. Convert a set of integers to a set of strings.'"
      ]
     },
     "execution_count": 9,
     "metadata": {},
     "output_type": "execute_result"
    }
   ],
   "source": [
    "\"35. Convert a set of integers to a set of strings.\""
   ]
  },
  {
   "cell_type": "code",
   "execution_count": 10,
   "id": "33a97e72-872b-4f44-9219-4dc42017f399",
   "metadata": {},
   "outputs": [
    {
     "name": "stdout",
     "output_type": "stream",
     "text": [
      "{'1', '5', '4', '2', '3', '6'}\n"
     ]
    }
   ],
   "source": [
    "integer_set={1,2,3,4,5,6}\n",
    "set1=set()\n",
    "for integer in integer_set:\n",
    "    string=str(integer)\n",
    "    set1.add(string)\n",
    "print(set1)"
   ]
  },
  {
   "cell_type": "code",
   "execution_count": 3,
   "id": "8510d0be-8df3-4e33-995a-e7a4fa64a089",
   "metadata": {},
   "outputs": [
    {
     "data": {
      "text/plain": [
       "'36. Create a set from a tuple.'"
      ]
     },
     "execution_count": 3,
     "metadata": {},
     "output_type": "execute_result"
    }
   ],
   "source": [
    "\"36. Create a set from a tuple.\""
   ]
  },
  {
   "cell_type": "code",
   "execution_count": 2,
   "id": "1e047d18-5988-4c1f-9ea5-f0c60a81bed6",
   "metadata": {},
   "outputs": [
    {
     "name": "stdout",
     "output_type": "stream",
     "text": [
      "{1, 2, 3, 4, 5}\n"
     ]
    }
   ],
   "source": [
    "my_tuple=(1,2,3,4,5)\n",
    "my_set=set(my_tuple)\n",
    "print(my_set)"
   ]
  },
  {
   "cell_type": "code",
   "execution_count": 4,
   "id": "65d486e1-91b8-43a2-906c-48412ea65b3d",
   "metadata": {},
   "outputs": [
    {
     "data": {
      "text/plain": [
       "'37. Convert a set to a tuple'"
      ]
     },
     "execution_count": 4,
     "metadata": {},
     "output_type": "execute_result"
    }
   ],
   "source": [
    "\"37. Convert a set to a tuple\""
   ]
  },
  {
   "cell_type": "code",
   "execution_count": 5,
   "id": "1fe8954b-90b8-45fe-b01f-4dd2c695da32",
   "metadata": {},
   "outputs": [
    {
     "name": "stdout",
     "output_type": "stream",
     "text": [
      "(1, 2, 3, 4, 5)\n"
     ]
    }
   ],
   "source": [
    "set1={1,2,3,4,5}\n",
    "my_tuple=tuple(set1)\n",
    "print(my_tuple)"
   ]
  },
  {
   "cell_type": "code",
   "execution_count": 6,
   "id": "33699d67-9767-40a2-886b-83e5ceb9c5b0",
   "metadata": {},
   "outputs": [
    {
     "data": {
      "text/plain": [
       "'38. Find the maximum value in a set.'"
      ]
     },
     "execution_count": 6,
     "metadata": {},
     "output_type": "execute_result"
    }
   ],
   "source": [
    "\"38. Find the maximum value in a set.\""
   ]
  },
  {
   "cell_type": "code",
   "execution_count": 8,
   "id": "dd54db24-81e0-478f-8dc1-e1183d061147",
   "metadata": {},
   "outputs": [
    {
     "name": "stdout",
     "output_type": "stream",
     "text": [
      "45\n"
     ]
    }
   ],
   "source": [
    "set1={1,2,3,4,5,45,6,7,8}\n",
    "max_value=max(set1)\n",
    "print(max_value)"
   ]
  },
  {
   "cell_type": "code",
   "execution_count": 9,
   "id": "8436153d-4c68-4ea3-949b-dbe8835002b7",
   "metadata": {},
   "outputs": [
    {
     "data": {
      "text/plain": [
       "'39. Find the minimum value in a set.'"
      ]
     },
     "execution_count": 9,
     "metadata": {},
     "output_type": "execute_result"
    }
   ],
   "source": [
    "\"39. Find the minimum value in a set.\""
   ]
  },
  {
   "cell_type": "code",
   "execution_count": 11,
   "id": "f0c479a3-83ef-41b7-a85a-43edf392709d",
   "metadata": {},
   "outputs": [
    {
     "name": "stdout",
     "output_type": "stream",
     "text": [
      "1\n"
     ]
    }
   ],
   "source": [
    "set1={6,3,7,2,7,2,1,6,4,65}\n",
    "min_value=min(set1)\n",
    "print(min_value)"
   ]
  },
  {
   "cell_type": "code",
   "execution_count": 14,
   "id": "2fbde49e-c582-4b62-81aa-9a30480aec8f",
   "metadata": {},
   "outputs": [
    {
     "data": {
      "text/plain": [
       "'40. Create a set from user input.'"
      ]
     },
     "execution_count": 14,
     "metadata": {},
     "output_type": "execute_result"
    }
   ],
   "source": [
    "\"40. Create a set from user input.\""
   ]
  },
  {
   "cell_type": "code",
   "execution_count": 13,
   "id": "2f819433-483c-492e-bb67-a692bcf8f39e",
   "metadata": {},
   "outputs": [
    {
     "name": "stdin",
     "output_type": "stream",
     "text": [
      "enter a element sepereted by comma 1,2,3,4,5\n"
     ]
    },
    {
     "name": "stdout",
     "output_type": "stream",
     "text": [
      "{'3', '2', '1', '4', '5'}\n"
     ]
    }
   ],
   "source": [
    "user_input=input(\"enter a element sepereted by comma\")\n",
    "elements=user_input.split(',')\n",
    "user_set=set(elements)\n",
    "print(user_set)"
   ]
  },
  {
   "cell_type": "code",
   "execution_count": 1,
   "id": "b677e3c4-22c0-40c7-a97d-c90ef6bb057a",
   "metadata": {},
   "outputs": [
    {
     "data": {
      "text/plain": [
       "'41. Check if the intersection of two sets is empty.'"
      ]
     },
     "execution_count": 1,
     "metadata": {},
     "output_type": "execute_result"
    }
   ],
   "source": [
    "\"41. Check if the intersection of two sets is empty.\""
   ]
  },
  {
   "cell_type": "code",
   "execution_count": 2,
   "id": "28587843-84fe-409c-ac07-7da82ca39c2c",
   "metadata": {},
   "outputs": [
    {
     "name": "stdout",
     "output_type": "stream",
     "text": [
      "the intersection is not empty\n"
     ]
    }
   ],
   "source": [
    "set1={1,2,3,4,5}\n",
    "set2={4,5,6,7,8}\n",
    "if not set1.intersection(set2):\n",
    "    print(\"the intersection is empty\")\n",
    "else:\n",
    "    print(\"the intersection is not empty\")"
   ]
  },
  {
   "cell_type": "code",
   "execution_count": 3,
   "id": "a68d3977-ed09-4482-a89c-18b5777be440",
   "metadata": {},
   "outputs": [
    {
     "data": {
      "text/plain": [
       "'42. Create a set of the first 5 Fibonacci numbers.'"
      ]
     },
     "execution_count": 3,
     "metadata": {},
     "output_type": "execute_result"
    }
   ],
   "source": [
    "\"42. Create a set of the first 5 Fibonacci numbers.\""
   ]
  },
  {
   "cell_type": "code",
   "execution_count": 10,
   "id": "3cb63f8a-6154-428f-a839-cab5d7c96d6d",
   "metadata": {},
   "outputs": [
    {
     "name": "stdout",
     "output_type": "stream",
     "text": [
      "{1, 2, 3, 5, 8}\n"
     ]
    }
   ],
   "source": [
    "def generate_fibonacci(n):\n",
    "    fibonacci_set=set()\n",
    "    a,b=1,1\n",
    "    for _ in range(n):\n",
    "        fibonacci_set.add(b)\n",
    "        a,b = b, a+b\n",
    "    return fibonacci_set\n",
    "result=generate_fibonacci(5)\n",
    "print(result)\n",
    "        "
   ]
  },
  {
   "cell_type": "code",
   "execution_count": 11,
   "id": "fde86a68-a985-4175-bbae-b3796ef0f740",
   "metadata": {},
   "outputs": [
    {
     "data": {
      "text/plain": [
       "'43. Remove duplicates from a list using sets.'"
      ]
     },
     "execution_count": 11,
     "metadata": {},
     "output_type": "execute_result"
    }
   ],
   "source": [
    "\"43. Remove duplicates from a list using sets.\""
   ]
  },
  {
   "cell_type": "code",
   "execution_count": 12,
   "id": "78952448-ec88-4b2c-85ad-38f87e0aa947",
   "metadata": {},
   "outputs": [
    {
     "name": "stdout",
     "output_type": "stream",
     "text": [
      "{1, 2, 3, 4, 5}\n"
     ]
    }
   ],
   "source": [
    "my_list=[1,1,2,2,3,3,4,4,5,5]\n",
    "my_set=set(my_list)\n",
    "print(my_set)"
   ]
  },
  {
   "cell_type": "code",
   "execution_count": 13,
   "id": "9cbd3805-ffa8-4c9e-8db7-ef44b9145fc0",
   "metadata": {},
   "outputs": [
    {
     "data": {
      "text/plain": [
       "'44. Check if two sets have the same elements, regardless of their count.'"
      ]
     },
     "execution_count": 13,
     "metadata": {},
     "output_type": "execute_result"
    }
   ],
   "source": [
    "\"44. Check if two sets have the same elements, regardless of their count.\""
   ]
  },
  {
   "cell_type": "code",
   "execution_count": 14,
   "id": "5c330c62-6708-4296-931f-11aea88493f6",
   "metadata": {},
   "outputs": [
    {
     "name": "stdout",
     "output_type": "stream",
     "text": [
      "both set have a common element\n"
     ]
    }
   ],
   "source": [
    "set1={1,2,3,4,5}\n",
    "set2={5,4,3,1,2}\n",
    "if set1==set2:\n",
    "    print(\"both set have a common element\")\n",
    "else:\n",
    "    print(\"no common element\")"
   ]
  },
  {
   "cell_type": "code",
   "execution_count": 15,
   "id": "024b76b6-91ef-456f-a36f-11a51fce4961",
   "metadata": {},
   "outputs": [
    {
     "data": {
      "text/plain": [
       "'45. Create a set of the first `n` powers of 2.'"
      ]
     },
     "execution_count": 15,
     "metadata": {},
     "output_type": "execute_result"
    }
   ],
   "source": [
    "\"45. Create a set of the first `n` powers of 2.\""
   ]
  },
  {
   "cell_type": "code",
   "execution_count": 27,
   "id": "e749b2da-8515-4601-8bdc-249b5730dc4d",
   "metadata": {},
   "outputs": [
    {
     "name": "stdout",
     "output_type": "stream",
     "text": [
      "{0, 1, 4, 9, 16}\n"
     ]
    }
   ],
   "source": [
    "def generate_powers_of_2(n):\n",
    "    powers_of_2_set = set()\n",
    "    for i in range(n):\n",
    "        i=i**2\n",
    "        powers_of_2_set.add(i)\n",
    "    return powers_of_2_set\n",
    "\n",
    "powers_set = generate_powers_of_2(5)\n",
    "\n",
    "print(powers_set)"
   ]
  },
  {
   "cell_type": "code",
   "execution_count": 28,
   "id": "d6d3738a-6bb3-4b9b-9941-8b34f1a7b444",
   "metadata": {},
   "outputs": [
    {
     "data": {
      "text/plain": [
       "'46. Find the common elements between a set and a list.'"
      ]
     },
     "execution_count": 28,
     "metadata": {},
     "output_type": "execute_result"
    }
   ],
   "source": [
    "\"46. Find the common elements between a set and a list.\""
   ]
  },
  {
   "cell_type": "code",
   "execution_count": 29,
   "id": "386cd4e9-70b9-4c64-a7cc-7ed1eddb1ca6",
   "metadata": {},
   "outputs": [
    {
     "name": "stdout",
     "output_type": "stream",
     "text": [
      "[4, 5, 6]\n"
     ]
    }
   ],
   "source": [
    "my_set={1,2,3,4,5,6}\n",
    "my_list=[4,5,6,7,8]\n",
    "common_element=my_set.intersection(my_list)\n",
    "common_element_list=list(common_element)\n",
    "print(common_element_list)"
   ]
  },
  {
   "cell_type": "code",
   "execution_count": 30,
   "id": "cea25233-9731-4a3a-9cb6-657e84598cf1",
   "metadata": {},
   "outputs": [
    {
     "data": {
      "text/plain": [
       "'47. Create a set of the first `n` triangular numbers.'"
      ]
     },
     "execution_count": 30,
     "metadata": {},
     "output_type": "execute_result"
    }
   ],
   "source": [
    "\"47. Create a set of the first `n` triangular numbers.\""
   ]
  },
  {
   "cell_type": "code",
   "execution_count": 31,
   "id": "aa46dbce-e2a1-445e-bbbe-8039e9b37c37",
   "metadata": {},
   "outputs": [
    {
     "name": "stdout",
     "output_type": "stream",
     "text": [
      "{1, 3, 6, 10, 15, 21, 28}\n"
     ]
    }
   ],
   "source": [
    "def generate_triangular_number(n):\n",
    "    triangular_set=set()\n",
    "    total=0\n",
    "    for i in range(1,n+1):\n",
    "        total += i\n",
    "        triangular_set.add(total)\n",
    "    return triangular_set\n",
    "\n",
    "triangular_set=generate_triangular_number(7)\n",
    "print(triangular_set)"
   ]
  },
  {
   "cell_type": "code",
   "execution_count": 32,
   "id": "0d43a810-8cd8-491a-bda5-ca1b800551e9",
   "metadata": {},
   "outputs": [
    {
     "data": {
      "text/plain": [
       "'48. Check if a set contains another set as a subset.'"
      ]
     },
     "execution_count": 32,
     "metadata": {},
     "output_type": "execute_result"
    }
   ],
   "source": [
    "\"48. Check if a set contains another set as a subset.\""
   ]
  },
  {
   "cell_type": "code",
   "execution_count": 33,
   "id": "c861082d-e15e-4205-ac69-d57609c15109",
   "metadata": {},
   "outputs": [
    {
     "name": "stdout",
     "output_type": "stream",
     "text": [
      "set2 is a subset of set1\n"
     ]
    }
   ],
   "source": [
    "set1={1,2,3,4,5,6}\n",
    "set2={3,4,5}\n",
    "if set2.issubset(set1):\n",
    "    print(\"set2 is a subset of set1\")\n",
    "else:\n",
    "    print(\"set2 is not a subset set1\")"
   ]
  },
  {
   "cell_type": "code",
   "execution_count": 34,
   "id": "545717cb-b513-4353-95bd-972e81c07a57",
   "metadata": {},
   "outputs": [
    {
     "data": {
      "text/plain": [
       "'49. Create a set of alternating 1s and 0s of length `n`.'"
      ]
     },
     "execution_count": 34,
     "metadata": {},
     "output_type": "execute_result"
    }
   ],
   "source": [
    "\"49. Create a set of alternating 1s and 0s of length `n`.\""
   ]
  },
  {
   "cell_type": "code",
   "execution_count": 39,
   "id": "4568004d-fc61-4105-8f72-3b2022bec617",
   "metadata": {},
   "outputs": [
    {
     "name": "stdout",
     "output_type": "stream",
     "text": [
      "{0, 1}\n"
     ]
    }
   ],
   "source": [
    "def generating_alternate_set(n):\n",
    "    alternate_set=set()\n",
    "    for i in range(n):\n",
    "        i=i%2\n",
    "        alternate_set.add(i)\n",
    "    return alternate_set\n",
    "n=10\n",
    "alternate_set=generating_alternate_set(n)\n",
    "print(alternate_set)"
   ]
  },
  {
   "cell_type": "code",
   "execution_count": 41,
   "id": "d32b18a4-95f7-445e-b16c-03fdf4f6fe86",
   "metadata": {},
   "outputs": [
    {
     "data": {
      "text/plain": [
       "'50. Merge multiple sets into one.'"
      ]
     },
     "execution_count": 41,
     "metadata": {},
     "output_type": "execute_result"
    }
   ],
   "source": [
    "\"50. Merge multiple sets into one.\""
   ]
  },
  {
   "cell_type": "code",
   "execution_count": 42,
   "id": "ce2cb74c-4234-417c-8d3d-ec9c8ca25929",
   "metadata": {},
   "outputs": [
    {
     "name": "stdout",
     "output_type": "stream",
     "text": [
      "{1, 2, 3, 4, 5, 6, 7, 8, 9}\n"
     ]
    }
   ],
   "source": [
    "set1={1,2,3}\n",
    "set2={4,5,6}\n",
    "set3={7,8,9}\n",
    "merge_set=set1.union(set2,set3)\n",
    "print(merge_set)"
   ]
  },
  {
   "cell_type": "code",
   "execution_count": null,
   "id": "ab2765f3-a294-4f17-bdac-2ebdc7e9aa45",
   "metadata": {},
   "outputs": [],
   "source": []
  }
 ],
 "metadata": {
  "kernelspec": {
   "display_name": "Python 3 (ipykernel)",
   "language": "python",
   "name": "python3"
  },
  "language_info": {
   "codemirror_mode": {
    "name": "ipython",
    "version": 3
   },
   "file_extension": ".py",
   "mimetype": "text/x-python",
   "name": "python",
   "nbconvert_exporter": "python",
   "pygments_lexer": "ipython3",
   "version": "3.10.8"
  }
 },
 "nbformat": 4,
 "nbformat_minor": 5
}
